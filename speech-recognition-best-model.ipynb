{
 "cells": [
  {
   "cell_type": "markdown",
   "metadata": {},
   "source": [
    "# TensorFlow Speech Recognition Challenge Code\n",
    "### Table of Contents:\n",
    "1. [Imports](#imports)\n",
    "2. [Read data](#readdata)\n",
    "3. [Clean/augment wav files](#clean)\n",
    "4. [Create spectrograms](#specgrams)\n",
    "5. [Set class weights](#weights)\n",
    "6. [Train CNN](#cnn)\n",
    "7. [Predict on test files](#predict)"
   ]
  },
  {
   "cell_type": "markdown",
   "metadata": {},
   "source": [
    "<a id=\"imports\"></a>\n",
    "## 1. Imports"
   ]
  },
  {
   "cell_type": "code",
   "execution_count": 2,
   "metadata": {},
   "outputs": [],
   "source": [
    "import pandas as pd\n",
    "import numpy as np\n",
    "import glob\n",
    "import scipy\n",
    "import matplotlib.pyplot as plt\n",
    "import re\n",
    "import os\n",
    "import librosa\n",
    "import IPython.display as ipd\n",
    "import librosa.display\n",
    "%matplotlib inline"
   ]
  },
  {
   "cell_type": "markdown",
   "metadata": {},
   "source": [
    "<a id=\"readdata\"></a>\n",
    "## 2. Read pickled DataFrames"
   ]
  },
  {
   "cell_type": "code",
   "execution_count": 3,
   "metadata": {},
   "outputs": [],
   "source": [
    "POSSIBLE_LABELS = 'yes no up down left right on off stop go unknown silence'.split()\n",
    "id2name = {i: name for i, name in enumerate(POSSIBLE_LABELS)}\n",
    "name2id = {name: i for i, name in id2name.items()}"
   ]
  },
  {
   "cell_type": "code",
   "execution_count": 4,
   "metadata": {},
   "outputs": [],
   "source": [
    "train_df = pd.read_pickle('train_df_dec10.pkl')"
   ]
  },
  {
   "cell_type": "code",
   "execution_count": 5,
   "metadata": {},
   "outputs": [],
   "source": [
    "valid_df = pd.read_pickle('valid_df_dec10.pkl')"
   ]
  },
  {
   "cell_type": "code",
   "execution_count": 6,
   "metadata": {},
   "outputs": [
    {
     "data": {
      "text/html": [
       "<div>\n",
       "<style scoped>\n",
       "    .dataframe tbody tr th:only-of-type {\n",
       "        vertical-align: middle;\n",
       "    }\n",
       "\n",
       "    .dataframe tbody tr th {\n",
       "        vertical-align: top;\n",
       "    }\n",
       "\n",
       "    .dataframe thead th {\n",
       "        text-align: right;\n",
       "    }\n",
       "</style>\n",
       "<table border=\"1\" class=\"dataframe\">\n",
       "  <thead>\n",
       "    <tr style=\"text-align: right;\">\n",
       "      <th></th>\n",
       "      <th>label</th>\n",
       "      <th>label_id</th>\n",
       "      <th>user_id</th>\n",
       "      <th>wav_file</th>\n",
       "      <th>sound</th>\n",
       "    </tr>\n",
       "  </thead>\n",
       "  <tbody>\n",
       "    <tr>\n",
       "      <th>0</th>\n",
       "      <td>left</td>\n",
       "      <td>4</td>\n",
       "      <td>cb8f8307</td>\n",
       "      <td>train/audio/left/cb8f8307_nohash_1.wav</td>\n",
       "      <td>[-7, 21, -10, 6, -13, 7, 15, -23, 14, -12, 29,...</td>\n",
       "    </tr>\n",
       "  </tbody>\n",
       "</table>\n",
       "</div>"
      ],
      "text/plain": [
       "  label label_id   user_id                                wav_file  \\\n",
       "0  left        4  cb8f8307  train/audio/left/cb8f8307_nohash_1.wav   \n",
       "\n",
       "                                               sound  \n",
       "0  [-7, 21, -10, 6, -13, 7, 15, -23, 14, -12, 29,...  "
      ]
     },
     "execution_count": 6,
     "metadata": {},
     "output_type": "execute_result"
    }
   ],
   "source": [
    "train_df.head(1)"
   ]
  },
  {
   "cell_type": "code",
   "execution_count": 7,
   "metadata": {},
   "outputs": [
    {
     "data": {
      "text/html": [
       "<div>\n",
       "<style scoped>\n",
       "    .dataframe tbody tr th:only-of-type {\n",
       "        vertical-align: middle;\n",
       "    }\n",
       "\n",
       "    .dataframe tbody tr th {\n",
       "        vertical-align: top;\n",
       "    }\n",
       "\n",
       "    .dataframe thead th {\n",
       "        text-align: right;\n",
       "    }\n",
       "</style>\n",
       "<table border=\"1\" class=\"dataframe\">\n",
       "  <thead>\n",
       "    <tr style=\"text-align: right;\">\n",
       "      <th></th>\n",
       "      <th>label</th>\n",
       "      <th>label_id</th>\n",
       "      <th>user_id</th>\n",
       "      <th>wav_file</th>\n",
       "      <th>sound</th>\n",
       "    </tr>\n",
       "  </thead>\n",
       "  <tbody>\n",
       "    <tr>\n",
       "      <th>65122</th>\n",
       "      <td>silence</td>\n",
       "      <td>11</td>\n",
       "      <td>running</td>\n",
       "      <td>train/audio/_background_noise_/running_tap.wav</td>\n",
       "      <td>[-4884, -1366, 1058, 2169, -2183, 1213, 2858, ...</td>\n",
       "    </tr>\n",
       "  </tbody>\n",
       "</table>\n",
       "</div>"
      ],
      "text/plain": [
       "         label label_id  user_id  \\\n",
       "65122  silence       11  running   \n",
       "\n",
       "                                             wav_file  \\\n",
       "65122  train/audio/_background_noise_/running_tap.wav   \n",
       "\n",
       "                                                   sound  \n",
       "65122  [-4884, -1366, 1058, 2169, -2183, 1213, 2858, ...  "
      ]
     },
     "execution_count": 7,
     "metadata": {},
     "output_type": "execute_result"
    }
   ],
   "source": [
    "train_df.tail(1)"
   ]
  },
  {
   "cell_type": "code",
   "execution_count": 8,
   "metadata": {},
   "outputs": [
    {
     "data": {
      "text/html": [
       "<div>\n",
       "<style scoped>\n",
       "    .dataframe tbody tr th:only-of-type {\n",
       "        vertical-align: middle;\n",
       "    }\n",
       "\n",
       "    .dataframe tbody tr th {\n",
       "        vertical-align: top;\n",
       "    }\n",
       "\n",
       "    .dataframe thead th {\n",
       "        text-align: right;\n",
       "    }\n",
       "</style>\n",
       "<table border=\"1\" class=\"dataframe\">\n",
       "  <thead>\n",
       "    <tr style=\"text-align: right;\">\n",
       "      <th></th>\n",
       "      <th>label</th>\n",
       "      <th>label_id</th>\n",
       "      <th>user_id</th>\n",
       "      <th>wav_file</th>\n",
       "    </tr>\n",
       "  </thead>\n",
       "  <tbody>\n",
       "    <tr>\n",
       "      <th>0</th>\n",
       "      <td>left</td>\n",
       "      <td>4</td>\n",
       "      <td>471a0925</td>\n",
       "      <td>train/audio/left/471a0925_nohash_4.wav</td>\n",
       "    </tr>\n",
       "  </tbody>\n",
       "</table>\n",
       "</div>"
      ],
      "text/plain": [
       "  label  label_id   user_id                                wav_file\n",
       "0  left         4  471a0925  train/audio/left/471a0925_nohash_4.wav"
      ]
     },
     "execution_count": 8,
     "metadata": {},
     "output_type": "execute_result"
    }
   ],
   "source": [
    "valid_df.head(1)"
   ]
  },
  {
   "cell_type": "markdown",
   "metadata": {},
   "source": [
    "<a id=\"clean\"></a>\n",
    "## 3. Clean/augment wav files\n",
    "\n",
    "### Make sure all wavs are exactly 1 sec"
   ]
  },
  {
   "cell_type": "code",
   "execution_count": 10,
   "metadata": {},
   "outputs": [],
   "source": [
    "def resize_wavs(x):\n",
    "    length = len(x)\n",
    "    # if shorter than 16k, pad with zeros\n",
    "    if length < 16000:\n",
    "        diff = 16000-length\n",
    "        ind = np.random.randint(0, diff)\n",
    "        x = np.pad(x, (ind, 16000-(ind+length)), \"constant\")\n",
    "    # if longer than 16k, chop off end\n",
    "    elif length > 16000:\n",
    "        x = x[:16000]\n",
    "    return x"
   ]
  },
  {
   "cell_type": "code",
   "execution_count": 11,
   "metadata": {},
   "outputs": [],
   "source": [
    "train_df[\"sound2\"] = train_df.sound.apply(resize_wavs)"
   ]
  },
  {
   "cell_type": "code",
   "execution_count": 12,
   "metadata": {},
   "outputs": [
    {
     "data": {
      "text/html": [
       "<div>\n",
       "<style scoped>\n",
       "    .dataframe tbody tr th:only-of-type {\n",
       "        vertical-align: middle;\n",
       "    }\n",
       "\n",
       "    .dataframe tbody tr th {\n",
       "        vertical-align: top;\n",
       "    }\n",
       "\n",
       "    .dataframe thead th {\n",
       "        text-align: right;\n",
       "    }\n",
       "</style>\n",
       "<table border=\"1\" class=\"dataframe\">\n",
       "  <thead>\n",
       "    <tr style=\"text-align: right;\">\n",
       "      <th></th>\n",
       "      <th>label</th>\n",
       "      <th>label_id</th>\n",
       "      <th>user_id</th>\n",
       "      <th>wav_file</th>\n",
       "      <th>sound</th>\n",
       "      <th>sound2</th>\n",
       "    </tr>\n",
       "  </thead>\n",
       "  <tbody>\n",
       "    <tr>\n",
       "      <th>0</th>\n",
       "      <td>left</td>\n",
       "      <td>4</td>\n",
       "      <td>cb8f8307</td>\n",
       "      <td>train/audio/left/cb8f8307_nohash_1.wav</td>\n",
       "      <td>[-7, 21, -10, 6, -13, 7, 15, -23, 14, -12, 29,...</td>\n",
       "      <td>[-7, 21, -10, 6, -13, 7, 15, -23, 14, -12, 29,...</td>\n",
       "    </tr>\n",
       "  </tbody>\n",
       "</table>\n",
       "</div>"
      ],
      "text/plain": [
       "  label label_id   user_id                                wav_file  \\\n",
       "0  left        4  cb8f8307  train/audio/left/cb8f8307_nohash_1.wav   \n",
       "\n",
       "                                               sound  \\\n",
       "0  [-7, 21, -10, 6, -13, 7, 15, -23, 14, -12, 29,...   \n",
       "\n",
       "                                              sound2  \n",
       "0  [-7, 21, -10, 6, -13, 7, 15, -23, 14, -12, 29,...  "
      ]
     },
     "execution_count": 12,
     "metadata": {},
     "output_type": "execute_result"
    }
   ],
   "source": [
    "train_df.head(1)"
   ]
  },
  {
   "cell_type": "markdown",
   "metadata": {},
   "source": [
    "### Waves/labels to lists, separate silence files (for now)"
   ]
  },
  {
   "cell_type": "code",
   "execution_count": 13,
   "metadata": {},
   "outputs": [],
   "source": [
    "sound2 = list(train_df.sound2)\n",
    "label_id = list(train_df.label_id)"
   ]
  },
  {
   "cell_type": "code",
   "execution_count": 14,
   "metadata": {},
   "outputs": [],
   "source": [
    "silences = list(train_df[train_df.label_id == 11].sound2)"
   ]
  },
  {
   "cell_type": "code",
   "execution_count": 15,
   "metadata": {},
   "outputs": [
    {
     "data": {
      "text/plain": [
       "7200"
      ]
     },
     "execution_count": 15,
     "metadata": {},
     "output_type": "execute_result"
    }
   ],
   "source": [
    "len(silences)"
   ]
  },
  {
   "cell_type": "markdown",
   "metadata": {},
   "source": [
    "### Double non-silence training data by smushing, stretching, or adding noise to clips"
   ]
  },
  {
   "cell_type": "code",
   "execution_count": 16,
   "metadata": {},
   "outputs": [],
   "source": [
    "sound3 = sound2\n",
    "label_id2 = label_id"
   ]
  },
  {
   "cell_type": "code",
   "execution_count": 17,
   "metadata": {},
   "outputs": [],
   "source": [
    "# resamples down to 10k, pads shortened clip with noise to return to 16k\n",
    "def shrink(x):\n",
    "    x = scipy.signal.resample(x, 10000)\n",
    "    ind = np.random.randint(0, 6000)\n",
    "    x = np.pad(x, (ind, 16000-(ind+10000)), \"constant\")\n",
    "    sil_ind = np.random.randint(0, len(silences))\n",
    "    new_x = 0.8*x + 0.2*silences[sil_ind]\n",
    "    return new_x\n",
    "\n",
    "# resamples up to 22k, takes middle 16k\n",
    "def stretch(x):\n",
    "    x = scipy.signal.resample(x, 22000)\n",
    "    return x[3000:19000]\n",
    "\n",
    "# layers in background noise from silence files\n",
    "def add_noise(x):\n",
    "    sil_ind = np.random.randint(0, len(silences))\n",
    "    new_x = 0.7*x + 0.4*silences[sil_ind]\n",
    "    return new_x"
   ]
  },
  {
   "cell_type": "code",
   "execution_count": 23,
   "metadata": {},
   "outputs": [],
   "source": [
    "# applies augmentation functions\n",
    "for i in range(57923):\n",
    "    if i % 3 == 0:\n",
    "        new_x = shrink(sound2[i])\n",
    "        sound3.append(new_x)\n",
    "        label_id2.append(label_id[i])\n",
    "    elif i % 3 == 1:\n",
    "        new_x = stretch(sound2[i])\n",
    "        sound3.append(new_x)\n",
    "        label_id2.append(label_id[i])\n",
    "    elif i % 3 == 2:\n",
    "        new_x = add_noise(sound2[i])\n",
    "        sound3.append(new_x)\n",
    "        label_id2.append(label_id[i])"
   ]
  },
  {
   "cell_type": "code",
   "execution_count": 27,
   "metadata": {},
   "outputs": [],
   "source": [
    "# import pickle"
   ]
  },
  {
   "cell_type": "code",
   "execution_count": 29,
   "metadata": {},
   "outputs": [],
   "source": [
    "# pickle.dump(sound3, open('sound3.pkl', 'wb'))"
   ]
  },
  {
   "cell_type": "code",
   "execution_count": 30,
   "metadata": {},
   "outputs": [],
   "source": [
    "# pickle.dump(label_id2, open(\"label_id2.pkl\", \"wb\"))"
   ]
  },
  {
   "cell_type": "markdown",
   "metadata": {},
   "source": [
    "<a id=\"specgrams\"></a>\n",
    "## 4. Create spectrograms with Librosa"
   ]
  },
  {
   "cell_type": "code",
   "execution_count": 18,
   "metadata": {},
   "outputs": [],
   "source": [
    "from scipy.io import wavfile"
   ]
  },
  {
   "cell_type": "code",
   "execution_count": 32,
   "metadata": {},
   "outputs": [],
   "source": [
    "def wav2spec_val(X, max_len = 16000, n_mels = 128):\n",
    "    \"\"\"Turns audio into a spectrogram, used on validation data\"\"\"\n",
    "    x_spec = np.zeros((len(X), n_mels, 32, 1))\n",
    "    for i, fn in enumerate(X):\n",
    "        _, wave = scipy.io.wavfile.read(fn)\n",
    "        wave = wave[:max_len]\n",
    "        wave = np.pad(wave, (0, max_len-wave.shape[0]), 'constant')\n",
    "        # scales data from -1 to 1\n",
    "        wave = wave / np.max([np.max(abs(wave)), 0.00001])\n",
    "        S = librosa.feature.melspectrogram(wave, sr=16000, n_mels=n_mels)\n",
    "        log_S = librosa.power_to_db(S, ref=np.max)\n",
    "        x_spec[i,:,:,0] = log_S\n",
    "    return x_spec"
   ]
  },
  {
   "cell_type": "code",
   "execution_count": 33,
   "metadata": {},
   "outputs": [],
   "source": [
    "def wav2spec_train(X, max_len = 16000, n_mels = 128):\n",
    "    \"\"\"Turns audio into a spectrogram, used on training data\"\"\"\n",
    "    x_spec = np.zeros((len(X), n_mels, 32, 1))\n",
    "    for i, wave in enumerate(X):\n",
    "        wave = wave[:max_len]\n",
    "        wave = np.pad(wave, (0, max_len-wave.shape[0]), 'constant')\n",
    "        # scales data from -1 to 1\n",
    "        wave = wave / np.max([np.max(abs(wave)), 0.00001])\n",
    "        S = librosa.feature.melspectrogram(wave, sr=16000, n_mels=n_mels)\n",
    "        log_S = librosa.power_to_db(S, ref=np.max)\n",
    "        x_spec[i,:,:,0] = log_S\n",
    "    return x_spec"
   ]
  },
  {
   "cell_type": "code",
   "execution_count": 36,
   "metadata": {},
   "outputs": [],
   "source": [
    "x_train_vec = wav2spec_train(sound3)\n",
    "x_val_vec = wav2spec_val(valid_df.wav_file)"
   ]
  },
  {
   "cell_type": "code",
   "execution_count": 42,
   "metadata": {},
   "outputs": [
    {
     "data": {
      "text/plain": [
       "(123046, 128, 32, 1)"
      ]
     },
     "execution_count": 42,
     "metadata": {},
     "output_type": "execute_result"
    }
   ],
   "source": [
    "x_train_vec.shape"
   ]
  },
  {
   "cell_type": "code",
   "execution_count": 43,
   "metadata": {},
   "outputs": [],
   "source": [
    "y_train_vec = np.array(label_id2)\n",
    "y_val_vec = valid_df.label_id.as_matrix()"
   ]
  },
  {
   "cell_type": "code",
   "execution_count": 45,
   "metadata": {},
   "outputs": [
    {
     "data": {
      "text/plain": [
       "(6798,)"
      ]
     },
     "execution_count": 45,
     "metadata": {},
     "output_type": "execute_result"
    }
   ],
   "source": [
    "y_val_vec.shape"
   ]
  },
  {
   "cell_type": "code",
   "execution_count": 47,
   "metadata": {},
   "outputs": [
    {
     "data": {
      "text/plain": [
       "<matplotlib.image.AxesImage at 0x7f0fbd5e8d68>"
      ]
     },
     "execution_count": 47,
     "metadata": {},
     "output_type": "execute_result"
    },
    {
     "data": {
      "image/png": "[encoded data removed]",
      "text/plain": [
       "<matplotlib.figure.Figure at 0x7f0fc07f72e8>"
      ]
     },
     "metadata": {},
     "output_type": "display_data"
    }
   ],
   "source": [
    "plt.figure(figsize=(9,3))\n",
    "plt.imshow(x_train_vec[65129,:,:,0], aspect=\"auto\", origin=\"lower\")"
   ]
  },
  {
   "cell_type": "code",
   "execution_count": 50,
   "metadata": {},
   "outputs": [],
   "source": [
    "np.save('x_train_vec_dec10.npy', x_train_vec)"
   ]
  },
  {
   "cell_type": "code",
   "execution_count": 51,
   "metadata": {},
   "outputs": [],
   "source": [
    "np.save('y_train_vec_dec10.npy', y_train_vec)"
   ]
  },
  {
   "cell_type": "markdown",
   "metadata": {},
   "source": [
    "<a id=\"weights\"></a>\n",
    "## 5. Set class weights"
   ]
  },
  {
   "cell_type": "code",
   "execution_count": 68,
   "metadata": {},
   "outputs": [],
   "source": [
    "ind, counts = np.unique(y_train_vec, return_counts=True)"
   ]
  },
  {
   "cell_type": "code",
   "execution_count": 69,
   "metadata": {},
   "outputs": [
    {
     "data": {
      "text/plain": [
       "array([ 4232,  4210,  4230,  4190,  4212,  4222,  4220,  4202,  4268,\n",
       "        4224, 73636,  7200])"
      ]
     },
     "execution_count": 69,
     "metadata": {},
     "output_type": "execute_result"
    }
   ],
   "source": [
    "counts"
   ]
  },
  {
   "cell_type": "code",
   "execution_count": 70,
   "metadata": {},
   "outputs": [],
   "source": [
    "class_weight = {i: count for i, count in zip(ind, counts)}"
   ]
  },
  {
   "cell_type": "code",
   "execution_count": 71,
   "metadata": {},
   "outputs": [],
   "source": [
    "class_weight = {ind: len(x_train_vec)/val for ind, val in class_weight.items()}"
   ]
  },
  {
   "cell_type": "code",
   "execution_count": 72,
   "metadata": {},
   "outputs": [
    {
     "data": {
      "text/plain": [
       "{0: 29.075141776937617,\n",
       " 1: 29.227078384798101,\n",
       " 2: 29.088888888888889,\n",
       " 3: 29.366587112171839,\n",
       " 4: 29.213200379867047,\n",
       " 5: 29.14400757934628,\n",
       " 6: 29.15781990521327,\n",
       " 7: 29.282722513089006,\n",
       " 8: 28.829896907216494,\n",
       " 9: 29.130208333333332,\n",
       " 10: 1.6710033135966103,\n",
       " 11: 17.089722222222221}"
      ]
     },
     "execution_count": 72,
     "metadata": {},
     "output_type": "execute_result"
    }
   ],
   "source": [
    "class_weight"
   ]
  },
  {
   "cell_type": "markdown",
   "metadata": {},
   "source": [
    "<a id=\"cnn\"></a>\n",
    "## 6. Train CNN with Keras"
   ]
  },
  {
   "cell_type": "code",
   "execution_count": 73,
   "metadata": {},
   "outputs": [
    {
     "name": "stderr",
     "output_type": "stream",
     "text": [
      "Using TensorFlow backend.\n",
      "/home/ubuntu/anaconda3/envs/tensorflow_p36/lib/python3.6/importlib/_bootstrap.py:219: RuntimeWarning: compiletime version 3.5 of module 'tensorflow.python.framework.fast_tensor_util' does not match runtime version 3.6\n",
      "  return f(*args, **kwds)\n"
     ]
    }
   ],
   "source": [
    "import keras\n",
    "import keras.backend as K"
   ]
  },
  {
   "cell_type": "code",
   "execution_count": 74,
   "metadata": {},
   "outputs": [],
   "source": [
    "num_labels = 12"
   ]
  },
  {
   "cell_type": "code",
   "execution_count": 76,
   "metadata": {},
   "outputs": [
    {
     "data": {
      "text/plain": [
       "(128, 32, 1)"
      ]
     },
     "execution_count": 76,
     "metadata": {},
     "output_type": "execute_result"
    }
   ],
   "source": [
    "x_train_vec[0].shape"
   ]
  },
  {
   "cell_type": "code",
   "execution_count": 77,
   "metadata": {},
   "outputs": [
    {
     "name": "stdout",
     "output_type": "stream",
     "text": [
      "_________________________________________________________________\n",
      "Layer (type)                 Output Shape              Param #   \n",
      "=================================================================\n",
      "input_1 (InputLayer)         (None, 128, 32, 1)        0         \n",
      "_________________________________________________________________\n",
      "conv2d_1 (Conv2D)            (None, 128, 32, 64)       10304     \n",
      "_________________________________________________________________\n",
      "max_pooling2d_1 (MaxPooling2 (None, 64, 16, 64)        0         \n",
      "_________________________________________________________________\n",
      "batch_normalization_1 (Batch (None, 64, 16, 64)        256       \n",
      "_________________________________________________________________\n",
      "conv2d_2 (Conv2D)            (None, 64, 16, 64)        163904    \n",
      "_________________________________________________________________\n",
      "max_pooling2d_2 (MaxPooling2 (None, 32, 8, 64)         0         \n",
      "_________________________________________________________________\n",
      "batch_normalization_2 (Batch (None, 32, 8, 64)         256       \n",
      "_________________________________________________________________\n",
      "conv2d_3 (Conv2D)            (None, 32, 8, 64)         41024     \n",
      "_________________________________________________________________\n",
      "max_pooling2d_3 (MaxPooling2 (None, 16, 4, 64)         0         \n",
      "_________________________________________________________________\n",
      "batch_normalization_3 (Batch (None, 16, 4, 64)         256       \n",
      "_________________________________________________________________\n",
      "conv2d_4 (Conv2D)            (None, 16, 4, 64)         16448     \n",
      "_________________________________________________________________\n",
      "max_pooling2d_4 (MaxPooling2 (None, 8, 2, 64)          0         \n",
      "_________________________________________________________________\n",
      "batch_normalization_4 (Batch (None, 8, 2, 64)          256       \n",
      "_________________________________________________________________\n",
      "conv2d_5 (Conv2D)            (None, 8, 2, 64)          8256      \n",
      "_________________________________________________________________\n",
      "max_pooling2d_5 (MaxPooling2 (None, 4, 1, 64)          0         \n",
      "_________________________________________________________________\n",
      "batch_normalization_5 (Batch (None, 4, 1, 64)          256       \n",
      "_________________________________________________________________\n",
      "flatten_1 (Flatten)          (None, 256)               0         \n",
      "_________________________________________________________________\n",
      "dense_1 (Dense)              (None, 500)               128500    \n",
      "_________________________________________________________________\n",
      "dropout_1 (Dropout)          (None, 500)               0         \n",
      "_________________________________________________________________\n",
      "dense_2 (Dense)              (None, 250)               125250    \n",
      "_________________________________________________________________\n",
      "dropout_2 (Dropout)          (None, 250)               0         \n",
      "_________________________________________________________________\n",
      "dense_3 (Dense)              (None, 12)                3012      \n",
      "=================================================================\n",
      "Total params: 497,978\n",
      "Trainable params: 497,338\n",
      "Non-trainable params: 640\n",
      "_________________________________________________________________\n",
      "None\n"
     ]
    }
   ],
   "source": [
    "model = keras.Sequential([\n",
    "    keras.layers.InputLayer(input_shape=(128,32,1)),\n",
    "    keras.layers.Conv2D(64, kernel_size=(20,8), strides=1, padding='same', activation='relu'),\n",
    "    keras.layers.MaxPool2D(pool_size=(2,2), padding='same'),\n",
    "    keras.layers.BatchNormalization(),\n",
    "    keras.layers.Conv2D(64, kernel_size=(10,4), padding='same', activation='relu'),\n",
    "    keras.layers.MaxPool2D(pool_size=(2,2), padding='same'),\n",
    "    keras.layers.BatchNormalization(),\n",
    "    keras.layers.Conv2D(64, kernel_size=(5,2), padding='same', activation='relu'),\n",
    "    keras.layers.MaxPool2D(pool_size=(2,2), padding='same'),\n",
    "    keras.layers.BatchNormalization(),\n",
    "    keras.layers.Conv2D(64, kernel_size=(2,2), padding='same', activation='relu'),\n",
    "    keras.layers.MaxPool2D(pool_size=(2,2), padding='same'),\n",
    "    keras.layers.BatchNormalization(),\n",
    "    keras.layers.Conv2D(64, kernel_size=(2,1), padding='same', activation='relu'),\n",
    "    keras.layers.MaxPool2D(pool_size=(2,2), padding='same'),\n",
    "    keras.layers.BatchNormalization(),\n",
    "    keras.layers.Flatten(),\n",
    "    keras.layers.Dense(500, activation=\"relu\"),\n",
    "    keras.layers.Dropout(.5),\n",
    "    keras.layers.Dense(250, activation=\"relu\"),\n",
    "    keras.layers.Dropout(.4),\n",
    "    keras.layers.Dense(num_labels, activation=\"softmax\")\n",
    "])\n",
    "\n",
    "model.compile(loss='sparse_categorical_crossentropy', \n",
    "               optimizer='nadam',\n",
    "               metrics=['accuracy'])\n",
    "print(model.summary())"
   ]
  },
  {
   "cell_type": "code",
   "execution_count": 78,
   "metadata": {},
   "outputs": [],
   "source": [
    "from tensorflow.python.keras.callbacks import EarlyStopping"
   ]
  },
  {
   "cell_type": "code",
   "execution_count": 79,
   "metadata": {},
   "outputs": [],
   "source": [
    "callbacks = [EarlyStopping(monitor='val_loss',\n",
    "                           patience=5,\n",
    "                           verbose=1,\n",
    "                           min_delta=0.01,\n",
    "                           mode='min')]"
   ]
  },
  {
   "cell_type": "code",
   "execution_count": 80,
   "metadata": {
    "scrolled": false
   },
   "outputs": [
    {
     "name": "stdout",
     "output_type": "stream",
     "text": [
      "Train on 123046 samples, validate on 6798 samples\n",
      "Epoch 1/50\n",
      "123046/123046 [==============================] - 187s 2ms/step - loss: 16.1380 - acc: 0.4163 - val_loss: 0.8133 - val_acc: 0.7224\n",
      "Epoch 2/50\n",
      "123046/123046 [==============================] - 179s 1ms/step - loss: 8.9434 - acc: 0.6521 - val_loss: 0.5923 - val_acc: 0.8008\n",
      "Epoch 3/50\n",
      "123046/123046 [==============================] - 179s 1ms/step - loss: 7.2433 - acc: 0.7221 - val_loss: 0.4908 - val_acc: 0.8455\n",
      "Epoch 4/50\n",
      "123046/123046 [==============================] - 179s 1ms/step - loss: 6.3200 - acc: 0.7556 - val_loss: 0.3619 - val_acc: 0.8773\n",
      "Epoch 5/50\n",
      "123046/123046 [==============================] - 179s 1ms/step - loss: 5.7280 - acc: 0.7768 - val_loss: 0.3583 - val_acc: 0.8792\n",
      "Epoch 6/50\n",
      "123046/123046 [==============================] - 179s 1ms/step - loss: 5.3283 - acc: 0.7951 - val_loss: 0.7126 - val_acc: 0.7673\n",
      "Epoch 7/50\n",
      "123046/123046 [==============================] - 179s 1ms/step - loss: 5.0806 - acc: 0.8017 - val_loss: 0.4203 - val_acc: 0.8632\n",
      "Epoch 8/50\n",
      "123046/123046 [==============================] - 179s 1ms/step - loss: 4.7601 - acc: 0.8128 - val_loss: 0.3924 - val_acc: 0.8708\n",
      "Epoch 9/50\n",
      "123046/123046 [==============================] - 179s 1ms/step - loss: 4.6085 - acc: 0.8168 - val_loss: 0.3272 - val_acc: 0.8953\n",
      "Epoch 10/50\n",
      "123046/123046 [==============================] - 179s 1ms/step - loss: 4.3559 - acc: 0.8254 - val_loss: 0.2609 - val_acc: 0.9207\n",
      "Epoch 11/50\n",
      "123046/123046 [==============================] - 179s 1ms/step - loss: 4.2292 - acc: 0.8294 - val_loss: 0.2818 - val_acc: 0.9086\n",
      "Epoch 12/50\n",
      "123046/123046 [==============================] - 179s 1ms/step - loss: 4.0398 - acc: 0.8349 - val_loss: 0.2563 - val_acc: 0.9225\n",
      "Epoch 13/50\n",
      "123046/123046 [==============================] - 179s 1ms/step - loss: 3.9775 - acc: 0.8368 - val_loss: 0.3110 - val_acc: 0.9044\n",
      "Epoch 14/50\n",
      "123046/123046 [==============================] - 179s 1ms/step - loss: 3.8206 - acc: 0.8409 - val_loss: 0.3058 - val_acc: 0.9038\n",
      "Epoch 15/50\n",
      "123046/123046 [==============================] - 179s 1ms/step - loss: 3.6617 - acc: 0.8457 - val_loss: 0.3333 - val_acc: 0.8989\n",
      "Epoch 16/50\n",
      "123046/123046 [==============================] - 179s 1ms/step - loss: 3.6433 - acc: 0.8472 - val_loss: 0.3305 - val_acc: 0.8950\n",
      "Epoch 00015: early stopping\n"
     ]
    }
   ],
   "source": [
    "history = model.fit(x_train_vec, y_train_vec,\n",
    "                              batch_size = 256,\n",
    "                              epochs=50,\n",
    "                              verbose=1, \n",
    "                              callbacks=callbacks,\n",
    "                              validation_data=(x_val_vec, y_val_vec),\n",
    "                              class_weight = class_weight)"
   ]
  },
  {
   "cell_type": "code",
   "execution_count": 81,
   "metadata": {},
   "outputs": [],
   "source": [
    "y_val_pred = model.predict(x_val_vec)"
   ]
  },
  {
   "cell_type": "code",
   "execution_count": 82,
   "metadata": {},
   "outputs": [
    {
     "data": {
      "text/plain": [
       "array([  2.78599282e-06,   6.80228762e-09,   6.94566182e-10,\n",
       "         2.62370015e-10,   9.99930024e-01,   4.64455585e-09,\n",
       "         3.23929328e-10,   2.21292602e-08,   6.14031959e-12,\n",
       "         1.55445823e-10,   6.71811795e-05,   9.41062441e-22], dtype=float32)"
      ]
     },
     "execution_count": 82,
     "metadata": {},
     "output_type": "execute_result"
    }
   ],
   "source": [
    "y_val_pred[0]"
   ]
  },
  {
   "cell_type": "code",
   "execution_count": 83,
   "metadata": {},
   "outputs": [],
   "source": [
    "y_val_pred2 = np.array([np.argmax(pred) for pred in y_val_pred])"
   ]
  },
  {
   "cell_type": "code",
   "execution_count": 84,
   "metadata": {},
   "outputs": [],
   "source": [
    "y_val_pred_label = np.vectorize(id2name.get)(y_val_pred2)"
   ]
  },
  {
   "cell_type": "code",
   "execution_count": 85,
   "metadata": {},
   "outputs": [],
   "source": [
    "val_df = pd.Series(y_val_pred_label)"
   ]
  },
  {
   "cell_type": "code",
   "execution_count": 86,
   "metadata": {},
   "outputs": [
    {
     "data": {
      "text/plain": [
       "unknown    3701\n",
       "right       372\n",
       "no          344\n",
       "left        321\n",
       "go          309\n",
       "down        304\n",
       "up          300\n",
       "yes         295\n",
       "on          289\n",
       "stop        274\n",
       "off         272\n",
       "silence      17\n",
       "dtype: int64"
      ]
     },
     "execution_count": 86,
     "metadata": {},
     "output_type": "execute_result"
    }
   ],
   "source": [
    "val_df.value_counts()"
   ]
  },
  {
   "cell_type": "markdown",
   "metadata": {},
   "source": [
    "<a id=\"predict\"></a>\n",
    "## 7. Predict on test files"
   ]
  },
  {
   "cell_type": "code",
   "execution_count": 87,
   "metadata": {},
   "outputs": [],
   "source": [
    "test_files = glob.glob('test/audio/*wav')"
   ]
  },
  {
   "cell_type": "code",
   "execution_count": 88,
   "metadata": {},
   "outputs": [
    {
     "data": {
      "text/plain": [
       "['test/audio/clip_bd6d0fb25.wav',\n",
       " 'test/audio/clip_3e7a56353.wav',\n",
       " 'test/audio/clip_c5884a6cb.wav',\n",
       " 'test/audio/clip_ebf0d1f7b.wav',\n",
       " 'test/audio/clip_2f714f052.wav',\n",
       " 'test/audio/clip_05bfe5e6a.wav',\n",
       " 'test/audio/clip_317b4a205.wav',\n",
       " 'test/audio/clip_292983fee.wav',\n",
       " 'test/audio/clip_e086bfc8e.wav',\n",
       " 'test/audio/clip_d0d7fa566.wav']"
      ]
     },
     "execution_count": 88,
     "metadata": {},
     "output_type": "execute_result"
    }
   ],
   "source": [
    "test_files[:10]"
   ]
  },
  {
   "cell_type": "code",
   "execution_count": 89,
   "metadata": {},
   "outputs": [],
   "source": [
    "x_test = wav2spec_val(test_files)"
   ]
  },
  {
   "cell_type": "code",
   "execution_count": 104,
   "metadata": {},
   "outputs": [],
   "source": [
    "np.save('x_test_processed_dec10_1.npy', x_test)"
   ]
  },
  {
   "cell_type": "code",
   "execution_count": 53,
   "metadata": {},
   "outputs": [],
   "source": [
    "# x_test = np.load('x_test_processed_dec7_normal_1.npy')"
   ]
  },
  {
   "cell_type": "code",
   "execution_count": 90,
   "metadata": {},
   "outputs": [
    {
     "data": {
      "text/plain": [
       "(158538, 128, 32, 1)"
      ]
     },
     "execution_count": 90,
     "metadata": {},
     "output_type": "execute_result"
    }
   ],
   "source": [
    "x_test.shape"
   ]
  },
  {
   "cell_type": "code",
   "execution_count": 91,
   "metadata": {},
   "outputs": [],
   "source": [
    "y_test_pred = model.predict(x_test)"
   ]
  },
  {
   "cell_type": "code",
   "execution_count": 92,
   "metadata": {},
   "outputs": [
    {
     "data": {
      "text/plain": [
       "array([  7.25300363e-23,   1.21090929e-18,   2.44212151e-19,\n",
       "         3.69178681e-17,   3.61696769e-19,   2.43067486e-16,\n",
       "         9.99993563e-01,   1.40492750e-12,   7.19334570e-24,\n",
       "         7.29242097e-17,   6.39184236e-06,   4.95808185e-36], dtype=float32)"
      ]
     },
     "execution_count": 92,
     "metadata": {},
     "output_type": "execute_result"
    }
   ],
   "source": [
    "y_test_pred[1]"
   ]
  },
  {
   "cell_type": "code",
   "execution_count": 93,
   "metadata": {},
   "outputs": [],
   "source": [
    "y_test_pred2 = np.array([np.argmax(pred) for pred in y_test_pred])"
   ]
  },
  {
   "cell_type": "code",
   "execution_count": 94,
   "metadata": {},
   "outputs": [
    {
     "data": {
      "text/plain": [
       "(158538,)"
      ]
     },
     "execution_count": 94,
     "metadata": {},
     "output_type": "execute_result"
    }
   ],
   "source": [
    "y_test_pred2.shape"
   ]
  },
  {
   "cell_type": "code",
   "execution_count": 95,
   "metadata": {},
   "outputs": [],
   "source": [
    "y_test_pred_label = np.vectorize(id2name.get)(y_test_pred2)"
   ]
  },
  {
   "cell_type": "code",
   "execution_count": 96,
   "metadata": {},
   "outputs": [],
   "source": [
    "labels_df = pd.Series(y_test_pred_label)"
   ]
  },
  {
   "cell_type": "code",
   "execution_count": 97,
   "metadata": {},
   "outputs": [
    {
     "data": {
      "text/plain": [
       "unknown    64764\n",
       "silence    11985\n",
       "right      10235\n",
       "left        9886\n",
       "go          9394\n",
       "no          9063\n",
       "on          7794\n",
       "yes         7651\n",
       "up          7479\n",
       "off         7176\n",
       "stop        6772\n",
       "down        6339\n",
       "dtype: int64"
      ]
     },
     "execution_count": 97,
     "metadata": {},
     "output_type": "execute_result"
    }
   ],
   "source": [
    "labels_df.value_counts()"
   ]
  },
  {
   "cell_type": "code",
   "execution_count": 98,
   "metadata": {},
   "outputs": [
    {
     "data": {
      "text/plain": [
       "(158538,)"
      ]
     },
     "execution_count": 98,
     "metadata": {},
     "output_type": "execute_result"
    }
   ],
   "source": [
    "y_test_pred_label.shape"
   ]
  },
  {
   "cell_type": "code",
   "execution_count": 99,
   "metadata": {},
   "outputs": [
    {
     "data": {
      "text/plain": [
       "array(['no', 'on', 'no', 'right', 'off', 'yes', 'right', 'silence', 'off',\n",
       "       'right'],\n",
       "      dtype='<U7')"
      ]
     },
     "execution_count": 99,
     "metadata": {},
     "output_type": "execute_result"
    }
   ],
   "source": [
    "y_test_pred_label[:10]"
   ]
  },
  {
   "cell_type": "code",
   "execution_count": 100,
   "metadata": {},
   "outputs": [],
   "source": [
    "test_files2 = [file.replace('test/audio/', \"\") for file in test_files]"
   ]
  },
  {
   "cell_type": "code",
   "execution_count": 101,
   "metadata": {},
   "outputs": [
    {
     "data": {
      "text/plain": [
       "['clip_bd6d0fb25.wav',\n",
       " 'clip_3e7a56353.wav',\n",
       " 'clip_c5884a6cb.wav',\n",
       " 'clip_ebf0d1f7b.wav',\n",
       " 'clip_2f714f052.wav',\n",
       " 'clip_05bfe5e6a.wav',\n",
       " 'clip_317b4a205.wav',\n",
       " 'clip_292983fee.wav',\n",
       " 'clip_e086bfc8e.wav',\n",
       " 'clip_d0d7fa566.wav']"
      ]
     },
     "execution_count": 101,
     "metadata": {},
     "output_type": "execute_result"
    }
   ],
   "source": [
    "test_files2[:10]"
   ]
  },
  {
   "cell_type": "markdown",
   "metadata": {},
   "source": [
    "### Write predicted labels to file"
   ]
  },
  {
   "cell_type": "code",
   "execution_count": 102,
   "metadata": {},
   "outputs": [],
   "source": [
    "with open('ccmm_submission_dec10_1.csv', 'w') as fout:\n",
    "    fout.write('fname,label\\n')\n",
    "    for i in range(len(y_test_pred_label)):\n",
    "        fout.write('{},{}\\n'.format(test_files2[i], y_test_pred_label[i]))"
   ]
  },
  {
   "cell_type": "code",
   "execution_count": 103,
   "metadata": {},
   "outputs": [],
   "source": [
    "model.save('model_dec10_5CNNs_melpower_noise.h5')"
   ]
  },
  {
   "cell_type": "code",
   "execution_count": null,
   "metadata": {},
   "outputs": [],
   "source": []
  },
  {
   "cell_type": "code",
   "execution_count": null,
   "metadata": {},
   "outputs": [],
   "source": []
  }
 ],
 "metadata": {
  "kernelspec": {
   "display_name": "Python 3",
   "language": "python",
   "name": "python3"
  },
  "language_info": {
   "codemirror_mode": {
    "name": "ipython",
    "version": 3
   },
   "file_extension": ".py",
   "mimetype": "text/x-python",
   "name": "python",
   "nbconvert_exporter": "python",
   "pygments_lexer": "ipython3",
   "version": "3.6.3"
  }
 },
 "nbformat": 4,
 "nbformat_minor": 2
}
