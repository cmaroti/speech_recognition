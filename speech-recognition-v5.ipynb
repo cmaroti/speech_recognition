{
 "cells": [
  {
   "cell_type": "code",
   "execution_count": 1,
   "metadata": {},
   "outputs": [],
   "source": [
    "import pandas as pd\n",
    "import numpy as np\n",
    "import glob\n",
    "import scipy\n",
    "import matplotlib.pyplot as plt\n",
    "%matplotlib inline"
   ]
  },
  {
   "cell_type": "code",
   "execution_count": 2,
   "metadata": {},
   "outputs": [],
   "source": [
    "filenames = glob.glob(\"data/*/*.wav\")"
   ]
  },
  {
   "cell_type": "code",
   "execution_count": 3,
   "metadata": {},
   "outputs": [
    {
     "data": {
      "text/plain": [
       "64727"
      ]
     },
     "execution_count": 3,
     "metadata": {},
     "output_type": "execute_result"
    }
   ],
   "source": [
    "len(filenames)"
   ]
  },
  {
   "cell_type": "code",
   "execution_count": 4,
   "metadata": {},
   "outputs": [],
   "source": [
    "ex_df = pd.DataFrame({'filename': filenames})"
   ]
  },
  {
   "cell_type": "code",
   "execution_count": 5,
   "metadata": {},
   "outputs": [
    {
     "data": {
      "text/plain": [
       "stop                  2380\n",
       "seven                 2377\n",
       "yes                   2377\n",
       "zero                  2376\n",
       "no                    2375\n",
       "up                    2375\n",
       "two                   2373\n",
       "four                  2372\n",
       "go                    2372\n",
       "one                   2370\n",
       "six                   2369\n",
       "right                 2367\n",
       "on                    2367\n",
       "nine                  2364\n",
       "down                  2359\n",
       "off                   2357\n",
       "five                  2357\n",
       "three                 2356\n",
       "left                  2353\n",
       "eight                 2352\n",
       "house                 1750\n",
       "marvin                1746\n",
       "dog                   1746\n",
       "wow                   1745\n",
       "happy                 1742\n",
       "sheila                1734\n",
       "tree                  1733\n",
       "cat                   1733\n",
       "bird                  1731\n",
       "bed                   1713\n",
       "_background_noise_       6\n",
       "Name: label, dtype: int64"
      ]
     },
     "execution_count": 5,
     "metadata": {},
     "output_type": "execute_result"
    }
   ],
   "source": [
    "# build labels\n",
    "def get_label(fn):\n",
    "    return fn.split('/')[-2]\n",
    "ex_df['label'] = ex_df.filename.map(get_label)\n",
    "\n",
    "# build indices\n",
    "unique_labels = ex_df.label.unique()\n",
    "label_dict = dict(zip(unique_labels, range(len(unique_labels))))\n",
    "ex_df['label_i'] = ex_df.label.map(label_dict)\n",
    "ex_df.label.value_counts()"
   ]
  },
  {
   "cell_type": "code",
   "execution_count": 6,
   "metadata": {},
   "outputs": [
    {
     "data": {
      "text/html": [
       "<div>\n",
       "<style scoped>\n",
       "    .dataframe tbody tr th:only-of-type {\n",
       "        vertical-align: middle;\n",
       "    }\n",
       "\n",
       "    .dataframe tbody tr th {\n",
       "        vertical-align: top;\n",
       "    }\n",
       "\n",
       "    .dataframe thead th {\n",
       "        text-align: right;\n",
       "    }\n",
       "</style>\n",
       "<table border=\"1\" class=\"dataframe\">\n",
       "  <thead>\n",
       "    <tr style=\"text-align: right;\">\n",
       "      <th></th>\n",
       "      <th>filename</th>\n",
       "      <th>label</th>\n",
       "      <th>label_i</th>\n",
       "    </tr>\n",
       "  </thead>\n",
       "  <tbody>\n",
       "    <tr>\n",
       "      <th>41020</th>\n",
       "      <td>data/go/022cd682_nohash_1.wav</td>\n",
       "      <td>go</td>\n",
       "      <td>20</td>\n",
       "    </tr>\n",
       "    <tr>\n",
       "      <th>1349</th>\n",
       "      <td>data/left/da1d320c_nohash_1.wav</td>\n",
       "      <td>left</td>\n",
       "      <td>0</td>\n",
       "    </tr>\n",
       "    <tr>\n",
       "      <th>31278</th>\n",
       "      <td>data/six/ab7b5acd_nohash_0.wav</td>\n",
       "      <td>six</td>\n",
       "      <td>16</td>\n",
       "    </tr>\n",
       "    <tr>\n",
       "      <th>35566</th>\n",
       "      <td>data/seven/b9cccd01_nohash_0.wav</td>\n",
       "      <td>seven</td>\n",
       "      <td>17</td>\n",
       "    </tr>\n",
       "    <tr>\n",
       "      <th>23033</th>\n",
       "      <td>data/zero/28ed6bc9_nohash_2.wav</td>\n",
       "      <td>zero</td>\n",
       "      <td>12</td>\n",
       "    </tr>\n",
       "  </tbody>\n",
       "</table>\n",
       "</div>"
      ],
      "text/plain": [
       "                               filename  label  label_i\n",
       "41020     data/go/022cd682_nohash_1.wav     go       20\n",
       "1349    data/left/da1d320c_nohash_1.wav   left        0\n",
       "31278    data/six/ab7b5acd_nohash_0.wav    six       16\n",
       "35566  data/seven/b9cccd01_nohash_0.wav  seven       17\n",
       "23033   data/zero/28ed6bc9_nohash_2.wav   zero       12"
      ]
     },
     "execution_count": 6,
     "metadata": {},
     "output_type": "execute_result"
    }
   ],
   "source": [
    "# remove background noise category\n",
    "ex_df.label.where(ex_df.label != '_background_noise_', inplace=True)\n",
    "\n",
    "ex_df.sample(5)"
   ]
  },
  {
   "cell_type": "code",
   "execution_count": 7,
   "metadata": {},
   "outputs": [
    {
     "data": {
      "text/plain": [
       "stop      2380\n",
       "yes       2377\n",
       "seven     2377\n",
       "zero      2376\n",
       "no        2375\n",
       "up        2375\n",
       "two       2373\n",
       "four      2372\n",
       "go        2372\n",
       "one       2370\n",
       "six       2369\n",
       "on        2367\n",
       "right     2367\n",
       "nine      2364\n",
       "down      2359\n",
       "off       2357\n",
       "five      2357\n",
       "three     2356\n",
       "left      2353\n",
       "eight     2352\n",
       "house     1750\n",
       "dog       1746\n",
       "marvin    1746\n",
       "wow       1745\n",
       "happy     1742\n",
       "sheila    1734\n",
       "cat       1733\n",
       "tree      1733\n",
       "bird      1731\n",
       "bed       1713\n",
       "Name: label, dtype: int64"
      ]
     },
     "execution_count": 7,
     "metadata": {},
     "output_type": "execute_result"
    }
   ],
   "source": [
    "ex_df.label.value_counts()"
   ]
  },
  {
   "cell_type": "markdown",
   "metadata": {},
   "source": [
    "# Analysis on 20k samples"
   ]
  },
  {
   "cell_type": "code",
   "execution_count": 8,
   "metadata": {},
   "outputs": [
    {
     "data": {
      "text/plain": [
       "array(['left', 'eight', 'no', 'tree', 'nine', 'bed', 'dog',\n",
       "       '_background_noise_', 'house', 'cat', 'bird', 'four', 'zero', 'on',\n",
       "       'right', 'sheila', 'six', 'seven', 'down', 'one', 'go', 'happy',\n",
       "       'two', 'yes', 'up', 'three', 'five', 'marvin', 'stop', 'wow', 'off'], dtype=object)"
      ]
     },
     "execution_count": 8,
     "metadata": {},
     "output_type": "execute_result"
    }
   ],
   "source": [
    "unique_labels"
   ]
  },
  {
   "cell_type": "code",
   "execution_count": 9,
   "metadata": {},
   "outputs": [],
   "source": [
    "include_labels = ['down', 'go', 'left', 'no', 'off', 'on', 'right', 'stop', 'up', 'yes']"
   ]
  },
  {
   "cell_type": "code",
   "execution_count": 10,
   "metadata": {},
   "outputs": [],
   "source": [
    "def replace_unknown(label):\n",
    "    if label not in include_labels:\n",
    "        label = \"unknown\"\n",
    "    return label"
   ]
  },
  {
   "cell_type": "code",
   "execution_count": 11,
   "metadata": {},
   "outputs": [],
   "source": [
    "ex_df['label2'] = ex_df.label.apply(replace_unknown)"
   ]
  },
  {
   "cell_type": "code",
   "execution_count": 12,
   "metadata": {},
   "outputs": [
    {
     "data": {
      "text/html": [
       "<div>\n",
       "<style scoped>\n",
       "    .dataframe tbody tr th:only-of-type {\n",
       "        vertical-align: middle;\n",
       "    }\n",
       "\n",
       "    .dataframe tbody tr th {\n",
       "        vertical-align: top;\n",
       "    }\n",
       "\n",
       "    .dataframe thead th {\n",
       "        text-align: right;\n",
       "    }\n",
       "</style>\n",
       "<table border=\"1\" class=\"dataframe\">\n",
       "  <thead>\n",
       "    <tr style=\"text-align: right;\">\n",
       "      <th></th>\n",
       "      <th>filename</th>\n",
       "      <th>label</th>\n",
       "      <th>label_i</th>\n",
       "      <th>label2</th>\n",
       "    </tr>\n",
       "  </thead>\n",
       "  <tbody>\n",
       "    <tr>\n",
       "      <th>61961</th>\n",
       "      <td>data/wow/695c2127_nohash_0.wav</td>\n",
       "      <td>wow</td>\n",
       "      <td>29</td>\n",
       "      <td>unknown</td>\n",
       "    </tr>\n",
       "    <tr>\n",
       "      <th>40996</th>\n",
       "      <td>data/go/6adb8ad9_nohash_0.wav</td>\n",
       "      <td>go</td>\n",
       "      <td>20</td>\n",
       "      <td>go</td>\n",
       "    </tr>\n",
       "    <tr>\n",
       "      <th>8018</th>\n",
       "      <td>data/tree/6a27a9bf_nohash_0.wav</td>\n",
       "      <td>tree</td>\n",
       "      <td>3</td>\n",
       "      <td>unknown</td>\n",
       "    </tr>\n",
       "    <tr>\n",
       "      <th>42922</th>\n",
       "      <td>data/happy/bca56796_nohash_3.wav</td>\n",
       "      <td>happy</td>\n",
       "      <td>21</td>\n",
       "      <td>unknown</td>\n",
       "    </tr>\n",
       "    <tr>\n",
       "      <th>51763</th>\n",
       "      <td>data/up/20d3f11f_nohash_1.wav</td>\n",
       "      <td>up</td>\n",
       "      <td>24</td>\n",
       "      <td>up</td>\n",
       "    </tr>\n",
       "    <tr>\n",
       "      <th>1859</th>\n",
       "      <td>data/left/9190045a_nohash_0.wav</td>\n",
       "      <td>left</td>\n",
       "      <td>0</td>\n",
       "      <td>left</td>\n",
       "    </tr>\n",
       "    <tr>\n",
       "      <th>36821</th>\n",
       "      <td>data/down/36050ef3_nohash_4.wav</td>\n",
       "      <td>down</td>\n",
       "      <td>18</td>\n",
       "      <td>down</td>\n",
       "    </tr>\n",
       "    <tr>\n",
       "      <th>6439</th>\n",
       "      <td>data/no/747e69fd_nohash_1.wav</td>\n",
       "      <td>no</td>\n",
       "      <td>2</td>\n",
       "      <td>no</td>\n",
       "    </tr>\n",
       "    <tr>\n",
       "      <th>52605</th>\n",
       "      <td>data/three/798f702a_nohash_2.wav</td>\n",
       "      <td>three</td>\n",
       "      <td>25</td>\n",
       "      <td>unknown</td>\n",
       "    </tr>\n",
       "    <tr>\n",
       "      <th>44523</th>\n",
       "      <td>data/happy/ad5aeec2_nohash_0.wav</td>\n",
       "      <td>happy</td>\n",
       "      <td>21</td>\n",
       "      <td>unknown</td>\n",
       "    </tr>\n",
       "  </tbody>\n",
       "</table>\n",
       "</div>"
      ],
      "text/plain": [
       "                               filename  label  label_i   label2\n",
       "61961    data/wow/695c2127_nohash_0.wav    wow       29  unknown\n",
       "40996     data/go/6adb8ad9_nohash_0.wav     go       20       go\n",
       "8018    data/tree/6a27a9bf_nohash_0.wav   tree        3  unknown\n",
       "42922  data/happy/bca56796_nohash_3.wav  happy       21  unknown\n",
       "51763     data/up/20d3f11f_nohash_1.wav     up       24       up\n",
       "1859    data/left/9190045a_nohash_0.wav   left        0     left\n",
       "36821   data/down/36050ef3_nohash_4.wav   down       18     down\n",
       "6439      data/no/747e69fd_nohash_1.wav     no        2       no\n",
       "52605  data/three/798f702a_nohash_2.wav  three       25  unknown\n",
       "44523  data/happy/ad5aeec2_nohash_0.wav  happy       21  unknown"
      ]
     },
     "execution_count": 12,
     "metadata": {},
     "output_type": "execute_result"
    }
   ],
   "source": [
    "ex_df.sample(10)"
   ]
  },
  {
   "cell_type": "code",
   "execution_count": 13,
   "metadata": {},
   "outputs": [
    {
     "data": {
      "text/plain": [
       "(64727, 4)"
      ]
     },
     "execution_count": 13,
     "metadata": {},
     "output_type": "execute_result"
    }
   ],
   "source": [
    "ex_df.shape"
   ]
  },
  {
   "cell_type": "code",
   "execution_count": 14,
   "metadata": {},
   "outputs": [],
   "source": [
    "include_labels.append(\"unknown\")"
   ]
  },
  {
   "cell_type": "code",
   "execution_count": 15,
   "metadata": {},
   "outputs": [
    {
     "data": {
      "text/html": [
       "<div>\n",
       "<style scoped>\n",
       "    .dataframe tbody tr th:only-of-type {\n",
       "        vertical-align: middle;\n",
       "    }\n",
       "\n",
       "    .dataframe tbody tr th {\n",
       "        vertical-align: top;\n",
       "    }\n",
       "\n",
       "    .dataframe thead th {\n",
       "        text-align: right;\n",
       "    }\n",
       "</style>\n",
       "<table border=\"1\" class=\"dataframe\">\n",
       "  <thead>\n",
       "    <tr style=\"text-align: right;\">\n",
       "      <th></th>\n",
       "      <th>filename</th>\n",
       "      <th>label</th>\n",
       "      <th>label_i</th>\n",
       "      <th>label2</th>\n",
       "      <th>label_i2</th>\n",
       "    </tr>\n",
       "  </thead>\n",
       "  <tbody>\n",
       "    <tr>\n",
       "      <th>49405</th>\n",
       "      <td>data/yes/8b39e36f_nohash_0.wav</td>\n",
       "      <td>yes</td>\n",
       "      <td>23</td>\n",
       "      <td>yes</td>\n",
       "      <td>9</td>\n",
       "    </tr>\n",
       "    <tr>\n",
       "      <th>35089</th>\n",
       "      <td>data/seven/9f63152b_nohash_0.wav</td>\n",
       "      <td>seven</td>\n",
       "      <td>17</td>\n",
       "      <td>unknown</td>\n",
       "      <td>10</td>\n",
       "    </tr>\n",
       "    <tr>\n",
       "      <th>2150</th>\n",
       "      <td>data/left/5e3dde6b_nohash_4.wav</td>\n",
       "      <td>left</td>\n",
       "      <td>0</td>\n",
       "      <td>left</td>\n",
       "      <td>2</td>\n",
       "    </tr>\n",
       "    <tr>\n",
       "      <th>45574</th>\n",
       "      <td>data/two/7f74626f_nohash_1.wav</td>\n",
       "      <td>two</td>\n",
       "      <td>22</td>\n",
       "      <td>unknown</td>\n",
       "      <td>10</td>\n",
       "    </tr>\n",
       "    <tr>\n",
       "      <th>44083</th>\n",
       "      <td>data/happy/5fe4a278_nohash_0.wav</td>\n",
       "      <td>happy</td>\n",
       "      <td>21</td>\n",
       "      <td>unknown</td>\n",
       "      <td>10</td>\n",
       "    </tr>\n",
       "    <tr>\n",
       "      <th>601</th>\n",
       "      <td>data/left/e6515415_nohash_0.wav</td>\n",
       "      <td>left</td>\n",
       "      <td>0</td>\n",
       "      <td>left</td>\n",
       "      <td>2</td>\n",
       "    </tr>\n",
       "    <tr>\n",
       "      <th>25754</th>\n",
       "      <td>data/on/e5c48e53_nohash_0.wav</td>\n",
       "      <td>on</td>\n",
       "      <td>13</td>\n",
       "      <td>on</td>\n",
       "      <td>5</td>\n",
       "    </tr>\n",
       "    <tr>\n",
       "      <th>36718</th>\n",
       "      <td>data/down/cc6ee39b_nohash_1.wav</td>\n",
       "      <td>down</td>\n",
       "      <td>18</td>\n",
       "      <td>down</td>\n",
       "      <td>0</td>\n",
       "    </tr>\n",
       "    <tr>\n",
       "      <th>29733</th>\n",
       "      <td>data/sheila/afb9e62e_nohash_1.wav</td>\n",
       "      <td>sheila</td>\n",
       "      <td>15</td>\n",
       "      <td>unknown</td>\n",
       "      <td>10</td>\n",
       "    </tr>\n",
       "    <tr>\n",
       "      <th>63972</th>\n",
       "      <td>data/off/39c13eed_nohash_0.wav</td>\n",
       "      <td>off</td>\n",
       "      <td>30</td>\n",
       "      <td>off</td>\n",
       "      <td>4</td>\n",
       "    </tr>\n",
       "  </tbody>\n",
       "</table>\n",
       "</div>"
      ],
      "text/plain": [
       "                                filename   label  label_i   label2  label_i2\n",
       "49405     data/yes/8b39e36f_nohash_0.wav     yes       23      yes         9\n",
       "35089   data/seven/9f63152b_nohash_0.wav   seven       17  unknown        10\n",
       "2150     data/left/5e3dde6b_nohash_4.wav    left        0     left         2\n",
       "45574     data/two/7f74626f_nohash_1.wav     two       22  unknown        10\n",
       "44083   data/happy/5fe4a278_nohash_0.wav   happy       21  unknown        10\n",
       "601      data/left/e6515415_nohash_0.wav    left        0     left         2\n",
       "25754      data/on/e5c48e53_nohash_0.wav      on       13       on         5\n",
       "36718    data/down/cc6ee39b_nohash_1.wav    down       18     down         0\n",
       "29733  data/sheila/afb9e62e_nohash_1.wav  sheila       15  unknown        10\n",
       "63972     data/off/39c13eed_nohash_0.wav     off       30      off         4"
      ]
     },
     "execution_count": 15,
     "metadata": {},
     "output_type": "execute_result"
    }
   ],
   "source": [
    "label_dict = dict(zip(include_labels, range(len(include_labels))))\n",
    "ex_df['label_i2'] = ex_df.label2.map(label_dict)\n",
    "ex_df.sample(10)"
   ]
  },
  {
   "cell_type": "code",
   "execution_count": 16,
   "metadata": {},
   "outputs": [],
   "source": [
    "unknown_df = ex_df[ex_df.label_i2 == 10].sample(2400)"
   ]
  },
  {
   "cell_type": "code",
   "execution_count": 17,
   "metadata": {},
   "outputs": [],
   "source": [
    "final_df = ex_df[ex_df.label_i2 != 10]"
   ]
  },
  {
   "cell_type": "code",
   "execution_count": 18,
   "metadata": {},
   "outputs": [],
   "source": [
    "final_df = final_df.append(unknown_df)"
   ]
  },
  {
   "cell_type": "code",
   "execution_count": 19,
   "metadata": {},
   "outputs": [
    {
     "data": {
      "text/plain": [
       "unknown    2400\n",
       "stop       2380\n",
       "yes        2377\n",
       "no         2375\n",
       "up         2375\n",
       "go         2372\n",
       "right      2367\n",
       "on         2367\n",
       "down       2359\n",
       "off        2357\n",
       "left       2353\n",
       "Name: label2, dtype: int64"
      ]
     },
     "execution_count": 19,
     "metadata": {},
     "output_type": "execute_result"
    }
   ],
   "source": [
    "final_df.label2.value_counts()"
   ]
  },
  {
   "cell_type": "code",
   "execution_count": 20,
   "metadata": {},
   "outputs": [],
   "source": [
    "from sklearn.model_selection import train_test_split"
   ]
  },
  {
   "cell_type": "code",
   "execution_count": 21,
   "metadata": {},
   "outputs": [],
   "source": [
    "X = final_df.filename\n",
    "y = final_df.label_i2"
   ]
  },
  {
   "cell_type": "code",
   "execution_count": 22,
   "metadata": {},
   "outputs": [],
   "source": [
    "x_train, x_test, y_train, y_test = train_test_split(X, y, test_size = 0.33)"
   ]
  },
  {
   "cell_type": "code",
   "execution_count": 23,
   "metadata": {},
   "outputs": [],
   "source": [
    "y_train_vec = y_train.as_matrix()\n",
    "y_test_vec = y_test.as_matrix()"
   ]
  },
  {
   "cell_type": "code",
   "execution_count": 24,
   "metadata": {},
   "outputs": [],
   "source": [
    "#! pip install python_speech_features"
   ]
  },
  {
   "cell_type": "code",
   "execution_count": 25,
   "metadata": {},
   "outputs": [],
   "source": [
    "import scipy.io.wavfile\n",
    "from python_speech_features import mfcc"
   ]
  },
  {
   "cell_type": "code",
   "execution_count": 29,
   "metadata": {},
   "outputs": [
    {
     "data": {
      "text/plain": [
       "'data/left/1890e5c3_nohash_0.wav'"
      ]
     },
     "execution_count": 29,
     "metadata": {},
     "output_type": "execute_result"
    }
   ],
   "source": [
    "x_train[812]"
   ]
  },
  {
   "cell_type": "code",
   "execution_count": 30,
   "metadata": {},
   "outputs": [],
   "source": [
    "rate, wave = scipy.io.wavfile.read(x_train[812])"
   ]
  },
  {
   "cell_type": "code",
   "execution_count": 31,
   "metadata": {},
   "outputs": [],
   "source": [
    "mfcc_feat = mfcc(wave, rate, numcep=40, winlen=1/160, winstep=1/160, nfilt=40)"
   ]
  },
  {
   "cell_type": "code",
   "execution_count": 32,
   "metadata": {},
   "outputs": [
    {
     "data": {
      "text/plain": [
       "(160, 40)"
      ]
     },
     "execution_count": 32,
     "metadata": {},
     "output_type": "execute_result"
    }
   ],
   "source": [
    "mfcc_feat.shape"
   ]
  },
  {
   "cell_type": "code",
   "execution_count": 33,
   "metadata": {},
   "outputs": [
    {
     "data": {
      "text/plain": [
       "<matplotlib.image.AxesImage at 0x7f4d461717f0>"
      ]
     },
     "execution_count": 33,
     "metadata": {},
     "output_type": "execute_result"
    },
    {
     "data": {
      "image/png": "[encoded data removed]",
      "text/plain": [
       "<matplotlib.figure.Figure at 0x7f4d481992b0>"
      ]
     },
     "metadata": {},
     "output_type": "display_data"
    }
   ],
   "source": [
    "plt.figure(figsize=(7,7))\n",
    "plt.imshow(mfcc_feat.T, cmap='binary')"
   ]
  },
  {
   "cell_type": "code",
   "execution_count": 34,
   "metadata": {},
   "outputs": [],
   "source": [
    "def process_wavs(X, max_len = 16000, numcep=40, num_windows=160):\n",
    "    x_mfcc = np.zeros((len(X), num_windows, numcep, 1))\n",
    "    for i, fn in enumerate(X):\n",
    "        rate, wave = scipy.io.wavfile.read(fn)\n",
    "        wave = wave[:max_len]\n",
    "        wave = np.pad(wave, (0, max_len-wave.shape[0]), 'minimum')\n",
    "        mfcc_feat = mfcc(wave, rate, numcep=numcep, winlen=(1/num_windows), winstep=(1/num_windows), nfilt=numcep)\n",
    "        x_mfcc[i,:,:,0] = mfcc_feat\n",
    "    x_shift = x_mfcc - (np.mean(x_mfcc, axis=1, keepdims=True) + 1e-8)\n",
    "    return x_shift"
   ]
  },
  {
   "cell_type": "code",
   "execution_count": 35,
   "metadata": {},
   "outputs": [],
   "source": [
    "x_train_vec = process_wavs(x_train)\n",
    "x_test_vec = process_wavs(x_test)"
   ]
  },
  {
   "cell_type": "code",
   "execution_count": 36,
   "metadata": {},
   "outputs": [
    {
     "data": {
      "text/plain": [
       "<matplotlib.image.AxesImage at 0x7f4d460a2cc0>"
      ]
     },
     "execution_count": 36,
     "metadata": {},
     "output_type": "execute_result"
    },
    {
     "data": {
      "image/png": "[encoded data removed]",
      "text/plain": [
       "<matplotlib.figure.Figure at 0x7f4d460ffa58>"
      ]
     },
     "metadata": {},
     "output_type": "display_data"
    }
   ],
   "source": [
    "plt.figure(figsize=(7,7))\n",
    "plt.imshow(x_train_vec[6,:,:,0].T, cmap='gray')"
   ]
  },
  {
   "cell_type": "code",
   "execution_count": 37,
   "metadata": {},
   "outputs": [],
   "source": [
    "import pickle"
   ]
  },
  {
   "cell_type": "code",
   "execution_count": 38,
   "metadata": {},
   "outputs": [],
   "source": [
    "# pickle.dump(x_train_vec, open('x_train_nov23.pkl', 'wb'))\n",
    "# pickle.dump(x_test_vec, open('x_test_nov23.pkl', 'wb'))"
   ]
  },
  {
   "cell_type": "code",
   "execution_count": 39,
   "metadata": {},
   "outputs": [
    {
     "name": "stdout",
     "output_type": "stream",
     "text": [
      "10\n"
     ]
    },
    {
     "data": {
      "text/plain": [
       "10"
      ]
     },
     "execution_count": 39,
     "metadata": {},
     "output_type": "execute_result"
    }
   ],
   "source": [
    "print(max(y_test_vec))\n",
    "max(y_test_vec)"
   ]
  },
  {
   "cell_type": "code",
   "execution_count": 40,
   "metadata": {},
   "outputs": [],
   "source": [
    "num_labels = max(y_train) + 1"
   ]
  },
  {
   "cell_type": "code",
   "execution_count": 41,
   "metadata": {},
   "outputs": [
    {
     "name": "stderr",
     "output_type": "stream",
     "text": [
      "Using TensorFlow backend.\n",
      "/home/ubuntu/anaconda3/envs/tensorflow_p36/lib/python3.6/importlib/_bootstrap.py:219: RuntimeWarning: compiletime version 3.5 of module 'tensorflow.python.framework.fast_tensor_util' does not match runtime version 3.6\n",
      "  return f(*args, **kwds)\n"
     ]
    }
   ],
   "source": [
    "import keras\n",
    "import keras.backend as K\n",
    "# from keras.utils.vis_utils import model_to_dot\n",
    "# from IPython.display import SVG\n",
    "# import vis"
   ]
  },
  {
   "cell_type": "code",
   "execution_count": 87,
   "metadata": {},
   "outputs": [],
   "source": [
    "#! pip install pydot"
   ]
  },
  {
   "cell_type": "code",
   "execution_count": 88,
   "metadata": {},
   "outputs": [],
   "source": [
    "#! pip install graphviz"
   ]
  },
  {
   "cell_type": "code",
   "execution_count": 89,
   "metadata": {},
   "outputs": [],
   "source": [
    "# model1 = keras.Sequential([\n",
    "#     keras.layers.InputLayer(input_shape=x[0].shape),\n",
    "#     keras.layers.Flatten(),\n",
    "#     keras.layers.Dense(500, activation='relu'),\n",
    "#     keras.layers.Dropout(.4),\n",
    "#     keras.layers.Dense(250, activation='relu'),\n",
    "#     keras.layers.Dropout(.4),\n",
    "#     keras.layers.Dense(num_labels, activation='softmax')\n",
    "# ])\n",
    "# #SVG(model_to_dot(model1, show_shapes=True).create(prog='dot', format='svg'))\n",
    "# model1.summary()"
   ]
  },
  {
   "cell_type": "code",
   "execution_count": 40,
   "metadata": {},
   "outputs": [],
   "source": [
    "# model1.compile(loss='sparse_categorical_crossentropy', \n",
    "#                optimizer='nadam',\n",
    "#                metrics=['accuracy'])"
   ]
  },
  {
   "cell_type": "code",
   "execution_count": 41,
   "metadata": {},
   "outputs": [],
   "source": [
    "# history1 = model1.fit(x, y, batch_size=512, epochs=50, verbose=1, validation_split=0.2, \n",
    "#                       callbacks=[keras.callbacks.EarlyStopping(patience=5, verbose=1)])"
   ]
  },
  {
   "cell_type": "code",
   "execution_count": 42,
   "metadata": {},
   "outputs": [],
   "source": [
    "# model2 = keras.Sequential([\n",
    "#     keras.layers.InputLayer(input_shape=x[0].shape),\n",
    "#     keras.layers.Conv2D(64, kernel_size=(20,8), padding='valid', activation='relu'),\n",
    "#     keras.layers.MaxPool2D(pool_size=(2,2), padding='valid'),\n",
    "#     keras.layers.BatchNormalization(),\n",
    "#     keras.layers.Conv2D(64, kernel_size=(10,4), padding='valid', activation='relu'),\n",
    "#     keras.layers.MaxPool2D(pool_size=(2,2), padding='valid'),\n",
    "#     keras.layers.BatchNormalization(),\n",
    "#     keras.layers.Flatten(),\n",
    "#     keras.layers.Dense(500, activation=\"relu\"),\n",
    "#     keras.layers.Dropout(.4),\n",
    "#     keras.layers.Dense(250, activation=\"relu\"),\n",
    "#     keras.layers.Dropout(.4),\n",
    "#     keras.layers.Dense(num_labels, activation=\"softmax\")\n",
    "# ])\n",
    "# #SVG(model_to_dot(model2, show_shapes=True).create(prog=\"dot\", format=\"svg\"))\n",
    "# model2.summary()"
   ]
  },
  {
   "cell_type": "code",
   "execution_count": 43,
   "metadata": {},
   "outputs": [],
   "source": [
    "# model2.compile(loss='sparse_categorical_crossentropy', \n",
    "#                optimizer='nadam',\n",
    "#                metrics=['accuracy'])"
   ]
  },
  {
   "cell_type": "code",
   "execution_count": 44,
   "metadata": {},
   "outputs": [],
   "source": [
    "# history2 = model2.fit(x, y, batch_size=512, epochs=50, verbose=1, validation_split=0.2, \n",
    "#                       callbacks=[keras.callbacks.EarlyStopping(monitor='val_acc', patience=5,verbose=1)])"
   ]
  },
  {
   "cell_type": "code",
   "execution_count": 45,
   "metadata": {},
   "outputs": [],
   "source": [
    "#! pip install sklearn"
   ]
  },
  {
   "cell_type": "code",
   "execution_count": 42,
   "metadata": {},
   "outputs": [],
   "source": [
    "from keras.wrappers.scikit_learn import KerasClassifier\n",
    "from sklearn.model_selection import cross_val_score\n",
    "from sklearn.model_selection import KFold\n",
    "from sklearn.metrics import confusion_matrix"
   ]
  },
  {
   "cell_type": "code",
   "execution_count": 43,
   "metadata": {},
   "outputs": [
    {
     "data": {
      "text/plain": [
       "(160, 40, 1)"
      ]
     },
     "execution_count": 43,
     "metadata": {},
     "output_type": "execute_result"
    }
   ],
   "source": [
    "x_train_vec[0].shape"
   ]
  },
  {
   "cell_type": "code",
   "execution_count": 44,
   "metadata": {},
   "outputs": [],
   "source": [
    "# define model\n",
    "def CNN():\n",
    "    # create model\n",
    "    model = keras.Sequential([\n",
    "        keras.layers.InputLayer(input_shape=(160,40,1)),\n",
    "        keras.layers.Conv2D(64, kernel_size=(20,8), padding='valid', activation='relu'),\n",
    "        keras.layers.MaxPool2D(pool_size=(2,2), padding='valid'),\n",
    "        keras.layers.BatchNormalization(),\n",
    "        keras.layers.Conv2D(64, kernel_size=(10,4), padding='valid', activation='relu'),\n",
    "        keras.layers.MaxPool2D(pool_size=(2,2), padding='valid'),\n",
    "        keras.layers.BatchNormalization(),\n",
    "        keras.layers.Flatten(),\n",
    "        keras.layers.Dense(500, activation=\"relu\"),\n",
    "        keras.layers.Dropout(.4),\n",
    "        keras.layers.Dense(250, activation=\"relu\"),\n",
    "        keras.layers.Dropout(.4),\n",
    "        keras.layers.Dense(num_labels, activation=\"softmax\")\n",
    "    ])\n",
    "    #SVG(model_to_dot(model2, show_shapes=True).create(prog=\"dot\", format=\"svg\"))\n",
    "    model.summary()\n",
    "    # Compile model\n",
    "    model.compile(loss='sparse_categorical_crossentropy', \n",
    "                   optimizer='nadam',\n",
    "                   metrics=['accuracy'])\n",
    "    return model"
   ]
  },
  {
   "cell_type": "code",
   "execution_count": 45,
   "metadata": {},
   "outputs": [],
   "source": [
    "estimator = KerasClassifier(build_fn=CNN, batch_size=512, epochs=50, verbose=1, validation_split=0.2)"
   ]
  },
  {
   "cell_type": "code",
   "execution_count": 46,
   "metadata": {
    "scrolled": false
   },
   "outputs": [
    {
     "name": "stdout",
     "output_type": "stream",
     "text": [
      "_________________________________________________________________\n",
      "Layer (type)                 Output Shape              Param #   \n",
      "=================================================================\n",
      "input_1 (InputLayer)         (None, 160, 40, 1)        0         \n",
      "_________________________________________________________________\n",
      "conv2d_1 (Conv2D)            (None, 141, 33, 64)       10304     \n",
      "_________________________________________________________________\n",
      "max_pooling2d_1 (MaxPooling2 (None, 70, 16, 64)        0         \n",
      "_________________________________________________________________\n",
      "batch_normalization_1 (Batch (None, 70, 16, 64)        256       \n",
      "_________________________________________________________________\n",
      "conv2d_2 (Conv2D)            (None, 61, 13, 64)        163904    \n",
      "_________________________________________________________________\n",
      "max_pooling2d_2 (MaxPooling2 (None, 30, 6, 64)         0         \n",
      "_________________________________________________________________\n",
      "batch_normalization_2 (Batch (None, 30, 6, 64)         256       \n",
      "_________________________________________________________________\n",
      "flatten_1 (Flatten)          (None, 11520)             0         \n",
      "_________________________________________________________________\n",
      "dense_1 (Dense)              (None, 500)               5760500   \n",
      "_________________________________________________________________\n",
      "dropout_1 (Dropout)          (None, 500)               0         \n",
      "_________________________________________________________________\n",
      "dense_2 (Dense)              (None, 250)               125250    \n",
      "_________________________________________________________________\n",
      "dropout_2 (Dropout)          (None, 250)               0         \n",
      "_________________________________________________________________\n",
      "dense_3 (Dense)              (None, 11)                2761      \n",
      "=================================================================\n",
      "Total params: 6,063,231\n",
      "Trainable params: 6,062,975\n",
      "Non-trainable params: 256\n",
      "_________________________________________________________________\n",
      "Train on 13979 samples, validate on 3495 samples\n",
      "Epoch 1/50\n",
      "13979/13979 [==============================] - 27s 2ms/step - loss: 6.3203 - acc: 0.1032 - val_loss: 8.4260 - val_acc: 0.1242\n",
      "Epoch 2/50\n",
      "13979/13979 [==============================] - 18s 1ms/step - loss: 2.3680 - acc: 0.1333 - val_loss: 2.8950 - val_acc: 0.1256\n",
      "Epoch 3/50\n",
      "13979/13979 [==============================] - 19s 1ms/step - loss: 2.2958 - acc: 0.1729 - val_loss: 2.8785 - val_acc: 0.1551\n",
      "Epoch 4/50\n",
      "13979/13979 [==============================] - 19s 1ms/step - loss: 2.2709 - acc: 0.1879 - val_loss: 2.7887 - val_acc: 0.1454\n",
      "Epoch 5/50\n",
      "13979/13979 [==============================] - 19s 1ms/step - loss: 2.2758 - acc: 0.1675 - val_loss: 2.3468 - val_acc: 0.1582\n",
      "Epoch 6/50\n",
      "13979/13979 [==============================] - 19s 1ms/step - loss: 2.1577 - acc: 0.2096 - val_loss: 2.0595 - val_acc: 0.2515\n",
      "Epoch 7/50\n",
      "13979/13979 [==============================] - 19s 1ms/step - loss: 2.0006 - acc: 0.2717 - val_loss: 2.0459 - val_acc: 0.3187\n",
      "Epoch 8/50\n",
      "13979/13979 [==============================] - 19s 1ms/step - loss: 1.8610 - acc: 0.3149 - val_loss: 1.5979 - val_acc: 0.4140\n",
      "Epoch 9/50\n",
      "13979/13979 [==============================] - 19s 1ms/step - loss: 1.8168 - acc: 0.3410 - val_loss: 1.6078 - val_acc: 0.4260\n",
      "Epoch 10/50\n",
      "13979/13979 [==============================] - 19s 1ms/step - loss: 1.6358 - acc: 0.3955 - val_loss: 1.7111 - val_acc: 0.4206\n",
      "Epoch 11/50\n",
      "13979/13979 [==============================] - 19s 1ms/step - loss: 1.5297 - acc: 0.4345 - val_loss: 1.2442 - val_acc: 0.5454\n",
      "Epoch 12/50\n",
      "13979/13979 [==============================] - 19s 1ms/step - loss: 1.3536 - acc: 0.5016 - val_loss: 1.1507 - val_acc: 0.5974\n",
      "Epoch 13/50\n",
      "13979/13979 [==============================] - 19s 1ms/step - loss: 1.2070 - acc: 0.5601 - val_loss: 1.1693 - val_acc: 0.5751\n",
      "Epoch 14/50\n",
      "13979/13979 [==============================] - 19s 1ms/step - loss: 1.0258 - acc: 0.6257 - val_loss: 2.3838 - val_acc: 0.4046\n",
      "Epoch 15/50\n",
      "13979/13979 [==============================] - 19s 1ms/step - loss: 0.9395 - acc: 0.6689 - val_loss: 0.9506 - val_acc: 0.6847\n",
      "Epoch 16/50\n",
      "13979/13979 [==============================] - 19s 1ms/step - loss: 0.7673 - acc: 0.7350 - val_loss: 1.2305 - val_acc: 0.6146\n",
      "Epoch 17/50\n",
      "13979/13979 [==============================] - 19s 1ms/step - loss: 0.6624 - acc: 0.7757 - val_loss: 0.8755 - val_acc: 0.7325\n",
      "Epoch 18/50\n",
      "13979/13979 [==============================] - 19s 1ms/step - loss: 0.5584 - acc: 0.8136 - val_loss: 0.8281 - val_acc: 0.7413\n",
      "Epoch 19/50\n",
      "13979/13979 [==============================] - 19s 1ms/step - loss: 0.4701 - acc: 0.8418 - val_loss: 0.6228 - val_acc: 0.7991\n",
      "Epoch 20/50\n",
      "13979/13979 [==============================] - 19s 1ms/step - loss: 0.4040 - acc: 0.8632 - val_loss: 0.6552 - val_acc: 0.7966\n",
      "Epoch 21/50\n",
      "13979/13979 [==============================] - 19s 1ms/step - loss: 0.3572 - acc: 0.8809 - val_loss: 0.7061 - val_acc: 0.7728\n",
      "Epoch 22/50\n",
      "13979/13979 [==============================] - 19s 1ms/step - loss: 0.3243 - acc: 0.8916 - val_loss: 0.6258 - val_acc: 0.8217\n",
      "Epoch 23/50\n",
      "13979/13979 [==============================] - 19s 1ms/step - loss: 0.2886 - acc: 0.9063 - val_loss: 0.8054 - val_acc: 0.7803\n",
      "Epoch 24/50\n",
      "13979/13979 [==============================] - 19s 1ms/step - loss: 0.2595 - acc: 0.9190 - val_loss: 0.5580 - val_acc: 0.8426\n",
      "Epoch 25/50\n",
      "13979/13979 [==============================] - 19s 1ms/step - loss: 0.2202 - acc: 0.9237 - val_loss: 0.5268 - val_acc: 0.8526\n",
      "Epoch 26/50\n",
      "13979/13979 [==============================] - 19s 1ms/step - loss: 0.1897 - acc: 0.9394 - val_loss: 0.5388 - val_acc: 0.8352\n",
      "Epoch 27/50\n",
      "13979/13979 [==============================] - 19s 1ms/step - loss: 0.1866 - acc: 0.9391 - val_loss: 0.6220 - val_acc: 0.8355\n",
      "Epoch 28/50\n",
      "13979/13979 [==============================] - 19s 1ms/step - loss: 0.1718 - acc: 0.9431 - val_loss: 0.5844 - val_acc: 0.8506\n",
      "Epoch 29/50\n",
      "13979/13979 [==============================] - 19s 1ms/step - loss: 0.1484 - acc: 0.9507 - val_loss: 0.6117 - val_acc: 0.8461\n",
      "Epoch 30/50\n",
      "13979/13979 [==============================] - 19s 1ms/step - loss: 0.1585 - acc: 0.9492 - val_loss: 0.6788 - val_acc: 0.8398\n",
      "Epoch 31/50\n",
      "13979/13979 [==============================] - 19s 1ms/step - loss: 0.1364 - acc: 0.9548 - val_loss: 0.6338 - val_acc: 0.8441\n",
      "Epoch 32/50\n",
      "13979/13979 [==============================] - 19s 1ms/step - loss: 0.1280 - acc: 0.9582 - val_loss: 0.6207 - val_acc: 0.8584\n",
      "Epoch 33/50\n",
      "13979/13979 [==============================] - 19s 1ms/step - loss: 0.1182 - acc: 0.9619 - val_loss: 0.6780 - val_acc: 0.8372\n",
      "Epoch 34/50\n",
      "13979/13979 [==============================] - 19s 1ms/step - loss: 0.1143 - acc: 0.9631 - val_loss: 0.5600 - val_acc: 0.8727\n",
      "Epoch 35/50\n",
      "13979/13979 [==============================] - 19s 1ms/step - loss: 0.1077 - acc: 0.9662 - val_loss: 0.6055 - val_acc: 0.8601\n",
      "Epoch 36/50\n",
      "13979/13979 [==============================] - 19s 1ms/step - loss: 0.1025 - acc: 0.9694 - val_loss: 0.7256 - val_acc: 0.8446\n",
      "Epoch 37/50\n",
      "13979/13979 [==============================] - 19s 1ms/step - loss: 0.1026 - acc: 0.9672 - val_loss: 0.7852 - val_acc: 0.8435\n",
      "Epoch 38/50\n",
      "13979/13979 [==============================] - 19s 1ms/step - loss: 0.0972 - acc: 0.9698 - val_loss: 0.9119 - val_acc: 0.7963\n",
      "Epoch 39/50\n",
      "13979/13979 [==============================] - 19s 1ms/step - loss: 0.1047 - acc: 0.9668 - val_loss: 0.7138 - val_acc: 0.8518\n",
      "Epoch 40/50\n",
      "13979/13979 [==============================] - 19s 1ms/step - loss: 0.0901 - acc: 0.9732 - val_loss: 0.6558 - val_acc: 0.8638\n",
      "Epoch 41/50\n",
      "13979/13979 [==============================] - 19s 1ms/step - loss: 0.0805 - acc: 0.9746 - val_loss: 0.6628 - val_acc: 0.8638\n",
      "Epoch 42/50\n",
      "13979/13979 [==============================] - 19s 1ms/step - loss: 0.0744 - acc: 0.9764 - val_loss: 0.8169 - val_acc: 0.8464\n",
      "Epoch 43/50\n",
      "13979/13979 [==============================] - 19s 1ms/step - loss: 0.0790 - acc: 0.9766 - val_loss: 0.6760 - val_acc: 0.8644\n",
      "Epoch 44/50\n",
      "13979/13979 [==============================] - 19s 1ms/step - loss: 0.0786 - acc: 0.9760 - val_loss: 0.6680 - val_acc: 0.8629\n",
      "Epoch 45/50\n"
     ]
    },
    {
     "name": "stdout",
     "output_type": "stream",
     "text": [
      "13979/13979 [==============================] - 19s 1ms/step - loss: 0.0767 - acc: 0.9761 - val_loss: 0.8858 - val_acc: 0.8418\n",
      "Epoch 46/50\n",
      "13979/13979 [==============================] - 19s 1ms/step - loss: 0.0786 - acc: 0.9757 - val_loss: 0.6172 - val_acc: 0.8744\n",
      "Epoch 47/50\n",
      "13979/13979 [==============================] - 19s 1ms/step - loss: 0.0682 - acc: 0.9787 - val_loss: 0.6236 - val_acc: 0.8744\n",
      "Epoch 48/50\n",
      "13979/13979 [==============================] - 19s 1ms/step - loss: 0.0519 - acc: 0.9834 - val_loss: 0.6295 - val_acc: 0.8787\n",
      "Epoch 49/50\n",
      "13979/13979 [==============================] - 19s 1ms/step - loss: 0.0556 - acc: 0.9819 - val_loss: 0.6065 - val_acc: 0.8787\n",
      "Epoch 50/50\n",
      "13979/13979 [==============================] - 19s 1ms/step - loss: 0.0570 - acc: 0.9823 - val_loss: 0.6498 - val_acc: 0.8781\n"
     ]
    }
   ],
   "source": [
    "history = estimator.fit(x_train_vec, y_train_vec)"
   ]
  },
  {
   "cell_type": "code",
   "execution_count": 47,
   "metadata": {},
   "outputs": [
    {
     "name": "stdout",
     "output_type": "stream",
     "text": [
      "17474/17474 [==============================] - 8s 486us/step\n"
     ]
    }
   ],
   "source": [
    "y_train_pred = estimator.predict(x_train_vec)"
   ]
  },
  {
   "cell_type": "code",
   "execution_count": 48,
   "metadata": {},
   "outputs": [
    {
     "name": "stdout",
     "output_type": "stream",
     "text": [
      "8608/8608 [==============================] - 5s 553us/step\n"
     ]
    }
   ],
   "source": [
    "y_test_pred = estimator.predict(x_test_vec)"
   ]
  },
  {
   "cell_type": "code",
   "execution_count": 45,
   "metadata": {},
   "outputs": [],
   "source": [
    "# ! pip install seaborn"
   ]
  },
  {
   "cell_type": "code",
   "execution_count": 49,
   "metadata": {},
   "outputs": [],
   "source": [
    "import seaborn as sns\n",
    "from sklearn import metrics"
   ]
  },
  {
   "cell_type": "code",
   "execution_count": 50,
   "metadata": {},
   "outputs": [
    {
     "data": {
      "text/plain": [
       "0.9744191370035481"
      ]
     },
     "execution_count": 50,
     "metadata": {},
     "output_type": "execute_result"
    }
   ],
   "source": [
    "metrics.accuracy_score(y_train_vec, y_train_pred)"
   ]
  },
  {
   "cell_type": "code",
   "execution_count": 51,
   "metadata": {},
   "outputs": [
    {
     "data": {
      "text/plain": [
       "0.88255111524163565"
      ]
     },
     "execution_count": 51,
     "metadata": {},
     "output_type": "execute_result"
    }
   ],
   "source": [
    "metrics.accuracy_score(y_test_vec, y_test_pred)"
   ]
  },
  {
   "cell_type": "code",
   "execution_count": 52,
   "metadata": {},
   "outputs": [
    {
     "data": {
      "text/plain": [
       "array([ 0.92565056,  0.85642317,  0.91402116,  0.88615783,  0.89165629,\n",
       "        0.92533333,  0.94881398,  0.92206077,  0.83476132,  0.95212766,\n",
       "        0.66165414])"
      ]
     },
     "execution_count": 52,
     "metadata": {},
     "output_type": "execute_result"
    }
   ],
   "source": [
    "metrics.recall_score(y_test_vec, y_test_pred, average=None)"
   ]
  },
  {
   "cell_type": "code",
   "execution_count": 53,
   "metadata": {},
   "outputs": [
    {
     "data": {
      "text/plain": [
       "array([ 0.89461078,  0.88311688,  0.91523179,  0.91090426,  0.84934757,\n",
       "        0.87515763,  0.90692124,  0.92572944,  0.79953107,  0.95721925,\n",
       "        0.7916042 ])"
      ]
     },
     "execution_count": 53,
     "metadata": {},
     "output_type": "execute_result"
    }
   ],
   "source": [
    "metrics.precision_score(y_test_vec, y_test_pred, average=None)"
   ]
  },
  {
   "cell_type": "code",
   "execution_count": 54,
   "metadata": {},
   "outputs": [
    {
     "data": {
      "text/plain": [
       "<matplotlib.axes._subplots.AxesSubplot at 0x7f4d5e622e80>"
      ]
     },
     "execution_count": 54,
     "metadata": {},
     "output_type": "execute_result"
    },
    {
     "data": {
      "image/png": "[encoded data removed]",
      "text/plain": [
       "<matplotlib.figure.Figure at 0x7f4ca05d3f60>"
      ]
     },
     "metadata": {},
     "output_type": "display_data"
    }
   ],
   "source": [
    "plt.figure(figsize=(10,7))\n",
    "sns.heatmap(confusion_matrix(y_test_vec, y_test_pred), annot=True, xticklabels=['down', 'go', 'left', 'no', 'off',\n",
    "                                                                               'on', 'right', 'stop', 'up', 'yes',\n",
    "                                                                               'unknown'], yticklabels=['down', 'go', 'left', 'no', 'off',\n",
    "                                                                               'on', 'right', 'stop', 'up', 'yes',\n",
    "                                                                               'unknown'])"
   ]
  },
  {
   "cell_type": "code",
   "execution_count": 55,
   "metadata": {},
   "outputs": [],
   "source": [
    "test_df = final_df.loc()[x_test.index]"
   ]
  },
  {
   "cell_type": "code",
   "execution_count": 56,
   "metadata": {},
   "outputs": [],
   "source": [
    "test_df['pred_label_i'] = y_test_pred"
   ]
  },
  {
   "cell_type": "code",
   "execution_count": 57,
   "metadata": {},
   "outputs": [],
   "source": [
    "label_dict_rev = {v: k for k,v in label_dict.items()}"
   ]
  },
  {
   "cell_type": "code",
   "execution_count": 58,
   "metadata": {},
   "outputs": [
    {
     "data": {
      "text/plain": [
       "{0: 'down',\n",
       " 1: 'go',\n",
       " 2: 'left',\n",
       " 3: 'no',\n",
       " 4: 'off',\n",
       " 5: 'on',\n",
       " 6: 'right',\n",
       " 7: 'stop',\n",
       " 8: 'up',\n",
       " 9: 'yes',\n",
       " 10: 'unknown'}"
      ]
     },
     "execution_count": 58,
     "metadata": {},
     "output_type": "execute_result"
    }
   ],
   "source": [
    "label_dict_rev"
   ]
  },
  {
   "cell_type": "code",
   "execution_count": 59,
   "metadata": {},
   "outputs": [],
   "source": [
    "test_df['pred_label'] = test_df.pred_label_i.map(label_dict_rev)"
   ]
  },
  {
   "cell_type": "code",
   "execution_count": 60,
   "metadata": {},
   "outputs": [
    {
     "data": {
      "text/html": [
       "<div>\n",
       "<style scoped>\n",
       "    .dataframe tbody tr th:only-of-type {\n",
       "        vertical-align: middle;\n",
       "    }\n",
       "\n",
       "    .dataframe tbody tr th {\n",
       "        vertical-align: top;\n",
       "    }\n",
       "\n",
       "    .dataframe thead th {\n",
       "        text-align: right;\n",
       "    }\n",
       "</style>\n",
       "<table border=\"1\" class=\"dataframe\">\n",
       "  <thead>\n",
       "    <tr style=\"text-align: right;\">\n",
       "      <th></th>\n",
       "      <th>filename</th>\n",
       "      <th>label</th>\n",
       "      <th>label2</th>\n",
       "      <th>pred_label</th>\n",
       "    </tr>\n",
       "  </thead>\n",
       "  <tbody>\n",
       "    <tr>\n",
       "      <th>25773</th>\n",
       "      <td>data/on/4a1e736b_nohash_4.wav</td>\n",
       "      <td>on</td>\n",
       "      <td>on</td>\n",
       "      <td>off</td>\n",
       "    </tr>\n",
       "    <tr>\n",
       "      <th>60045</th>\n",
       "      <td>data/stop/65040d9b_nohash_0.wav</td>\n",
       "      <td>stop</td>\n",
       "      <td>stop</td>\n",
       "      <td>go</td>\n",
       "    </tr>\n",
       "    <tr>\n",
       "      <th>7446</th>\n",
       "      <td>data/tree/10467b06_nohash_0.wav</td>\n",
       "      <td>tree</td>\n",
       "      <td>unknown</td>\n",
       "      <td>up</td>\n",
       "    </tr>\n",
       "    <tr>\n",
       "      <th>5744</th>\n",
       "      <td>data/no/8134f43f_nohash_0.wav</td>\n",
       "      <td>no</td>\n",
       "      <td>no</td>\n",
       "      <td>up</td>\n",
       "    </tr>\n",
       "    <tr>\n",
       "      <th>5299</th>\n",
       "      <td>data/no/b9f46737_nohash_4.wav</td>\n",
       "      <td>no</td>\n",
       "      <td>no</td>\n",
       "      <td>left</td>\n",
       "    </tr>\n",
       "    <tr>\n",
       "      <th>48405</th>\n",
       "      <td>data/yes/8134f43f_nohash_3.wav</td>\n",
       "      <td>yes</td>\n",
       "      <td>yes</td>\n",
       "      <td>right</td>\n",
       "    </tr>\n",
       "    <tr>\n",
       "      <th>36592</th>\n",
       "      <td>data/down/6727b579_nohash_0.wav</td>\n",
       "      <td>down</td>\n",
       "      <td>down</td>\n",
       "      <td>no</td>\n",
       "    </tr>\n",
       "    <tr>\n",
       "      <th>28928</th>\n",
       "      <td>data/right/229978fd_nohash_1.wav</td>\n",
       "      <td>right</td>\n",
       "      <td>right</td>\n",
       "      <td>up</td>\n",
       "    </tr>\n",
       "    <tr>\n",
       "      <th>63047</th>\n",
       "      <td>data/off/ec201020_nohash_3.wav</td>\n",
       "      <td>off</td>\n",
       "      <td>off</td>\n",
       "      <td>up</td>\n",
       "    </tr>\n",
       "    <tr>\n",
       "      <th>7064</th>\n",
       "      <td>data/no/264f471d_nohash_4.wav</td>\n",
       "      <td>no</td>\n",
       "      <td>no</td>\n",
       "      <td>down</td>\n",
       "    </tr>\n",
       "    <tr>\n",
       "      <th>50885</th>\n",
       "      <td>data/up/51055bda_nohash_1.wav</td>\n",
       "      <td>up</td>\n",
       "      <td>up</td>\n",
       "      <td>stop</td>\n",
       "    </tr>\n",
       "    <tr>\n",
       "      <th>50003</th>\n",
       "      <td>data/up/28460a60_nohash_0.wav</td>\n",
       "      <td>up</td>\n",
       "      <td>up</td>\n",
       "      <td>on</td>\n",
       "    </tr>\n",
       "    <tr>\n",
       "      <th>15394</th>\n",
       "      <td>data/house/01bb6a2a_nohash_0.wav</td>\n",
       "      <td>house</td>\n",
       "      <td>unknown</td>\n",
       "      <td>off</td>\n",
       "    </tr>\n",
       "    <tr>\n",
       "      <th>35158</th>\n",
       "      <td>data/seven/5a9f7324_nohash_4.wav</td>\n",
       "      <td>seven</td>\n",
       "      <td>unknown</td>\n",
       "      <td>stop</td>\n",
       "    </tr>\n",
       "    <tr>\n",
       "      <th>5107</th>\n",
       "      <td>data/no/0137b3f4_nohash_3.wav</td>\n",
       "      <td>no</td>\n",
       "      <td>no</td>\n",
       "      <td>go</td>\n",
       "    </tr>\n",
       "    <tr>\n",
       "      <th>49831</th>\n",
       "      <td>data/up/e07dd7d4_nohash_0.wav</td>\n",
       "      <td>up</td>\n",
       "      <td>up</td>\n",
       "      <td>off</td>\n",
       "    </tr>\n",
       "    <tr>\n",
       "      <th>49985</th>\n",
       "      <td>data/up/353b4d33_nohash_1.wav</td>\n",
       "      <td>up</td>\n",
       "      <td>up</td>\n",
       "      <td>off</td>\n",
       "    </tr>\n",
       "    <tr>\n",
       "      <th>12258</th>\n",
       "      <td>data/bed/62605293_nohash_0.wav</td>\n",
       "      <td>bed</td>\n",
       "      <td>unknown</td>\n",
       "      <td>on</td>\n",
       "    </tr>\n",
       "    <tr>\n",
       "      <th>58968</th>\n",
       "      <td>data/stop/97f4c236_nohash_1.wav</td>\n",
       "      <td>stop</td>\n",
       "      <td>stop</td>\n",
       "      <td>right</td>\n",
       "    </tr>\n",
       "    <tr>\n",
       "      <th>2068</th>\n",
       "      <td>data/left/94de6a6a_nohash_4.wav</td>\n",
       "      <td>left</td>\n",
       "      <td>left</td>\n",
       "      <td>on</td>\n",
       "    </tr>\n",
       "    <tr>\n",
       "      <th>51206</th>\n",
       "      <td>data/up/56f8a100_nohash_1.wav</td>\n",
       "      <td>up</td>\n",
       "      <td>up</td>\n",
       "      <td>left</td>\n",
       "    </tr>\n",
       "    <tr>\n",
       "      <th>36185</th>\n",
       "      <td>data/down/2da58b32_nohash_2.wav</td>\n",
       "      <td>down</td>\n",
       "      <td>down</td>\n",
       "      <td>on</td>\n",
       "    </tr>\n",
       "    <tr>\n",
       "      <th>41794</th>\n",
       "      <td>data/go/da584bc0_nohash_4.wav</td>\n",
       "      <td>go</td>\n",
       "      <td>go</td>\n",
       "      <td>unknown</td>\n",
       "    </tr>\n",
       "    <tr>\n",
       "      <th>42209</th>\n",
       "      <td>data/go/dbb40d24_nohash_2.wav</td>\n",
       "      <td>go</td>\n",
       "      <td>go</td>\n",
       "      <td>left</td>\n",
       "    </tr>\n",
       "    <tr>\n",
       "      <th>5552</th>\n",
       "      <td>data/no/9f7079fe_nohash_0.wav</td>\n",
       "      <td>no</td>\n",
       "      <td>no</td>\n",
       "      <td>go</td>\n",
       "    </tr>\n",
       "    <tr>\n",
       "      <th>48071</th>\n",
       "      <td>data/yes/05b2db80_nohash_0.wav</td>\n",
       "      <td>yes</td>\n",
       "      <td>yes</td>\n",
       "      <td>stop</td>\n",
       "    </tr>\n",
       "    <tr>\n",
       "      <th>55980</th>\n",
       "      <td>data/five/fa7895de_nohash_0.wav</td>\n",
       "      <td>five</td>\n",
       "      <td>unknown</td>\n",
       "      <td>on</td>\n",
       "    </tr>\n",
       "    <tr>\n",
       "      <th>11252</th>\n",
       "      <td>data/bed/c0c701f1_nohash_1.wav</td>\n",
       "      <td>bed</td>\n",
       "      <td>unknown</td>\n",
       "      <td>up</td>\n",
       "    </tr>\n",
       "    <tr>\n",
       "      <th>1516</th>\n",
       "      <td>data/left/918a2473_nohash_1.wav</td>\n",
       "      <td>left</td>\n",
       "      <td>left</td>\n",
       "      <td>up</td>\n",
       "    </tr>\n",
       "    <tr>\n",
       "      <th>50199</th>\n",
       "      <td>data/up/190821dc_nohash_2.wav</td>\n",
       "      <td>up</td>\n",
       "      <td>up</td>\n",
       "      <td>right</td>\n",
       "    </tr>\n",
       "    <tr>\n",
       "      <th>...</th>\n",
       "      <td>...</td>\n",
       "      <td>...</td>\n",
       "      <td>...</td>\n",
       "      <td>...</td>\n",
       "    </tr>\n",
       "    <tr>\n",
       "      <th>1072</th>\n",
       "      <td>data/left/7f74626f_nohash_4.wav</td>\n",
       "      <td>left</td>\n",
       "      <td>left</td>\n",
       "      <td>up</td>\n",
       "    </tr>\n",
       "    <tr>\n",
       "      <th>4758</th>\n",
       "      <td>data/no/bdee441c_nohash_3.wav</td>\n",
       "      <td>no</td>\n",
       "      <td>no</td>\n",
       "      <td>down</td>\n",
       "    </tr>\n",
       "    <tr>\n",
       "      <th>4245</th>\n",
       "      <td>data/eight/964e8cfd_nohash_4.wav</td>\n",
       "      <td>eight</td>\n",
       "      <td>unknown</td>\n",
       "      <td>up</td>\n",
       "    </tr>\n",
       "    <tr>\n",
       "      <th>41854</th>\n",
       "      <td>data/go/30802c5d_nohash_1.wav</td>\n",
       "      <td>go</td>\n",
       "      <td>go</td>\n",
       "      <td>no</td>\n",
       "    </tr>\n",
       "    <tr>\n",
       "      <th>25616</th>\n",
       "      <td>data/on/7e783e3f_nohash_3.wav</td>\n",
       "      <td>on</td>\n",
       "      <td>on</td>\n",
       "      <td>stop</td>\n",
       "    </tr>\n",
       "    <tr>\n",
       "      <th>2234</th>\n",
       "      <td>data/left/7c1d8533_nohash_3.wav</td>\n",
       "      <td>left</td>\n",
       "      <td>left</td>\n",
       "      <td>unknown</td>\n",
       "    </tr>\n",
       "    <tr>\n",
       "      <th>40642</th>\n",
       "      <td>data/go/bc065a17_nohash_0.wav</td>\n",
       "      <td>go</td>\n",
       "      <td>go</td>\n",
       "      <td>down</td>\n",
       "    </tr>\n",
       "    <tr>\n",
       "      <th>50922</th>\n",
       "      <td>data/up/c634a189_nohash_4.wav</td>\n",
       "      <td>up</td>\n",
       "      <td>up</td>\n",
       "      <td>off</td>\n",
       "    </tr>\n",
       "    <tr>\n",
       "      <th>27000</th>\n",
       "      <td>data/right/2da58b32_nohash_3.wav</td>\n",
       "      <td>right</td>\n",
       "      <td>right</td>\n",
       "      <td>off</td>\n",
       "    </tr>\n",
       "    <tr>\n",
       "      <th>38042</th>\n",
       "      <td>data/down/7c1d8533_nohash_3.wav</td>\n",
       "      <td>down</td>\n",
       "      <td>down</td>\n",
       "      <td>no</td>\n",
       "    </tr>\n",
       "    <tr>\n",
       "      <th>6479</th>\n",
       "      <td>data/no/692a88e6_nohash_0.wav</td>\n",
       "      <td>no</td>\n",
       "      <td>no</td>\n",
       "      <td>down</td>\n",
       "    </tr>\n",
       "    <tr>\n",
       "      <th>43109</th>\n",
       "      <td>data/happy/40b60ae9_nohash_1.wav</td>\n",
       "      <td>happy</td>\n",
       "      <td>unknown</td>\n",
       "      <td>right</td>\n",
       "    </tr>\n",
       "    <tr>\n",
       "      <th>24200</th>\n",
       "      <td>data/zero/7cf14c54_nohash_0.wav</td>\n",
       "      <td>zero</td>\n",
       "      <td>unknown</td>\n",
       "      <td>stop</td>\n",
       "    </tr>\n",
       "    <tr>\n",
       "      <th>51295</th>\n",
       "      <td>data/up/51055bda_nohash_0.wav</td>\n",
       "      <td>up</td>\n",
       "      <td>up</td>\n",
       "      <td>off</td>\n",
       "    </tr>\n",
       "    <tr>\n",
       "      <th>54114</th>\n",
       "      <td>data/three/c1e0e8e3_nohash_0.wav</td>\n",
       "      <td>three</td>\n",
       "      <td>unknown</td>\n",
       "      <td>right</td>\n",
       "    </tr>\n",
       "    <tr>\n",
       "      <th>51183</th>\n",
       "      <td>data/up/83957201_nohash_1.wav</td>\n",
       "      <td>up</td>\n",
       "      <td>up</td>\n",
       "      <td>unknown</td>\n",
       "    </tr>\n",
       "    <tr>\n",
       "      <th>39568</th>\n",
       "      <td>data/one/8ea22de7_nohash_0.wav</td>\n",
       "      <td>one</td>\n",
       "      <td>unknown</td>\n",
       "      <td>right</td>\n",
       "    </tr>\n",
       "    <tr>\n",
       "      <th>22760</th>\n",
       "      <td>data/zero/e7ebf59c_nohash_1.wav</td>\n",
       "      <td>zero</td>\n",
       "      <td>unknown</td>\n",
       "      <td>go</td>\n",
       "    </tr>\n",
       "    <tr>\n",
       "      <th>47645</th>\n",
       "      <td>data/yes/3bfd30e6_nohash_1.wav</td>\n",
       "      <td>yes</td>\n",
       "      <td>yes</td>\n",
       "      <td>unknown</td>\n",
       "    </tr>\n",
       "    <tr>\n",
       "      <th>1575</th>\n",
       "      <td>data/left/b575b5fb_nohash_0.wav</td>\n",
       "      <td>left</td>\n",
       "      <td>left</td>\n",
       "      <td>up</td>\n",
       "    </tr>\n",
       "    <tr>\n",
       "      <th>64574</th>\n",
       "      <td>data/off/15c563d7_nohash_1.wav</td>\n",
       "      <td>off</td>\n",
       "      <td>off</td>\n",
       "      <td>left</td>\n",
       "    </tr>\n",
       "    <tr>\n",
       "      <th>51609</th>\n",
       "      <td>data/up/7f74626f_nohash_0.wav</td>\n",
       "      <td>up</td>\n",
       "      <td>up</td>\n",
       "      <td>off</td>\n",
       "    </tr>\n",
       "    <tr>\n",
       "      <th>48342</th>\n",
       "      <td>data/yes/92b0a735_nohash_0.wav</td>\n",
       "      <td>yes</td>\n",
       "      <td>yes</td>\n",
       "      <td>left</td>\n",
       "    </tr>\n",
       "    <tr>\n",
       "      <th>49657</th>\n",
       "      <td>data/up/5b09db89_nohash_2.wav</td>\n",
       "      <td>up</td>\n",
       "      <td>up</td>\n",
       "      <td>unknown</td>\n",
       "    </tr>\n",
       "    <tr>\n",
       "      <th>50832</th>\n",
       "      <td>data/up/e652590d_nohash_0.wav</td>\n",
       "      <td>up</td>\n",
       "      <td>up</td>\n",
       "      <td>unknown</td>\n",
       "    </tr>\n",
       "    <tr>\n",
       "      <th>12732</th>\n",
       "      <td>data/bed/4b25f620_nohash_0.wav</td>\n",
       "      <td>bed</td>\n",
       "      <td>unknown</td>\n",
       "      <td>down</td>\n",
       "    </tr>\n",
       "    <tr>\n",
       "      <th>10318</th>\n",
       "      <td>data/nine/c0445658_nohash_1.wav</td>\n",
       "      <td>nine</td>\n",
       "      <td>unknown</td>\n",
       "      <td>right</td>\n",
       "    </tr>\n",
       "    <tr>\n",
       "      <th>45686</th>\n",
       "      <td>data/two/4e8c5516_nohash_1.wav</td>\n",
       "      <td>two</td>\n",
       "      <td>unknown</td>\n",
       "      <td>go</td>\n",
       "    </tr>\n",
       "    <tr>\n",
       "      <th>18478</th>\n",
       "      <td>data/bird/e04d7130_nohash_0.wav</td>\n",
       "      <td>bird</td>\n",
       "      <td>unknown</td>\n",
       "      <td>down</td>\n",
       "    </tr>\n",
       "    <tr>\n",
       "      <th>63454</th>\n",
       "      <td>data/off/cc2f1a85_nohash_1.wav</td>\n",
       "      <td>off</td>\n",
       "      <td>off</td>\n",
       "      <td>up</td>\n",
       "    </tr>\n",
       "  </tbody>\n",
       "</table>\n",
       "<p>1011 rows × 4 columns</p>\n",
       "</div>"
      ],
      "text/plain": [
       "                               filename  label   label2 pred_label\n",
       "25773     data/on/4a1e736b_nohash_4.wav     on       on        off\n",
       "60045   data/stop/65040d9b_nohash_0.wav   stop     stop         go\n",
       "7446    data/tree/10467b06_nohash_0.wav   tree  unknown         up\n",
       "5744      data/no/8134f43f_nohash_0.wav     no       no         up\n",
       "5299      data/no/b9f46737_nohash_4.wav     no       no       left\n",
       "48405    data/yes/8134f43f_nohash_3.wav    yes      yes      right\n",
       "36592   data/down/6727b579_nohash_0.wav   down     down         no\n",
       "28928  data/right/229978fd_nohash_1.wav  right    right         up\n",
       "63047    data/off/ec201020_nohash_3.wav    off      off         up\n",
       "7064      data/no/264f471d_nohash_4.wav     no       no       down\n",
       "50885     data/up/51055bda_nohash_1.wav     up       up       stop\n",
       "50003     data/up/28460a60_nohash_0.wav     up       up         on\n",
       "15394  data/house/01bb6a2a_nohash_0.wav  house  unknown        off\n",
       "35158  data/seven/5a9f7324_nohash_4.wav  seven  unknown       stop\n",
       "5107      data/no/0137b3f4_nohash_3.wav     no       no         go\n",
       "49831     data/up/e07dd7d4_nohash_0.wav     up       up        off\n",
       "49985     data/up/353b4d33_nohash_1.wav     up       up        off\n",
       "12258    data/bed/62605293_nohash_0.wav    bed  unknown         on\n",
       "58968   data/stop/97f4c236_nohash_1.wav   stop     stop      right\n",
       "2068    data/left/94de6a6a_nohash_4.wav   left     left         on\n",
       "51206     data/up/56f8a100_nohash_1.wav     up       up       left\n",
       "36185   data/down/2da58b32_nohash_2.wav   down     down         on\n",
       "41794     data/go/da584bc0_nohash_4.wav     go       go    unknown\n",
       "42209     data/go/dbb40d24_nohash_2.wav     go       go       left\n",
       "5552      data/no/9f7079fe_nohash_0.wav     no       no         go\n",
       "48071    data/yes/05b2db80_nohash_0.wav    yes      yes       stop\n",
       "55980   data/five/fa7895de_nohash_0.wav   five  unknown         on\n",
       "11252    data/bed/c0c701f1_nohash_1.wav    bed  unknown         up\n",
       "1516    data/left/918a2473_nohash_1.wav   left     left         up\n",
       "50199     data/up/190821dc_nohash_2.wav     up       up      right\n",
       "...                                 ...    ...      ...        ...\n",
       "1072    data/left/7f74626f_nohash_4.wav   left     left         up\n",
       "4758      data/no/bdee441c_nohash_3.wav     no       no       down\n",
       "4245   data/eight/964e8cfd_nohash_4.wav  eight  unknown         up\n",
       "41854     data/go/30802c5d_nohash_1.wav     go       go         no\n",
       "25616     data/on/7e783e3f_nohash_3.wav     on       on       stop\n",
       "2234    data/left/7c1d8533_nohash_3.wav   left     left    unknown\n",
       "40642     data/go/bc065a17_nohash_0.wav     go       go       down\n",
       "50922     data/up/c634a189_nohash_4.wav     up       up        off\n",
       "27000  data/right/2da58b32_nohash_3.wav  right    right        off\n",
       "38042   data/down/7c1d8533_nohash_3.wav   down     down         no\n",
       "6479      data/no/692a88e6_nohash_0.wav     no       no       down\n",
       "43109  data/happy/40b60ae9_nohash_1.wav  happy  unknown      right\n",
       "24200   data/zero/7cf14c54_nohash_0.wav   zero  unknown       stop\n",
       "51295     data/up/51055bda_nohash_0.wav     up       up        off\n",
       "54114  data/three/c1e0e8e3_nohash_0.wav  three  unknown      right\n",
       "51183     data/up/83957201_nohash_1.wav     up       up    unknown\n",
       "39568    data/one/8ea22de7_nohash_0.wav    one  unknown      right\n",
       "22760   data/zero/e7ebf59c_nohash_1.wav   zero  unknown         go\n",
       "47645    data/yes/3bfd30e6_nohash_1.wav    yes      yes    unknown\n",
       "1575    data/left/b575b5fb_nohash_0.wav   left     left         up\n",
       "64574    data/off/15c563d7_nohash_1.wav    off      off       left\n",
       "51609     data/up/7f74626f_nohash_0.wav     up       up        off\n",
       "48342    data/yes/92b0a735_nohash_0.wav    yes      yes       left\n",
       "49657     data/up/5b09db89_nohash_2.wav     up       up    unknown\n",
       "50832     data/up/e652590d_nohash_0.wav     up       up    unknown\n",
       "12732    data/bed/4b25f620_nohash_0.wav    bed  unknown       down\n",
       "10318   data/nine/c0445658_nohash_1.wav   nine  unknown      right\n",
       "45686    data/two/4e8c5516_nohash_1.wav    two  unknown         go\n",
       "18478   data/bird/e04d7130_nohash_0.wav   bird  unknown       down\n",
       "63454    data/off/cc2f1a85_nohash_1.wav    off      off         up\n",
       "\n",
       "[1011 rows x 4 columns]"
      ]
     },
     "execution_count": 60,
     "metadata": {},
     "output_type": "execute_result"
    }
   ],
   "source": [
    "test_df[test_df.pred_label_i != test_df.label_i2][['filename', 'label', 'label2', 'pred_label']]"
   ]
  },
  {
   "cell_type": "code",
   "execution_count": 58,
   "metadata": {},
   "outputs": [],
   "source": [
    "model2.save('model2_nov21.model')"
   ]
  },
  {
   "cell_type": "code",
   "execution_count": null,
   "metadata": {},
   "outputs": [],
   "source": []
  }
 ],
 "metadata": {
  "kernelspec": {
   "display_name": "Python 3",
   "language": "python",
   "name": "python3"
  },
  "language_info": {
   "codemirror_mode": {
    "name": "ipython",
    "version": 3
   },
   "file_extension": ".py",
   "mimetype": "text/x-python",
   "name": "python",
   "nbconvert_exporter": "python",
   "pygments_lexer": "ipython3",
   "version": "3.6.3"
  }
 },
 "nbformat": 4,
 "nbformat_minor": 2
}
