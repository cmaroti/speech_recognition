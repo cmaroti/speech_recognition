{
 "cells": [
  {
   "cell_type": "code",
   "execution_count": 4,
   "metadata": {},
   "outputs": [],
   "source": [
    "# ! pip install librosa"
   ]
  },
  {
   "cell_type": "code",
   "execution_count": 1,
   "metadata": {},
   "outputs": [],
   "source": [
    "import pandas as pd\n",
    "import numpy as np\n",
    "import glob\n",
    "import scipy\n",
    "import matplotlib.pyplot as plt\n",
    "import re\n",
    "import os\n",
    "import librosa\n",
    "import IPython.display as ipd\n",
    "import librosa.display\n",
    "%matplotlib inline"
   ]
  },
  {
   "cell_type": "code",
   "execution_count": 2,
   "metadata": {},
   "outputs": [],
   "source": [
    "POSSIBLE_LABELS = 'yes no up down left right on off stop go unknown silence'.split()\n",
    "id2name = {i: name for i, name in enumerate(POSSIBLE_LABELS)}\n",
    "name2id = {name: i for i, name in id2name.items()}"
   ]
  },
  {
   "cell_type": "code",
   "execution_count": 3,
   "metadata": {},
   "outputs": [],
   "source": [
    "train_df = pd.read_pickle('train_df_nov29.pkl')"
   ]
  },
  {
   "cell_type": "code",
   "execution_count": 4,
   "metadata": {},
   "outputs": [],
   "source": [
    "valid_df = pd.read_pickle('valid_df.pkl')"
   ]
  },
  {
   "cell_type": "code",
   "execution_count": 5,
   "metadata": {},
   "outputs": [
    {
     "data": {
      "text/html": [
       "<div>\n",
       "<style scoped>\n",
       "    .dataframe tbody tr th:only-of-type {\n",
       "        vertical-align: middle;\n",
       "    }\n",
       "\n",
       "    .dataframe tbody tr th {\n",
       "        vertical-align: top;\n",
       "    }\n",
       "\n",
       "    .dataframe thead th {\n",
       "        text-align: right;\n",
       "    }\n",
       "</style>\n",
       "<table border=\"1\" class=\"dataframe\">\n",
       "  <thead>\n",
       "    <tr style=\"text-align: right;\">\n",
       "      <th></th>\n",
       "      <th>label</th>\n",
       "      <th>label_id</th>\n",
       "      <th>user_id</th>\n",
       "      <th>wav_file</th>\n",
       "      <th>sound</th>\n",
       "    </tr>\n",
       "  </thead>\n",
       "  <tbody>\n",
       "    <tr>\n",
       "      <th>0</th>\n",
       "      <td>left</td>\n",
       "      <td>4</td>\n",
       "      <td>cb8f8307</td>\n",
       "      <td>train/audio/left/cb8f8307_nohash_1.wav</td>\n",
       "      <td>[-7, 21, -10, 6, -13, 7, 15, -23, 14, -12, 29,...</td>\n",
       "    </tr>\n",
       "    <tr>\n",
       "      <th>1</th>\n",
       "      <td>left</td>\n",
       "      <td>4</td>\n",
       "      <td>b7a0754f</td>\n",
       "      <td>train/audio/left/b7a0754f_nohash_2.wav</td>\n",
       "      <td>[-2, 6, 7, 3, -2, 2, 6, 6, 4, 5, 5, 11, 9, -1,...</td>\n",
       "    </tr>\n",
       "    <tr>\n",
       "      <th>2</th>\n",
       "      <td>left</td>\n",
       "      <td>4</td>\n",
       "      <td>0132a06d</td>\n",
       "      <td>train/audio/left/0132a06d_nohash_3.wav</td>\n",
       "      <td>[1, 2, 1, 2, 0, 1, 0, -2, 0, 1, 1, -1, -2, 0, ...</td>\n",
       "    </tr>\n",
       "    <tr>\n",
       "      <th>3</th>\n",
       "      <td>left</td>\n",
       "      <td>4</td>\n",
       "      <td>f92e49f3</td>\n",
       "      <td>train/audio/left/f92e49f3_nohash_4.wav</td>\n",
       "      <td>[2, 1, -1, -1, 0, 3, 1, -3, -5, -4, -2, 2, 2, ...</td>\n",
       "    </tr>\n",
       "    <tr>\n",
       "      <th>4</th>\n",
       "      <td>left</td>\n",
       "      <td>4</td>\n",
       "      <td>88053e92</td>\n",
       "      <td>train/audio/left/88053e92_nohash_1.wav</td>\n",
       "      <td>[1, 7, 10, 6, 9, 11, 7, 1, -5, -9, -11, -14, -...</td>\n",
       "    </tr>\n",
       "  </tbody>\n",
       "</table>\n",
       "</div>"
      ],
      "text/plain": [
       "  label label_id   user_id                                wav_file  \\\n",
       "0  left        4  cb8f8307  train/audio/left/cb8f8307_nohash_1.wav   \n",
       "1  left        4  b7a0754f  train/audio/left/b7a0754f_nohash_2.wav   \n",
       "2  left        4  0132a06d  train/audio/left/0132a06d_nohash_3.wav   \n",
       "3  left        4  f92e49f3  train/audio/left/f92e49f3_nohash_4.wav   \n",
       "4  left        4  88053e92  train/audio/left/88053e92_nohash_1.wav   \n",
       "\n",
       "                                               sound  \n",
       "0  [-7, 21, -10, 6, -13, 7, 15, -23, 14, -12, 29,...  \n",
       "1  [-2, 6, 7, 3, -2, 2, 6, 6, 4, 5, 5, 11, 9, -1,...  \n",
       "2  [1, 2, 1, 2, 0, 1, 0, -2, 0, 1, 1, -1, -2, 0, ...  \n",
       "3  [2, 1, -1, -1, 0, 3, 1, -3, -5, -4, -2, 2, 2, ...  \n",
       "4  [1, 7, 10, 6, 9, 11, 7, 1, -5, -9, -11, -14, -...  "
      ]
     },
     "execution_count": 5,
     "metadata": {},
     "output_type": "execute_result"
    }
   ],
   "source": [
    "train_df.head()"
   ]
  },
  {
   "cell_type": "code",
   "execution_count": 6,
   "metadata": {},
   "outputs": [
    {
     "data": {
      "text/html": [
       "<div>\n",
       "<style scoped>\n",
       "    .dataframe tbody tr th:only-of-type {\n",
       "        vertical-align: middle;\n",
       "    }\n",
       "\n",
       "    .dataframe tbody tr th {\n",
       "        vertical-align: top;\n",
       "    }\n",
       "\n",
       "    .dataframe thead th {\n",
       "        text-align: right;\n",
       "    }\n",
       "</style>\n",
       "<table border=\"1\" class=\"dataframe\">\n",
       "  <thead>\n",
       "    <tr style=\"text-align: right;\">\n",
       "      <th></th>\n",
       "      <th>label</th>\n",
       "      <th>label_id</th>\n",
       "      <th>user_id</th>\n",
       "      <th>wav_file</th>\n",
       "      <th>sound</th>\n",
       "    </tr>\n",
       "  </thead>\n",
       "  <tbody>\n",
       "    <tr>\n",
       "      <th>61518</th>\n",
       "      <td>silence</td>\n",
       "      <td>11</td>\n",
       "      <td>running</td>\n",
       "      <td>train/audio/_background_noise_/running_tap.wav</td>\n",
       "      <td>[-2027, -2113, 2241, -1327, -4544, -1684, 1804...</td>\n",
       "    </tr>\n",
       "    <tr>\n",
       "      <th>61519</th>\n",
       "      <td>silence</td>\n",
       "      <td>11</td>\n",
       "      <td>running</td>\n",
       "      <td>train/audio/_background_noise_/running_tap.wav</td>\n",
       "      <td>[-3364, 767, 1743, -362, -2443, 2243, 1069, -3...</td>\n",
       "    </tr>\n",
       "    <tr>\n",
       "      <th>61520</th>\n",
       "      <td>silence</td>\n",
       "      <td>11</td>\n",
       "      <td>running</td>\n",
       "      <td>train/audio/_background_noise_/running_tap.wav</td>\n",
       "      <td>[680, 466, -405, -2691, -583, 941, 1996, -2570...</td>\n",
       "    </tr>\n",
       "    <tr>\n",
       "      <th>61521</th>\n",
       "      <td>silence</td>\n",
       "      <td>11</td>\n",
       "      <td>running</td>\n",
       "      <td>train/audio/_background_noise_/running_tap.wav</td>\n",
       "      <td>[-3824, 2775, 368, -2335, -770, -2601, -418, 8...</td>\n",
       "    </tr>\n",
       "    <tr>\n",
       "      <th>61522</th>\n",
       "      <td>silence</td>\n",
       "      <td>11</td>\n",
       "      <td>running</td>\n",
       "      <td>train/audio/_background_noise_/running_tap.wav</td>\n",
       "      <td>[983, -862, -1930, 1039, -1854, -976, 1725, 36...</td>\n",
       "    </tr>\n",
       "  </tbody>\n",
       "</table>\n",
       "</div>"
      ],
      "text/plain": [
       "         label label_id  user_id  \\\n",
       "61518  silence       11  running   \n",
       "61519  silence       11  running   \n",
       "61520  silence       11  running   \n",
       "61521  silence       11  running   \n",
       "61522  silence       11  running   \n",
       "\n",
       "                                             wav_file  \\\n",
       "61518  train/audio/_background_noise_/running_tap.wav   \n",
       "61519  train/audio/_background_noise_/running_tap.wav   \n",
       "61520  train/audio/_background_noise_/running_tap.wav   \n",
       "61521  train/audio/_background_noise_/running_tap.wav   \n",
       "61522  train/audio/_background_noise_/running_tap.wav   \n",
       "\n",
       "                                                   sound  \n",
       "61518  [-2027, -2113, 2241, -1327, -4544, -1684, 1804...  \n",
       "61519  [-3364, 767, 1743, -362, -2443, 2243, 1069, -3...  \n",
       "61520  [680, 466, -405, -2691, -583, 941, 1996, -2570...  \n",
       "61521  [-3824, 2775, 368, -2335, -770, -2601, -418, 8...  \n",
       "61522  [983, -862, -1930, 1039, -1854, -976, 1725, 36...  "
      ]
     },
     "execution_count": 6,
     "metadata": {},
     "output_type": "execute_result"
    }
   ],
   "source": [
    "train_df.tail()"
   ]
  },
  {
   "cell_type": "code",
   "execution_count": 7,
   "metadata": {},
   "outputs": [
    {
     "data": {
      "text/plain": [
       "(16000,)"
      ]
     },
     "execution_count": 7,
     "metadata": {},
     "output_type": "execute_result"
    }
   ],
   "source": [
    "train_df.sound[0].shape"
   ]
  },
  {
   "cell_type": "code",
   "execution_count": 8,
   "metadata": {},
   "outputs": [
    {
     "data": {
      "text/html": [
       "<div>\n",
       "<style scoped>\n",
       "    .dataframe tbody tr th:only-of-type {\n",
       "        vertical-align: middle;\n",
       "    }\n",
       "\n",
       "    .dataframe tbody tr th {\n",
       "        vertical-align: top;\n",
       "    }\n",
       "\n",
       "    .dataframe thead th {\n",
       "        text-align: right;\n",
       "    }\n",
       "</style>\n",
       "<table border=\"1\" class=\"dataframe\">\n",
       "  <thead>\n",
       "    <tr style=\"text-align: right;\">\n",
       "      <th></th>\n",
       "      <th>label</th>\n",
       "      <th>label_id</th>\n",
       "      <th>user_id</th>\n",
       "      <th>wav_file</th>\n",
       "    </tr>\n",
       "  </thead>\n",
       "  <tbody>\n",
       "    <tr>\n",
       "      <th>0</th>\n",
       "      <td>left</td>\n",
       "      <td>4</td>\n",
       "      <td>471a0925</td>\n",
       "      <td>train/audio/left/471a0925_nohash_4.wav</td>\n",
       "    </tr>\n",
       "    <tr>\n",
       "      <th>1</th>\n",
       "      <td>left</td>\n",
       "      <td>4</td>\n",
       "      <td>d107dc42</td>\n",
       "      <td>train/audio/left/d107dc42_nohash_0.wav</td>\n",
       "    </tr>\n",
       "    <tr>\n",
       "      <th>2</th>\n",
       "      <td>left</td>\n",
       "      <td>4</td>\n",
       "      <td>ec74a8a5</td>\n",
       "      <td>train/audio/left/ec74a8a5_nohash_1.wav</td>\n",
       "    </tr>\n",
       "    <tr>\n",
       "      <th>3</th>\n",
       "      <td>left</td>\n",
       "      <td>4</td>\n",
       "      <td>50f55535</td>\n",
       "      <td>train/audio/left/50f55535_nohash_0.wav</td>\n",
       "    </tr>\n",
       "    <tr>\n",
       "      <th>4</th>\n",
       "      <td>left</td>\n",
       "      <td>4</td>\n",
       "      <td>591d32f3</td>\n",
       "      <td>train/audio/left/591d32f3_nohash_0.wav</td>\n",
       "    </tr>\n",
       "  </tbody>\n",
       "</table>\n",
       "</div>"
      ],
      "text/plain": [
       "  label  label_id   user_id                                wav_file\n",
       "0  left         4  471a0925  train/audio/left/471a0925_nohash_4.wav\n",
       "1  left         4  d107dc42  train/audio/left/d107dc42_nohash_0.wav\n",
       "2  left         4  ec74a8a5  train/audio/left/ec74a8a5_nohash_1.wav\n",
       "3  left         4  50f55535  train/audio/left/50f55535_nohash_0.wav\n",
       "4  left         4  591d32f3  train/audio/left/591d32f3_nohash_0.wav"
      ]
     },
     "execution_count": 8,
     "metadata": {},
     "output_type": "execute_result"
    }
   ],
   "source": [
    "valid_df.head()"
   ]
  },
  {
   "cell_type": "code",
   "execution_count": 9,
   "metadata": {},
   "outputs": [
    {
     "data": {
      "text/html": [
       "<div>\n",
       "<style scoped>\n",
       "    .dataframe tbody tr th:only-of-type {\n",
       "        vertical-align: middle;\n",
       "    }\n",
       "\n",
       "    .dataframe tbody tr th {\n",
       "        vertical-align: top;\n",
       "    }\n",
       "\n",
       "    .dataframe thead th {\n",
       "        text-align: right;\n",
       "    }\n",
       "</style>\n",
       "<table border=\"1\" class=\"dataframe\">\n",
       "  <thead>\n",
       "    <tr style=\"text-align: right;\">\n",
       "      <th></th>\n",
       "      <th>label</th>\n",
       "      <th>label_id</th>\n",
       "      <th>user_id</th>\n",
       "      <th>wav_file</th>\n",
       "      <th>sound</th>\n",
       "    </tr>\n",
       "  </thead>\n",
       "  <tbody>\n",
       "    <tr>\n",
       "      <th>0</th>\n",
       "      <td>left</td>\n",
       "      <td>4</td>\n",
       "      <td>cb8f8307</td>\n",
       "      <td>train/audio/left/cb8f8307_nohash_1.wav</td>\n",
       "      <td>[-7, 21, -10, 6, -13, 7, 15, -23, 14, -12, 29,...</td>\n",
       "    </tr>\n",
       "    <tr>\n",
       "      <th>1</th>\n",
       "      <td>left</td>\n",
       "      <td>4</td>\n",
       "      <td>b7a0754f</td>\n",
       "      <td>train/audio/left/b7a0754f_nohash_2.wav</td>\n",
       "      <td>[-2, 6, 7, 3, -2, 2, 6, 6, 4, 5, 5, 11, 9, -1,...</td>\n",
       "    </tr>\n",
       "    <tr>\n",
       "      <th>2</th>\n",
       "      <td>left</td>\n",
       "      <td>4</td>\n",
       "      <td>0132a06d</td>\n",
       "      <td>train/audio/left/0132a06d_nohash_3.wav</td>\n",
       "      <td>[1, 2, 1, 2, 0, 1, 0, -2, 0, 1, 1, -1, -2, 0, ...</td>\n",
       "    </tr>\n",
       "    <tr>\n",
       "      <th>3</th>\n",
       "      <td>left</td>\n",
       "      <td>4</td>\n",
       "      <td>f92e49f3</td>\n",
       "      <td>train/audio/left/f92e49f3_nohash_4.wav</td>\n",
       "      <td>[2, 1, -1, -1, 0, 3, 1, -3, -5, -4, -2, 2, 2, ...</td>\n",
       "    </tr>\n",
       "    <tr>\n",
       "      <th>4</th>\n",
       "      <td>left</td>\n",
       "      <td>4</td>\n",
       "      <td>88053e92</td>\n",
       "      <td>train/audio/left/88053e92_nohash_1.wav</td>\n",
       "      <td>[1, 7, 10, 6, 9, 11, 7, 1, -5, -9, -11, -14, -...</td>\n",
       "    </tr>\n",
       "    <tr>\n",
       "      <th>2106</th>\n",
       "      <td>unknown</td>\n",
       "      <td>10</td>\n",
       "      <td>cb8f8307</td>\n",
       "      <td>train/audio/eight/cb8f8307_nohash_1.wav</td>\n",
       "      <td>[0, 1, 0, 3, 2, -3, -2, 3, 2, -4, -4, 2, 3, -1...</td>\n",
       "    </tr>\n",
       "    <tr>\n",
       "      <th>2107</th>\n",
       "      <td>unknown</td>\n",
       "      <td>10</td>\n",
       "      <td>b7a0754f</td>\n",
       "      <td>train/audio/eight/b7a0754f_nohash_2.wav</td>\n",
       "      <td>[4, 11, 9, 10, 13, 9, 6, 8, 9, 7, -3, -2, 0, -...</td>\n",
       "    </tr>\n",
       "    <tr>\n",
       "      <th>2108</th>\n",
       "      <td>unknown</td>\n",
       "      <td>10</td>\n",
       "      <td>37b03ab1</td>\n",
       "      <td>train/audio/eight/37b03ab1_nohash_2.wav</td>\n",
       "      <td>[1, 0, 0, -1, -3, -3, -4, -5, -1, 0, -8, -7, 0...</td>\n",
       "    </tr>\n",
       "    <tr>\n",
       "      <th>2109</th>\n",
       "      <td>unknown</td>\n",
       "      <td>10</td>\n",
       "      <td>0132a06d</td>\n",
       "      <td>train/audio/eight/0132a06d_nohash_3.wav</td>\n",
       "      <td>[-129, -156, -188, -214, -215, -227, -217, -20...</td>\n",
       "    </tr>\n",
       "    <tr>\n",
       "      <th>2110</th>\n",
       "      <td>unknown</td>\n",
       "      <td>10</td>\n",
       "      <td>f92e49f3</td>\n",
       "      <td>train/audio/eight/f92e49f3_nohash_4.wav</td>\n",
       "      <td>[0, 0, 1, -1, 1, 1, -1, 1, 0, 0, 2, 2, 1, 0, 0...</td>\n",
       "    </tr>\n",
       "    <tr>\n",
       "      <th>4215</th>\n",
       "      <td>no</td>\n",
       "      <td>1</td>\n",
       "      <td>cb8f8307</td>\n",
       "      <td>train/audio/no/cb8f8307_nohash_1.wav</td>\n",
       "      <td>[1, -2, 0, -2, -2, 2, -3, 0, -3, -3, -1, -2, 1...</td>\n",
       "    </tr>\n",
       "    <tr>\n",
       "      <th>4216</th>\n",
       "      <td>no</td>\n",
       "      <td>1</td>\n",
       "      <td>b7a0754f</td>\n",
       "      <td>train/audio/no/b7a0754f_nohash_2.wav</td>\n",
       "      <td>[-1, -3, -3, -6, -10, -10, -4, 6, 8, 8, 9, 9, ...</td>\n",
       "    </tr>\n",
       "    <tr>\n",
       "      <th>4217</th>\n",
       "      <td>no</td>\n",
       "      <td>1</td>\n",
       "      <td>0132a06d</td>\n",
       "      <td>train/audio/no/0132a06d_nohash_3.wav</td>\n",
       "      <td>[7, 12, 13, 3, -5, -3, 5, 5, -5, -8, 2, 7, 6, ...</td>\n",
       "    </tr>\n",
       "    <tr>\n",
       "      <th>4218</th>\n",
       "      <td>no</td>\n",
       "      <td>1</td>\n",
       "      <td>f92e49f3</td>\n",
       "      <td>train/audio/no/f92e49f3_nohash_4.wav</td>\n",
       "      <td>[-1, -3, 0, 1, 1, 5, 4, -3, -8, -8, -6, -2, 3,...</td>\n",
       "    </tr>\n",
       "    <tr>\n",
       "      <th>4219</th>\n",
       "      <td>no</td>\n",
       "      <td>1</td>\n",
       "      <td>88053e92</td>\n",
       "      <td>train/audio/no/88053e92_nohash_1.wav</td>\n",
       "      <td>[-11, -11, -11, -8, -1, 5, 5, 0, -1, 0, 0, -2,...</td>\n",
       "    </tr>\n",
       "    <tr>\n",
       "      <th>22032</th>\n",
       "      <td>on</td>\n",
       "      <td>6</td>\n",
       "      <td>cb8f8307</td>\n",
       "      <td>train/audio/on/cb8f8307_nohash_1.wav</td>\n",
       "      <td>[0, 0, 0, 0, 0, 0, 0, 0, 0, 0, 0, 0, 0, 0, 1, ...</td>\n",
       "    </tr>\n",
       "    <tr>\n",
       "      <th>22033</th>\n",
       "      <td>on</td>\n",
       "      <td>6</td>\n",
       "      <td>b7a0754f</td>\n",
       "      <td>train/audio/on/b7a0754f_nohash_2.wav</td>\n",
       "      <td>[1, 6, 3, 1, -2, -11, -5, 4, 2, 1, 4, 2, -1, 2...</td>\n",
       "    </tr>\n",
       "    <tr>\n",
       "      <th>22034</th>\n",
       "      <td>on</td>\n",
       "      <td>6</td>\n",
       "      <td>0132a06d</td>\n",
       "      <td>train/audio/on/0132a06d_nohash_3.wav</td>\n",
       "      <td>[7, -6, -1, -5, -17, -20, -19, -11, -2, 1, 1, ...</td>\n",
       "    </tr>\n",
       "    <tr>\n",
       "      <th>22035</th>\n",
       "      <td>on</td>\n",
       "      <td>6</td>\n",
       "      <td>f92e49f3</td>\n",
       "      <td>train/audio/on/f92e49f3_nohash_4.wav</td>\n",
       "      <td>[1, -2, -3, -3, -1, 0, 0, 0, -1, 1, 2, 2, 2, 1...</td>\n",
       "    </tr>\n",
       "    <tr>\n",
       "      <th>22036</th>\n",
       "      <td>on</td>\n",
       "      <td>6</td>\n",
       "      <td>4b39347d</td>\n",
       "      <td>train/audio/on/4b39347d_nohash_0.wav</td>\n",
       "      <td>[895, 961, 919, 1536, 1901, 1874, 1427, 872, 1...</td>\n",
       "    </tr>\n",
       "    <tr>\n",
       "      <th>24142</th>\n",
       "      <td>right</td>\n",
       "      <td>5</td>\n",
       "      <td>cb8f8307</td>\n",
       "      <td>train/audio/right/cb8f8307_nohash_1.wav</td>\n",
       "      <td>[1, -1, -2, 2, 1, -2, -2, -1, 3, -3, -1, 3, -3...</td>\n",
       "    </tr>\n",
       "    <tr>\n",
       "      <th>24143</th>\n",
       "      <td>right</td>\n",
       "      <td>5</td>\n",
       "      <td>b7a0754f</td>\n",
       "      <td>train/audio/right/b7a0754f_nohash_2.wav</td>\n",
       "      <td>[-5, -6, -4, -3, -1, 1, 3, 1, -1, -4, -6, -5, ...</td>\n",
       "    </tr>\n",
       "    <tr>\n",
       "      <th>24144</th>\n",
       "      <td>right</td>\n",
       "      <td>5</td>\n",
       "      <td>0132a06d</td>\n",
       "      <td>train/audio/right/0132a06d_nohash_3.wav</td>\n",
       "      <td>[-17, -26, -23, -24, -21, -17, -8, 2, 12, 24, ...</td>\n",
       "    </tr>\n",
       "    <tr>\n",
       "      <th>24145</th>\n",
       "      <td>right</td>\n",
       "      <td>5</td>\n",
       "      <td>f92e49f3</td>\n",
       "      <td>train/audio/right/f92e49f3_nohash_4.wav</td>\n",
       "      <td>[0, 1, 0, 0, 0, 0, -2, -3, -3, -1, 1, 0, 0, -1...</td>\n",
       "    </tr>\n",
       "    <tr>\n",
       "      <th>24146</th>\n",
       "      <td>right</td>\n",
       "      <td>5</td>\n",
       "      <td>4b39347d</td>\n",
       "      <td>train/audio/right/4b39347d_nohash_0.wav</td>\n",
       "      <td>[-622, -530, -737, -1950, -1004, -434, -671, 5...</td>\n",
       "    </tr>\n",
       "    <tr>\n",
       "      <th>32032</th>\n",
       "      <td>down</td>\n",
       "      <td>3</td>\n",
       "      <td>cb8f8307</td>\n",
       "      <td>train/audio/down/cb8f8307_nohash_1.wav</td>\n",
       "      <td>[-5, 5, 2, -11, 19, -20, 9, 10, -21, 22, -13, ...</td>\n",
       "    </tr>\n",
       "    <tr>\n",
       "      <th>32033</th>\n",
       "      <td>down</td>\n",
       "      <td>3</td>\n",
       "      <td>b7a0754f</td>\n",
       "      <td>train/audio/down/b7a0754f_nohash_2.wav</td>\n",
       "      <td>[4, 3, 0, 2, -3, -4, -3, -3, 1, 3, 5, 2, 1, 1,...</td>\n",
       "    </tr>\n",
       "    <tr>\n",
       "      <th>32034</th>\n",
       "      <td>down</td>\n",
       "      <td>3</td>\n",
       "      <td>0132a06d</td>\n",
       "      <td>train/audio/down/0132a06d_nohash_3.wav</td>\n",
       "      <td>[3, 3, 5, 4, 5, 6, 6, 5, 2, 3, 3, 3, 3, 1, 3, ...</td>\n",
       "    </tr>\n",
       "    <tr>\n",
       "      <th>32035</th>\n",
       "      <td>down</td>\n",
       "      <td>3</td>\n",
       "      <td>f92e49f3</td>\n",
       "      <td>train/audio/down/f92e49f3_nohash_4.wav</td>\n",
       "      <td>[0, 0, 0, 0, 0, 0, 0, 0, 0, 0, 0, 0, 0, 0, 0, ...</td>\n",
       "    </tr>\n",
       "    <tr>\n",
       "      <th>32036</th>\n",
       "      <td>down</td>\n",
       "      <td>3</td>\n",
       "      <td>4b39347d</td>\n",
       "      <td>train/audio/down/4b39347d_nohash_0.wav</td>\n",
       "      <td>[659, 565, 428, -77, 364, 1059, 882, 768, 923,...</td>\n",
       "    </tr>\n",
       "    <tr>\n",
       "      <th>36267</th>\n",
       "      <td>go</td>\n",
       "      <td>9</td>\n",
       "      <td>cb8f8307</td>\n",
       "      <td>train/audio/go/cb8f8307_nohash_1.wav</td>\n",
       "      <td>[4, -6, -3, 7, -4, -6, 4, 2, -9, 1, 8, -6, -4,...</td>\n",
       "    </tr>\n",
       "    <tr>\n",
       "      <th>36268</th>\n",
       "      <td>go</td>\n",
       "      <td>9</td>\n",
       "      <td>b7a0754f</td>\n",
       "      <td>train/audio/go/b7a0754f_nohash_2.wav</td>\n",
       "      <td>[2, 11, 15, 13, 4, -1, -10, -5, 4, 3, 4, 5, 6,...</td>\n",
       "    </tr>\n",
       "    <tr>\n",
       "      <th>36269</th>\n",
       "      <td>go</td>\n",
       "      <td>9</td>\n",
       "      <td>0132a06d</td>\n",
       "      <td>train/audio/go/0132a06d_nohash_3.wav</td>\n",
       "      <td>[-1, -4, -3, -2, -3, -3, -3, -1, 1, -3, -4, -7...</td>\n",
       "    </tr>\n",
       "    <tr>\n",
       "      <th>36270</th>\n",
       "      <td>go</td>\n",
       "      <td>9</td>\n",
       "      <td>f92e49f3</td>\n",
       "      <td>train/audio/go/f92e49f3_nohash_4.wav</td>\n",
       "      <td>[-3, -3, -4, -1, 0, -2, -3, -2, -3, -1, 0, 0, ...</td>\n",
       "    </tr>\n",
       "    <tr>\n",
       "      <th>36271</th>\n",
       "      <td>go</td>\n",
       "      <td>9</td>\n",
       "      <td>4b39347d</td>\n",
       "      <td>train/audio/go/4b39347d_nohash_0.wav</td>\n",
       "      <td>[668, 1131, 579, -353, 144, -909, -1393, -458,...</td>\n",
       "    </tr>\n",
       "    <tr>\n",
       "      <th>42069</th>\n",
       "      <td>yes</td>\n",
       "      <td>0</td>\n",
       "      <td>cb8f8307</td>\n",
       "      <td>train/audio/yes/cb8f8307_nohash_1.wav</td>\n",
       "      <td>[-1, -9, 15, -12, -3, 11, -21, 13, 5, -26, 27,...</td>\n",
       "    </tr>\n",
       "    <tr>\n",
       "      <th>42070</th>\n",
       "      <td>yes</td>\n",
       "      <td>0</td>\n",
       "      <td>b7a0754f</td>\n",
       "      <td>train/audio/yes/b7a0754f_nohash_2.wav</td>\n",
       "      <td>[-5, -7, -3, 0, 1, 6, 8, 8, 8, 10, 9, 3, 2, 2,...</td>\n",
       "    </tr>\n",
       "    <tr>\n",
       "      <th>42071</th>\n",
       "      <td>yes</td>\n",
       "      <td>0</td>\n",
       "      <td>0132a06d</td>\n",
       "      <td>train/audio/yes/0132a06d_nohash_3.wav</td>\n",
       "      <td>[-1, 0, 2, 2, 2, 2, -2, -3, -5, -6, -5, -2, -4...</td>\n",
       "    </tr>\n",
       "    <tr>\n",
       "      <th>42072</th>\n",
       "      <td>yes</td>\n",
       "      <td>0</td>\n",
       "      <td>f92e49f3</td>\n",
       "      <td>train/audio/yes/f92e49f3_nohash_4.wav</td>\n",
       "      <td>[0, 0, 1, -1, -3, -1, 0, 0, 0, 0, 2, 1, 0, 0, ...</td>\n",
       "    </tr>\n",
       "    <tr>\n",
       "      <th>42073</th>\n",
       "      <td>yes</td>\n",
       "      <td>0</td>\n",
       "      <td>13199b79</td>\n",
       "      <td>train/audio/yes/13199b79_nohash_0.wav</td>\n",
       "      <td>[27, 53, 54, 93, 35, -21, 2, -14, 15, 38, 24, ...</td>\n",
       "    </tr>\n",
       "    <tr>\n",
       "      <th>44185</th>\n",
       "      <td>up</td>\n",
       "      <td>2</td>\n",
       "      <td>dff327c5</td>\n",
       "      <td>train/audio/up/dff327c5_nohash_2.wav</td>\n",
       "      <td>[42, 65, 62, 86, 66, 53, 32, 35, 70, 46, 53, 5...</td>\n",
       "    </tr>\n",
       "    <tr>\n",
       "      <th>44186</th>\n",
       "      <td>up</td>\n",
       "      <td>2</td>\n",
       "      <td>cb8f8307</td>\n",
       "      <td>train/audio/up/cb8f8307_nohash_1.wav</td>\n",
       "      <td>[0, -1, 1, 2, 2, 2, 0, 1, 2, 2, 3, 1, 0, 2, 1,...</td>\n",
       "    </tr>\n",
       "    <tr>\n",
       "      <th>44187</th>\n",
       "      <td>up</td>\n",
       "      <td>2</td>\n",
       "      <td>b7a0754f</td>\n",
       "      <td>train/audio/up/b7a0754f_nohash_2.wav</td>\n",
       "      <td>[-11, -12, -4, -3, -4, -3, -3, -2, 5, 6, 4, 7,...</td>\n",
       "    </tr>\n",
       "    <tr>\n",
       "      <th>44188</th>\n",
       "      <td>up</td>\n",
       "      <td>2</td>\n",
       "      <td>0132a06d</td>\n",
       "      <td>train/audio/up/0132a06d_nohash_3.wav</td>\n",
       "      <td>[22, 25, 28, 34, 41, 40, 34, 33, 38, 37, 27, 1...</td>\n",
       "    </tr>\n",
       "    <tr>\n",
       "      <th>44189</th>\n",
       "      <td>up</td>\n",
       "      <td>2</td>\n",
       "      <td>f92e49f3</td>\n",
       "      <td>train/audio/up/f92e49f3_nohash_4.wav</td>\n",
       "      <td>[0, 0, 0, 1, -1, -3, -2, -3, -3, 0, -2, -2, 1,...</td>\n",
       "    </tr>\n",
       "    <tr>\n",
       "      <th>52109</th>\n",
       "      <td>stop</td>\n",
       "      <td>8</td>\n",
       "      <td>cb8f8307</td>\n",
       "      <td>train/audio/stop/cb8f8307_nohash_1.wav</td>\n",
       "      <td>[1, 3, -1, 0, 3, -1, -1, 2, 1, -1, 4, 0, -4, 4...</td>\n",
       "    </tr>\n",
       "    <tr>\n",
       "      <th>52110</th>\n",
       "      <td>stop</td>\n",
       "      <td>8</td>\n",
       "      <td>b7a0754f</td>\n",
       "      <td>train/audio/stop/b7a0754f_nohash_2.wav</td>\n",
       "      <td>[7, 8, 7, 5, 2, 0, 2, 2, 4, 2, 3, 6, -3, -6, -...</td>\n",
       "    </tr>\n",
       "    <tr>\n",
       "      <th>52111</th>\n",
       "      <td>stop</td>\n",
       "      <td>8</td>\n",
       "      <td>5a9f7324</td>\n",
       "      <td>train/audio/stop/5a9f7324_nohash_2.wav</td>\n",
       "      <td>[-32, -72, -86, -81, -57, -15, -5, -22, -73, -...</td>\n",
       "    </tr>\n",
       "    <tr>\n",
       "      <th>52112</th>\n",
       "      <td>stop</td>\n",
       "      <td>8</td>\n",
       "      <td>0132a06d</td>\n",
       "      <td>train/audio/stop/0132a06d_nohash_3.wav</td>\n",
       "      <td>[-6, -2, -5, -9, -7, -6, -4, 4, 12, 18, 20, 17...</td>\n",
       "    </tr>\n",
       "    <tr>\n",
       "      <th>52113</th>\n",
       "      <td>stop</td>\n",
       "      <td>8</td>\n",
       "      <td>f92e49f3</td>\n",
       "      <td>train/audio/stop/f92e49f3_nohash_4.wav</td>\n",
       "      <td>[0, 0, 1, -2, -1, 0, 1, -2, -1, -2, -3, 0, 0, ...</td>\n",
       "    </tr>\n",
       "    <tr>\n",
       "      <th>55822</th>\n",
       "      <td>off</td>\n",
       "      <td>7</td>\n",
       "      <td>cb8f8307</td>\n",
       "      <td>train/audio/off/cb8f8307_nohash_1.wav</td>\n",
       "      <td>[4, -5, 3, -2, -4, 6, -3, 3, 2, -3, 2, 5, -7, ...</td>\n",
       "    </tr>\n",
       "    <tr>\n",
       "      <th>55823</th>\n",
       "      <td>off</td>\n",
       "      <td>7</td>\n",
       "      <td>b7a0754f</td>\n",
       "      <td>train/audio/off/b7a0754f_nohash_2.wav</td>\n",
       "      <td>[-7, -9, -11, -3, -4, -1, -5, -10, -5, -7, -5,...</td>\n",
       "    </tr>\n",
       "    <tr>\n",
       "      <th>55824</th>\n",
       "      <td>off</td>\n",
       "      <td>7</td>\n",
       "      <td>0132a06d</td>\n",
       "      <td>train/audio/off/0132a06d_nohash_3.wav</td>\n",
       "      <td>[3, 1, -4, -6, -7, -6, -3, 3, 6, 4, 2, 1, 0, -...</td>\n",
       "    </tr>\n",
       "    <tr>\n",
       "      <th>55825</th>\n",
       "      <td>off</td>\n",
       "      <td>7</td>\n",
       "      <td>f92e49f3</td>\n",
       "      <td>train/audio/off/f92e49f3_nohash_4.wav</td>\n",
       "      <td>[0, 0, 0, 0, 0, 0, 0, 0, 0, 2, 1, 0, 0, 0, 0, ...</td>\n",
       "    </tr>\n",
       "    <tr>\n",
       "      <th>55826</th>\n",
       "      <td>off</td>\n",
       "      <td>7</td>\n",
       "      <td>88053e92</td>\n",
       "      <td>train/audio/off/88053e92_nohash_1.wav</td>\n",
       "      <td>[-35, -40, -43, -45, -55, -66, -74, -83, -72, ...</td>\n",
       "    </tr>\n",
       "    <tr>\n",
       "      <th>57923</th>\n",
       "      <td>silence</td>\n",
       "      <td>11</td>\n",
       "      <td>white</td>\n",
       "      <td>train/audio/_background_noise_/white_noise.wav</td>\n",
       "      <td>[-7437, 4925, -7282, -531, -2526, -4575, -1070...</td>\n",
       "    </tr>\n",
       "    <tr>\n",
       "      <th>57924</th>\n",
       "      <td>silence</td>\n",
       "      <td>11</td>\n",
       "      <td>white</td>\n",
       "      <td>train/audio/_background_noise_/white_noise.wav</td>\n",
       "      <td>[-12069, -3646, 7185, -7925, 1352, -701, -9696...</td>\n",
       "    </tr>\n",
       "    <tr>\n",
       "      <th>57925</th>\n",
       "      <td>silence</td>\n",
       "      <td>11</td>\n",
       "      <td>white</td>\n",
       "      <td>train/audio/_background_noise_/white_noise.wav</td>\n",
       "      <td>[-22684, -10710, -10813, 3735, -20530, -9173, ...</td>\n",
       "    </tr>\n",
       "    <tr>\n",
       "      <th>57926</th>\n",
       "      <td>silence</td>\n",
       "      <td>11</td>\n",
       "      <td>white</td>\n",
       "      <td>train/audio/_background_noise_/white_noise.wav</td>\n",
       "      <td>[20899, 593, -722, 513, 24149, 5578, 14883, -3...</td>\n",
       "    </tr>\n",
       "    <tr>\n",
       "      <th>57927</th>\n",
       "      <td>silence</td>\n",
       "      <td>11</td>\n",
       "      <td>white</td>\n",
       "      <td>train/audio/_background_noise_/white_noise.wav</td>\n",
       "      <td>[-8138, 20432, 22238, -6882, -22876, 24646, -1...</td>\n",
       "    </tr>\n",
       "  </tbody>\n",
       "</table>\n",
       "</div>"
      ],
      "text/plain": [
       "         label label_id   user_id  \\\n",
       "0         left        4  cb8f8307   \n",
       "1         left        4  b7a0754f   \n",
       "2         left        4  0132a06d   \n",
       "3         left        4  f92e49f3   \n",
       "4         left        4  88053e92   \n",
       "2106   unknown       10  cb8f8307   \n",
       "2107   unknown       10  b7a0754f   \n",
       "2108   unknown       10  37b03ab1   \n",
       "2109   unknown       10  0132a06d   \n",
       "2110   unknown       10  f92e49f3   \n",
       "4215        no        1  cb8f8307   \n",
       "4216        no        1  b7a0754f   \n",
       "4217        no        1  0132a06d   \n",
       "4218        no        1  f92e49f3   \n",
       "4219        no        1  88053e92   \n",
       "22032       on        6  cb8f8307   \n",
       "22033       on        6  b7a0754f   \n",
       "22034       on        6  0132a06d   \n",
       "22035       on        6  f92e49f3   \n",
       "22036       on        6  4b39347d   \n",
       "24142    right        5  cb8f8307   \n",
       "24143    right        5  b7a0754f   \n",
       "24144    right        5  0132a06d   \n",
       "24145    right        5  f92e49f3   \n",
       "24146    right        5  4b39347d   \n",
       "32032     down        3  cb8f8307   \n",
       "32033     down        3  b7a0754f   \n",
       "32034     down        3  0132a06d   \n",
       "32035     down        3  f92e49f3   \n",
       "32036     down        3  4b39347d   \n",
       "36267       go        9  cb8f8307   \n",
       "36268       go        9  b7a0754f   \n",
       "36269       go        9  0132a06d   \n",
       "36270       go        9  f92e49f3   \n",
       "36271       go        9  4b39347d   \n",
       "42069      yes        0  cb8f8307   \n",
       "42070      yes        0  b7a0754f   \n",
       "42071      yes        0  0132a06d   \n",
       "42072      yes        0  f92e49f3   \n",
       "42073      yes        0  13199b79   \n",
       "44185       up        2  dff327c5   \n",
       "44186       up        2  cb8f8307   \n",
       "44187       up        2  b7a0754f   \n",
       "44188       up        2  0132a06d   \n",
       "44189       up        2  f92e49f3   \n",
       "52109     stop        8  cb8f8307   \n",
       "52110     stop        8  b7a0754f   \n",
       "52111     stop        8  5a9f7324   \n",
       "52112     stop        8  0132a06d   \n",
       "52113     stop        8  f92e49f3   \n",
       "55822      off        7  cb8f8307   \n",
       "55823      off        7  b7a0754f   \n",
       "55824      off        7  0132a06d   \n",
       "55825      off        7  f92e49f3   \n",
       "55826      off        7  88053e92   \n",
       "57923  silence       11     white   \n",
       "57924  silence       11     white   \n",
       "57925  silence       11     white   \n",
       "57926  silence       11     white   \n",
       "57927  silence       11     white   \n",
       "\n",
       "                                             wav_file  \\\n",
       "0              train/audio/left/cb8f8307_nohash_1.wav   \n",
       "1              train/audio/left/b7a0754f_nohash_2.wav   \n",
       "2              train/audio/left/0132a06d_nohash_3.wav   \n",
       "3              train/audio/left/f92e49f3_nohash_4.wav   \n",
       "4              train/audio/left/88053e92_nohash_1.wav   \n",
       "2106          train/audio/eight/cb8f8307_nohash_1.wav   \n",
       "2107          train/audio/eight/b7a0754f_nohash_2.wav   \n",
       "2108          train/audio/eight/37b03ab1_nohash_2.wav   \n",
       "2109          train/audio/eight/0132a06d_nohash_3.wav   \n",
       "2110          train/audio/eight/f92e49f3_nohash_4.wav   \n",
       "4215             train/audio/no/cb8f8307_nohash_1.wav   \n",
       "4216             train/audio/no/b7a0754f_nohash_2.wav   \n",
       "4217             train/audio/no/0132a06d_nohash_3.wav   \n",
       "4218             train/audio/no/f92e49f3_nohash_4.wav   \n",
       "4219             train/audio/no/88053e92_nohash_1.wav   \n",
       "22032            train/audio/on/cb8f8307_nohash_1.wav   \n",
       "22033            train/audio/on/b7a0754f_nohash_2.wav   \n",
       "22034            train/audio/on/0132a06d_nohash_3.wav   \n",
       "22035            train/audio/on/f92e49f3_nohash_4.wav   \n",
       "22036            train/audio/on/4b39347d_nohash_0.wav   \n",
       "24142         train/audio/right/cb8f8307_nohash_1.wav   \n",
       "24143         train/audio/right/b7a0754f_nohash_2.wav   \n",
       "24144         train/audio/right/0132a06d_nohash_3.wav   \n",
       "24145         train/audio/right/f92e49f3_nohash_4.wav   \n",
       "24146         train/audio/right/4b39347d_nohash_0.wav   \n",
       "32032          train/audio/down/cb8f8307_nohash_1.wav   \n",
       "32033          train/audio/down/b7a0754f_nohash_2.wav   \n",
       "32034          train/audio/down/0132a06d_nohash_3.wav   \n",
       "32035          train/audio/down/f92e49f3_nohash_4.wav   \n",
       "32036          train/audio/down/4b39347d_nohash_0.wav   \n",
       "36267            train/audio/go/cb8f8307_nohash_1.wav   \n",
       "36268            train/audio/go/b7a0754f_nohash_2.wav   \n",
       "36269            train/audio/go/0132a06d_nohash_3.wav   \n",
       "36270            train/audio/go/f92e49f3_nohash_4.wav   \n",
       "36271            train/audio/go/4b39347d_nohash_0.wav   \n",
       "42069           train/audio/yes/cb8f8307_nohash_1.wav   \n",
       "42070           train/audio/yes/b7a0754f_nohash_2.wav   \n",
       "42071           train/audio/yes/0132a06d_nohash_3.wav   \n",
       "42072           train/audio/yes/f92e49f3_nohash_4.wav   \n",
       "42073           train/audio/yes/13199b79_nohash_0.wav   \n",
       "44185            train/audio/up/dff327c5_nohash_2.wav   \n",
       "44186            train/audio/up/cb8f8307_nohash_1.wav   \n",
       "44187            train/audio/up/b7a0754f_nohash_2.wav   \n",
       "44188            train/audio/up/0132a06d_nohash_3.wav   \n",
       "44189            train/audio/up/f92e49f3_nohash_4.wav   \n",
       "52109          train/audio/stop/cb8f8307_nohash_1.wav   \n",
       "52110          train/audio/stop/b7a0754f_nohash_2.wav   \n",
       "52111          train/audio/stop/5a9f7324_nohash_2.wav   \n",
       "52112          train/audio/stop/0132a06d_nohash_3.wav   \n",
       "52113          train/audio/stop/f92e49f3_nohash_4.wav   \n",
       "55822           train/audio/off/cb8f8307_nohash_1.wav   \n",
       "55823           train/audio/off/b7a0754f_nohash_2.wav   \n",
       "55824           train/audio/off/0132a06d_nohash_3.wav   \n",
       "55825           train/audio/off/f92e49f3_nohash_4.wav   \n",
       "55826           train/audio/off/88053e92_nohash_1.wav   \n",
       "57923  train/audio/_background_noise_/white_noise.wav   \n",
       "57924  train/audio/_background_noise_/white_noise.wav   \n",
       "57925  train/audio/_background_noise_/white_noise.wav   \n",
       "57926  train/audio/_background_noise_/white_noise.wav   \n",
       "57927  train/audio/_background_noise_/white_noise.wav   \n",
       "\n",
       "                                                   sound  \n",
       "0      [-7, 21, -10, 6, -13, 7, 15, -23, 14, -12, 29,...  \n",
       "1      [-2, 6, 7, 3, -2, 2, 6, 6, 4, 5, 5, 11, 9, -1,...  \n",
       "2      [1, 2, 1, 2, 0, 1, 0, -2, 0, 1, 1, -1, -2, 0, ...  \n",
       "3      [2, 1, -1, -1, 0, 3, 1, -3, -5, -4, -2, 2, 2, ...  \n",
       "4      [1, 7, 10, 6, 9, 11, 7, 1, -5, -9, -11, -14, -...  \n",
       "2106   [0, 1, 0, 3, 2, -3, -2, 3, 2, -4, -4, 2, 3, -1...  \n",
       "2107   [4, 11, 9, 10, 13, 9, 6, 8, 9, 7, -3, -2, 0, -...  \n",
       "2108   [1, 0, 0, -1, -3, -3, -4, -5, -1, 0, -8, -7, 0...  \n",
       "2109   [-129, -156, -188, -214, -215, -227, -217, -20...  \n",
       "2110   [0, 0, 1, -1, 1, 1, -1, 1, 0, 0, 2, 2, 1, 0, 0...  \n",
       "4215   [1, -2, 0, -2, -2, 2, -3, 0, -3, -3, -1, -2, 1...  \n",
       "4216   [-1, -3, -3, -6, -10, -10, -4, 6, 8, 8, 9, 9, ...  \n",
       "4217   [7, 12, 13, 3, -5, -3, 5, 5, -5, -8, 2, 7, 6, ...  \n",
       "4218   [-1, -3, 0, 1, 1, 5, 4, -3, -8, -8, -6, -2, 3,...  \n",
       "4219   [-11, -11, -11, -8, -1, 5, 5, 0, -1, 0, 0, -2,...  \n",
       "22032  [0, 0, 0, 0, 0, 0, 0, 0, 0, 0, 0, 0, 0, 0, 1, ...  \n",
       "22033  [1, 6, 3, 1, -2, -11, -5, 4, 2, 1, 4, 2, -1, 2...  \n",
       "22034  [7, -6, -1, -5, -17, -20, -19, -11, -2, 1, 1, ...  \n",
       "22035  [1, -2, -3, -3, -1, 0, 0, 0, -1, 1, 2, 2, 2, 1...  \n",
       "22036  [895, 961, 919, 1536, 1901, 1874, 1427, 872, 1...  \n",
       "24142  [1, -1, -2, 2, 1, -2, -2, -1, 3, -3, -1, 3, -3...  \n",
       "24143  [-5, -6, -4, -3, -1, 1, 3, 1, -1, -4, -6, -5, ...  \n",
       "24144  [-17, -26, -23, -24, -21, -17, -8, 2, 12, 24, ...  \n",
       "24145  [0, 1, 0, 0, 0, 0, -2, -3, -3, -1, 1, 0, 0, -1...  \n",
       "24146  [-622, -530, -737, -1950, -1004, -434, -671, 5...  \n",
       "32032  [-5, 5, 2, -11, 19, -20, 9, 10, -21, 22, -13, ...  \n",
       "32033  [4, 3, 0, 2, -3, -4, -3, -3, 1, 3, 5, 2, 1, 1,...  \n",
       "32034  [3, 3, 5, 4, 5, 6, 6, 5, 2, 3, 3, 3, 3, 1, 3, ...  \n",
       "32035  [0, 0, 0, 0, 0, 0, 0, 0, 0, 0, 0, 0, 0, 0, 0, ...  \n",
       "32036  [659, 565, 428, -77, 364, 1059, 882, 768, 923,...  \n",
       "36267  [4, -6, -3, 7, -4, -6, 4, 2, -9, 1, 8, -6, -4,...  \n",
       "36268  [2, 11, 15, 13, 4, -1, -10, -5, 4, 3, 4, 5, 6,...  \n",
       "36269  [-1, -4, -3, -2, -3, -3, -3, -1, 1, -3, -4, -7...  \n",
       "36270  [-3, -3, -4, -1, 0, -2, -3, -2, -3, -1, 0, 0, ...  \n",
       "36271  [668, 1131, 579, -353, 144, -909, -1393, -458,...  \n",
       "42069  [-1, -9, 15, -12, -3, 11, -21, 13, 5, -26, 27,...  \n",
       "42070  [-5, -7, -3, 0, 1, 6, 8, 8, 8, 10, 9, 3, 2, 2,...  \n",
       "42071  [-1, 0, 2, 2, 2, 2, -2, -3, -5, -6, -5, -2, -4...  \n",
       "42072  [0, 0, 1, -1, -3, -1, 0, 0, 0, 0, 2, 1, 0, 0, ...  \n",
       "42073  [27, 53, 54, 93, 35, -21, 2, -14, 15, 38, 24, ...  \n",
       "44185  [42, 65, 62, 86, 66, 53, 32, 35, 70, 46, 53, 5...  \n",
       "44186  [0, -1, 1, 2, 2, 2, 0, 1, 2, 2, 3, 1, 0, 2, 1,...  \n",
       "44187  [-11, -12, -4, -3, -4, -3, -3, -2, 5, 6, 4, 7,...  \n",
       "44188  [22, 25, 28, 34, 41, 40, 34, 33, 38, 37, 27, 1...  \n",
       "44189  [0, 0, 0, 1, -1, -3, -2, -3, -3, 0, -2, -2, 1,...  \n",
       "52109  [1, 3, -1, 0, 3, -1, -1, 2, 1, -1, 4, 0, -4, 4...  \n",
       "52110  [7, 8, 7, 5, 2, 0, 2, 2, 4, 2, 3, 6, -3, -6, -...  \n",
       "52111  [-32, -72, -86, -81, -57, -15, -5, -22, -73, -...  \n",
       "52112  [-6, -2, -5, -9, -7, -6, -4, 4, 12, 18, 20, 17...  \n",
       "52113  [0, 0, 1, -2, -1, 0, 1, -2, -1, -2, -3, 0, 0, ...  \n",
       "55822  [4, -5, 3, -2, -4, 6, -3, 3, 2, -3, 2, 5, -7, ...  \n",
       "55823  [-7, -9, -11, -3, -4, -1, -5, -10, -5, -7, -5,...  \n",
       "55824  [3, 1, -4, -6, -7, -6, -3, 3, 6, 4, 2, 1, 0, -...  \n",
       "55825  [0, 0, 0, 0, 0, 0, 0, 0, 0, 2, 1, 0, 0, 0, 0, ...  \n",
       "55826  [-35, -40, -43, -45, -55, -66, -74, -83, -72, ...  \n",
       "57923  [-7437, 4925, -7282, -531, -2526, -4575, -1070...  \n",
       "57924  [-12069, -3646, 7185, -7925, 1352, -701, -9696...  \n",
       "57925  [-22684, -10710, -10813, 3735, -20530, -9173, ...  \n",
       "57926  [20899, 593, -722, 513, 24149, 5578, 14883, -3...  \n",
       "57927  [-8138, 20432, 22238, -6882, -22876, 24646, -1...  "
      ]
     },
     "execution_count": 9,
     "metadata": {},
     "output_type": "execute_result"
    }
   ],
   "source": [
    "train_df.groupby(by=['label']).head()"
   ]
  },
  {
   "cell_type": "code",
   "execution_count": 12,
   "metadata": {},
   "outputs": [
    {
     "data": {
      "text/plain": [
       "label                                                    stop\n",
       "label_id                                                    8\n",
       "user_id                                              5a9f7324\n",
       "wav_file               train/audio/stop/5a9f7324_nohash_2.wav\n",
       "sound       [-32, -72, -86, -81, -57, -15, -5, -22, -73, -...\n",
       "Name: 52111, dtype: object"
      ]
     },
     "execution_count": 12,
     "metadata": {},
     "output_type": "execute_result"
    }
   ],
   "source": [
    "train_df.loc()[52111]"
   ]
  },
  {
   "cell_type": "code",
   "execution_count": 11,
   "metadata": {},
   "outputs": [],
   "source": [
    "from scipy.io import wavfile"
   ]
  },
  {
   "cell_type": "code",
   "execution_count": 13,
   "metadata": {},
   "outputs": [],
   "source": [
    "sample = train_df.sound[52111]"
   ]
  },
  {
   "cell_type": "code",
   "execution_count": 14,
   "metadata": {},
   "outputs": [],
   "source": [
    "S = librosa.feature.melspectrogram(sample, sr=16000, n_mels=128)"
   ]
  },
  {
   "cell_type": "code",
   "execution_count": 15,
   "metadata": {},
   "outputs": [
    {
     "data": {
      "text/plain": [
       "(128, 32)"
      ]
     },
     "execution_count": 15,
     "metadata": {},
     "output_type": "execute_result"
    }
   ],
   "source": [
    "S.shape"
   ]
  },
  {
   "cell_type": "code",
   "execution_count": 16,
   "metadata": {},
   "outputs": [],
   "source": [
    "log_S = librosa.power_to_db(S, ref=np.max)"
   ]
  },
  {
   "cell_type": "code",
   "execution_count": 17,
   "metadata": {},
   "outputs": [
    {
     "data": {
      "text/plain": [
       "(128, 32)"
      ]
     },
     "execution_count": 17,
     "metadata": {},
     "output_type": "execute_result"
    }
   ],
   "source": [
    "log_S.shape"
   ]
  },
  {
   "cell_type": "code",
   "execution_count": 18,
   "metadata": {},
   "outputs": [
    {
     "data": {
      "image/png": "[encoded data removed]",
      "text/plain": [
       "<matplotlib.figure.Figure at 0x7f9297971e48>"
      ]
     },
     "metadata": {},
     "output_type": "display_data"
    }
   ],
   "source": [
    "plt.figure(figsize=(12, 4))\n",
    "librosa.display.specshow(log_S, sr=16000, x_axis='time', y_axis='mel')\n",
    "plt.title('Mel power spectrogram ')\n",
    "plt.colorbar(format='%+02.0f dB')\n",
    "plt.tight_layout()"
   ]
  },
  {
   "cell_type": "code",
   "execution_count": 19,
   "metadata": {},
   "outputs": [],
   "source": [
    "def process_wavs(X, max_len = 16000, n_mels = 128):\n",
    "    \"\"\"Turns audio into a spectrogram, used on validation data\"\"\"\n",
    "    x_spec = np.zeros((len(X), 128, 32, 1))\n",
    "    for i, fn in enumerate(X):\n",
    "        _, wave = scipy.io.wavfile.read(fn)\n",
    "        wave = wave[:max_len]\n",
    "        wave = np.pad(wave, (0, max_len-wave.shape[0]), 'minimum')\n",
    "        S = librosa.feature.melspectrogram(wave, sr=16000, n_mels=n_mels)\n",
    "        log_S = librosa.power_to_db(S, ref=np.max)\n",
    "        x_spec[i,:,:,0] = log_S\n",
    "    return x_spec"
   ]
  },
  {
   "cell_type": "markdown",
   "metadata": {},
   "source": [
    "Learn parameters for normalization on ENTIRE training data before running the batches."
   ]
  },
  {
   "cell_type": "code",
   "execution_count": 20,
   "metadata": {},
   "outputs": [],
   "source": [
    "def process_wavs2(X, max_len = 16000, n_mels = 128):\n",
    "    \"\"\"Turns audio into a spectrogram, used on training data\"\"\"\n",
    "    x_spec = np.zeros((len(X), 128, 32, 1))\n",
    "    for i, wave in enumerate(X):\n",
    "        wave = wave[:max_len]\n",
    "        \n",
    "        # makes sure we have consistent data, chops or pads.\n",
    "        wave = np.pad(wave, (0, max_len-wave.shape[0]), 'minimum')\n",
    "        S = librosa.feature.melspectrogram(wave, sr=16000, n_mels=n_mels)\n",
    "        log_S = librosa.power_to_db(S, ref=np.max)\n",
    "        x_spec[i,:,:,0] = log_S\n",
    "    \n",
    "    # TODO: normalize features \n",
    "#     x_shift = x_mfcc - (np.mean(x_mfcc, axis=1, keepdims=True) + 1e-8)\n",
    "    \n",
    "    return x_spec"
   ]
  },
  {
   "cell_type": "code",
   "execution_count": 25,
   "metadata": {},
   "outputs": [
    {
     "data": {
      "text/plain": [
       "(16000,)"
      ]
     },
     "execution_count": 25,
     "metadata": {},
     "output_type": "execute_result"
    }
   ],
   "source": [
    "train_df.sound[52110].shape"
   ]
  },
  {
   "cell_type": "code",
   "execution_count": 32,
   "metadata": {},
   "outputs": [],
   "source": [
    "newx = process_wavs2(train_df.sound[52110:52120])"
   ]
  },
  {
   "cell_type": "code",
   "execution_count": 42,
   "metadata": {},
   "outputs": [
    {
     "data": {
      "text/plain": [
       "<matplotlib.image.AxesImage at 0x7f9296a2b9b0>"
      ]
     },
     "execution_count": 42,
     "metadata": {},
     "output_type": "execute_result"
    },
    {
     "data": {
      "image/png": "[encoded data removed]",
      "text/plain": [
       "<matplotlib.figure.Figure at 0x7f9296c0e0b8>"
      ]
     },
     "metadata": {},
     "output_type": "display_data"
    }
   ],
   "source": [
    "plt.figure(figsize=(7,7))\n",
    "plt.imshow(newx[8,:,:,0].T, cmap='binary')"
   ]
  },
  {
   "cell_type": "code",
   "execution_count": 61,
   "metadata": {},
   "outputs": [],
   "source": [
    "x_train_vec = process_wavs2(train_df.sound)\n",
    "x_val_vec = process_wavs(valid_df.wav_file)"
   ]
  },
  {
   "cell_type": "code",
   "execution_count": 62,
   "metadata": {},
   "outputs": [],
   "source": [
    "y_train_vec = train_df.label_id.as_matrix()\n",
    "y_val_vec = valid_df.label_id.as_matrix()"
   ]
  },
  {
   "cell_type": "code",
   "execution_count": 64,
   "metadata": {},
   "outputs": [
    {
     "data": {
      "text/plain": [
       "<matplotlib.image.AxesImage at 0x7f0606664668>"
      ]
     },
     "execution_count": 64,
     "metadata": {},
     "output_type": "execute_result"
    },
    {
     "data": {
      "image/png": "[encoded data removed]",
      "text/plain": [
       "<matplotlib.figure.Figure at 0x7f0606a5e8d0>"
      ]
     },
     "metadata": {},
     "output_type": "display_data"
    }
   ],
   "source": [
    "plt.figure(figsize=(7,7))\n",
    "plt.imshow(x_train_vec[6,:,:,0].T, cmap='plasma')"
   ]
  },
  {
   "cell_type": "code",
   "execution_count": 65,
   "metadata": {},
   "outputs": [
    {
     "name": "stdout",
     "output_type": "stream",
     "text": [
      "4 2106\n",
      "10 36818\n",
      "1 2105\n",
      "6 2110\n",
      "5 2111\n",
      "3 2095\n",
      "9 2112\n",
      "0 2116\n",
      "2 2115\n",
      "8 2134\n",
      "7 2101\n",
      "11 3600\n"
     ]
    }
   ],
   "source": [
    "for word_class in train_df.label_id.unique():\n",
    "    print(word_class, train_df.label_id.value_counts()[word_class])"
   ]
  },
  {
   "cell_type": "code",
   "execution_count": 66,
   "metadata": {},
   "outputs": [],
   "source": [
    "class_weight = {word_class: train_df.label_id.value_counts()[word_class] for word_class in train_df.label_id.unique()}"
   ]
  },
  {
   "cell_type": "code",
   "execution_count": 67,
   "metadata": {},
   "outputs": [],
   "source": [
    "class_weight = {ind: len(train_df)/val for ind, val in class_weight.items()}"
   ]
  },
  {
   "cell_type": "code",
   "execution_count": 68,
   "metadata": {},
   "outputs": [
    {
     "data": {
      "text/plain": [
       "{0: 29.075141776937617,\n",
       " 1: 29.227078384798101,\n",
       " 2: 29.088888888888889,\n",
       " 3: 29.366587112171839,\n",
       " 4: 29.213200379867047,\n",
       " 5: 29.14400757934628,\n",
       " 6: 29.15781990521327,\n",
       " 7: 29.282722513089006,\n",
       " 8: 28.829896907216494,\n",
       " 9: 29.130208333333332,\n",
       " 10: 1.6710033135966103,\n",
       " 11: 17.089722222222221}"
      ]
     },
     "execution_count": 68,
     "metadata": {},
     "output_type": "execute_result"
    }
   ],
   "source": [
    "class_weight"
   ]
  },
  {
   "cell_type": "code",
   "execution_count": 69,
   "metadata": {},
   "outputs": [
    {
     "name": "stderr",
     "output_type": "stream",
     "text": [
      "Using TensorFlow backend.\n",
      "/home/ubuntu/anaconda3/envs/tensorflow_p36/lib/python3.6/importlib/_bootstrap.py:219: RuntimeWarning: compiletime version 3.5 of module 'tensorflow.python.framework.fast_tensor_util' does not match runtime version 3.6\n",
      "  return f(*args, **kwds)\n"
     ]
    }
   ],
   "source": [
    "import keras\n",
    "import keras.backend as K\n",
    "# from keras.utils.vis_utils import model_to_dot\n",
    "# from IPython.display import SVG\n",
    "# import vis"
   ]
  },
  {
   "cell_type": "code",
   "execution_count": 70,
   "metadata": {},
   "outputs": [],
   "source": [
    "num_labels = 12"
   ]
  },
  {
   "cell_type": "code",
   "execution_count": 71,
   "metadata": {},
   "outputs": [
    {
     "data": {
      "text/plain": [
       "unknown    36818\n",
       "silence     3600\n",
       "stop        2134\n",
       "yes         2116\n",
       "up          2115\n",
       "go          2112\n",
       "right       2111\n",
       "on          2110\n",
       "left        2106\n",
       "no          2105\n",
       "off         2101\n",
       "down        2095\n",
       "Name: label, dtype: int64"
      ]
     },
     "execution_count": 71,
     "metadata": {},
     "output_type": "execute_result"
    }
   ],
   "source": [
    "train_df.label.value_counts()"
   ]
  },
  {
   "cell_type": "code",
   "execution_count": 72,
   "metadata": {},
   "outputs": [],
   "source": [
    "from keras.wrappers.scikit_learn import KerasClassifier\n",
    "from sklearn.model_selection import cross_val_score\n",
    "from sklearn.model_selection import KFold\n",
    "from sklearn.metrics import confusion_matrix\n",
    "\n",
    "import random\n"
   ]
  },
  {
   "cell_type": "code",
   "execution_count": 73,
   "metadata": {},
   "outputs": [
    {
     "data": {
      "text/plain": [
       "(128, 32, 1)"
      ]
     },
     "execution_count": 73,
     "metadata": {},
     "output_type": "execute_result"
    }
   ],
   "source": [
    "x_train_vec[0].shape"
   ]
  },
  {
   "cell_type": "code",
   "execution_count": 75,
   "metadata": {},
   "outputs": [
    {
     "name": "stdout",
     "output_type": "stream",
     "text": [
      "_________________________________________________________________\n",
      "Layer (type)                 Output Shape              Param #   \n",
      "=================================================================\n",
      "input_2 (InputLayer)         (None, 128, 32, 1)        0         \n",
      "_________________________________________________________________\n",
      "conv2d_4 (Conv2D)            (None, 128, 32, 64)       10304     \n",
      "_________________________________________________________________\n",
      "max_pooling2d_4 (MaxPooling2 (None, 64, 16, 64)        0         \n",
      "_________________________________________________________________\n",
      "batch_normalization_4 (Batch (None, 64, 16, 64)        256       \n",
      "_________________________________________________________________\n",
      "conv2d_5 (Conv2D)            (None, 64, 16, 64)        163904    \n",
      "_________________________________________________________________\n",
      "max_pooling2d_5 (MaxPooling2 (None, 32, 8, 64)         0         \n",
      "_________________________________________________________________\n",
      "batch_normalization_5 (Batch (None, 32, 8, 64)         256       \n",
      "_________________________________________________________________\n",
      "conv2d_6 (Conv2D)            (None, 32, 8, 64)         41024     \n",
      "_________________________________________________________________\n",
      "max_pooling2d_6 (MaxPooling2 (None, 16, 4, 64)         0         \n",
      "_________________________________________________________________\n",
      "batch_normalization_6 (Batch (None, 16, 4, 64)         256       \n",
      "_________________________________________________________________\n",
      "flatten_2 (Flatten)          (None, 4096)              0         \n",
      "_________________________________________________________________\n",
      "dense_4 (Dense)              (None, 500)               2048500   \n",
      "_________________________________________________________________\n",
      "dropout_3 (Dropout)          (None, 500)               0         \n",
      "_________________________________________________________________\n",
      "dense_5 (Dense)              (None, 250)               125250    \n",
      "_________________________________________________________________\n",
      "dropout_4 (Dropout)          (None, 250)               0         \n",
      "_________________________________________________________________\n",
      "dense_6 (Dense)              (None, 12)                3012      \n",
      "=================================================================\n",
      "Total params: 2,392,762\n",
      "Trainable params: 2,392,378\n",
      "Non-trainable params: 384\n",
      "_________________________________________________________________\n",
      "None\n"
     ]
    }
   ],
   "source": [
    "model = keras.Sequential([\n",
    "    keras.layers.InputLayer(input_shape=(128,32,1)),\n",
    "    keras.layers.Conv2D(64, kernel_size=(20,8), strides=1, padding='same', activation='relu'),\n",
    "    keras.layers.MaxPool2D(pool_size=(2,2), padding='same'),\n",
    "    keras.layers.BatchNormalization(),\n",
    "    keras.layers.Conv2D(64, kernel_size=(10,4), padding='same', activation='relu'),\n",
    "    keras.layers.MaxPool2D(pool_size=(2,2), padding='same'),\n",
    "    keras.layers.BatchNormalization(),\n",
    "    keras.layers.Conv2D(64, kernel_size=(5,2), padding='same', activation='relu'),\n",
    "    keras.layers.MaxPool2D(pool_size=(2,2), padding='same'),\n",
    "    keras.layers.BatchNormalization(),\n",
    "    keras.layers.Flatten(),\n",
    "    keras.layers.Dense(500, activation=\"relu\"),\n",
    "    keras.layers.Dropout(.4),\n",
    "    keras.layers.Dense(250, activation=\"relu\"),\n",
    "    keras.layers.Dropout(.4),\n",
    "    keras.layers.Dense(num_labels, activation=\"softmax\")\n",
    "])\n",
    "\n",
    "model.compile(loss='sparse_categorical_crossentropy', \n",
    "               optimizer='nadam',\n",
    "               metrics=['accuracy'])\n",
    "print(model.summary())"
   ]
  },
  {
   "cell_type": "code",
   "execution_count": 76,
   "metadata": {},
   "outputs": [],
   "source": [
    "from tensorflow.python.keras.callbacks import EarlyStopping"
   ]
  },
  {
   "cell_type": "code",
   "execution_count": 77,
   "metadata": {},
   "outputs": [],
   "source": [
    "callbacks = [EarlyStopping(monitor='val_loss',\n",
    "                           patience=5,\n",
    "                           verbose=1,\n",
    "                           min_delta=0.01,\n",
    "                           mode='min')]"
   ]
  },
  {
   "cell_type": "code",
   "execution_count": 78,
   "metadata": {
    "scrolled": false
   },
   "outputs": [
    {
     "name": "stdout",
     "output_type": "stream",
     "text": [
      "Train on 61523 samples, validate on 6798 samples\n",
      "Epoch 1/50\n",
      "61523/61523 [==============================] - 97s 2ms/step - loss: 17.6314 - acc: 0.3833 - val_loss: 1.9444 - val_acc: 0.5243\n",
      "Epoch 2/50\n",
      "61523/61523 [==============================] - 91s 1ms/step - loss: 6.7479 - acc: 0.6992 - val_loss: 0.8898 - val_acc: 0.7118\n",
      "Epoch 3/50\n",
      "61523/61523 [==============================] - 91s 1ms/step - loss: 4.7327 - acc: 0.7887 - val_loss: 0.7653 - val_acc: 0.7474\n",
      "Epoch 4/50\n",
      "61523/61523 [==============================] - 91s 1ms/step - loss: 3.6037 - acc: 0.8367 - val_loss: 2.2435 - val_acc: 0.4544\n",
      "Epoch 5/50\n",
      "61523/61523 [==============================] - 91s 1ms/step - loss: 3.0236 - acc: 0.8601 - val_loss: 0.5173 - val_acc: 0.8379\n",
      "Epoch 6/50\n",
      "61523/61523 [==============================] - 90s 1ms/step - loss: 2.5726 - acc: 0.8819 - val_loss: 0.4262 - val_acc: 0.8698\n",
      "Epoch 7/50\n",
      "61523/61523 [==============================] - 90s 1ms/step - loss: 2.2428 - acc: 0.8925 - val_loss: 0.4625 - val_acc: 0.8516\n",
      "Epoch 8/50\n",
      "61523/61523 [==============================] - 90s 1ms/step - loss: 2.0025 - acc: 0.9021 - val_loss: 0.7166 - val_acc: 0.8023\n",
      "Epoch 9/50\n",
      "61523/61523 [==============================] - 90s 1ms/step - loss: 1.8956 - acc: 0.9104 - val_loss: 1.3527 - val_acc: 0.6571\n",
      "Epoch 10/50\n",
      "61523/61523 [==============================] - 90s 1ms/step - loss: 1.7325 - acc: 0.9142 - val_loss: 0.6179 - val_acc: 0.8098\n",
      "Epoch 11/50\n",
      "61523/61523 [==============================] - 90s 1ms/step - loss: 1.5998 - acc: 0.9217 - val_loss: 0.4858 - val_acc: 0.8635\n",
      "Epoch 12/50\n",
      "61523/61523 [==============================] - 90s 1ms/step - loss: 1.4888 - acc: 0.9274 - val_loss: 0.3201 - val_acc: 0.9020\n",
      "Epoch 13/50\n",
      "61523/61523 [==============================] - 90s 1ms/step - loss: 1.3487 - acc: 0.9340 - val_loss: 0.3122 - val_acc: 0.9057\n",
      "Epoch 14/50\n",
      "61523/61523 [==============================] - 90s 1ms/step - loss: 1.1681 - acc: 0.9404 - val_loss: 0.3244 - val_acc: 0.9032\n",
      "Epoch 15/50\n",
      "61523/61523 [==============================] - 90s 1ms/step - loss: 1.4081 - acc: 0.9320 - val_loss: 0.7954 - val_acc: 0.7860\n",
      "Epoch 16/50\n",
      "61523/61523 [==============================] - 90s 1ms/step - loss: 1.1820 - acc: 0.9376 - val_loss: 0.3082 - val_acc: 0.9139\n",
      "Epoch 17/50\n",
      "61523/61523 [==============================] - 90s 1ms/step - loss: 1.2794 - acc: 0.9393 - val_loss: 0.3418 - val_acc: 0.9060\n",
      "Epoch 18/50\n",
      "61523/61523 [==============================] - 90s 1ms/step - loss: 0.9440 - acc: 0.9502 - val_loss: 0.4296 - val_acc: 0.8854\n",
      "Epoch 19/50\n",
      "61523/61523 [==============================] - 90s 1ms/step - loss: 1.0565 - acc: 0.9448 - val_loss: 0.6118 - val_acc: 0.8586\n",
      "Epoch 20/50\n",
      "61523/61523 [==============================] - 90s 1ms/step - loss: 0.9899 - acc: 0.9467 - val_loss: 0.2657 - val_acc: 0.9348\n",
      "Epoch 21/50\n",
      "61523/61523 [==============================] - 90s 1ms/step - loss: 0.9112 - acc: 0.9510 - val_loss: 0.3224 - val_acc: 0.9204\n",
      "Epoch 22/50\n",
      "61523/61523 [==============================] - 90s 1ms/step - loss: 0.9385 - acc: 0.9525 - val_loss: 0.3606 - val_acc: 0.9112\n",
      "Epoch 23/50\n",
      "61523/61523 [==============================] - 90s 1ms/step - loss: 0.8756 - acc: 0.9537 - val_loss: 0.6845 - val_acc: 0.8008\n",
      "Epoch 24/50\n",
      "61523/61523 [==============================] - 90s 1ms/step - loss: 0.8306 - acc: 0.9574 - val_loss: 0.3493 - val_acc: 0.9141\n",
      "Epoch 25/50\n",
      "61523/61523 [==============================] - 90s 1ms/step - loss: 0.7998 - acc: 0.9572 - val_loss: 0.4159 - val_acc: 0.8901\n",
      "Epoch 26/50\n",
      "61523/61523 [==============================] - 90s 1ms/step - loss: 0.7273 - acc: 0.9628 - val_loss: 0.2770 - val_acc: 0.9313\n",
      "Epoch 00025: early stopping\n"
     ]
    }
   ],
   "source": [
    "history = model.fit(x_train_vec, y_train_vec,\n",
    "                              batch_size = 256,\n",
    "                              epochs=50,\n",
    "                              verbose=1, \n",
    "                              callbacks=callbacks,\n",
    "                              validation_data=(x_val_vec, y_val_vec),\n",
    "                              class_weight = class_weight)"
   ]
  },
  {
   "cell_type": "code",
   "execution_count": 79,
   "metadata": {},
   "outputs": [],
   "source": [
    "y_val_pred = model.predict(x_val_vec)"
   ]
  },
  {
   "cell_type": "code",
   "execution_count": 80,
   "metadata": {},
   "outputs": [
    {
     "data": {
      "text/plain": [
       "array([  8.58943076e-06,   4.08974499e-09,   3.58739172e-08,\n",
       "         8.30903080e-09,   9.98210549e-01,   3.82175926e-07,\n",
       "         9.12427645e-09,   6.80424606e-08,   7.93476662e-09,\n",
       "         2.64033396e-11,   1.78024941e-03,   2.12554844e-12], dtype=float32)"
      ]
     },
     "execution_count": 80,
     "metadata": {},
     "output_type": "execute_result"
    }
   ],
   "source": [
    "y_val_pred[0]"
   ]
  },
  {
   "cell_type": "code",
   "execution_count": 81,
   "metadata": {},
   "outputs": [],
   "source": [
    "y_val_pred2 = np.array([np.argmax(pred) for pred in y_val_pred])"
   ]
  },
  {
   "cell_type": "code",
   "execution_count": 82,
   "metadata": {},
   "outputs": [],
   "source": [
    "y_val_pred_label = np.vectorize(id2name.get)(y_val_pred2)"
   ]
  },
  {
   "cell_type": "code",
   "execution_count": 83,
   "metadata": {},
   "outputs": [],
   "source": [
    "val_df = pd.Series(y_val_pred_label)"
   ]
  },
  {
   "cell_type": "code",
   "execution_count": 84,
   "metadata": {},
   "outputs": [
    {
     "data": {
      "text/plain": [
       "unknown    4042\n",
       "right       329\n",
       "no          308\n",
       "up          283\n",
       "off         283\n",
       "on          273\n",
       "down        270\n",
       "left        259\n",
       "yes         258\n",
       "go          256\n",
       "stop        237\n",
       "dtype: int64"
      ]
     },
     "execution_count": 84,
     "metadata": {},
     "output_type": "execute_result"
    }
   ],
   "source": [
    "val_df.value_counts()"
   ]
  },
  {
   "cell_type": "code",
   "execution_count": 85,
   "metadata": {},
   "outputs": [],
   "source": [
    "test_files = glob.glob('test/audio/*wav')"
   ]
  },
  {
   "cell_type": "code",
   "execution_count": 86,
   "metadata": {},
   "outputs": [
    {
     "data": {
      "text/plain": [
       "['test/audio/clip_bd6d0fb25.wav',\n",
       " 'test/audio/clip_3e7a56353.wav',\n",
       " 'test/audio/clip_c5884a6cb.wav',\n",
       " 'test/audio/clip_ebf0d1f7b.wav',\n",
       " 'test/audio/clip_2f714f052.wav',\n",
       " 'test/audio/clip_05bfe5e6a.wav',\n",
       " 'test/audio/clip_317b4a205.wav',\n",
       " 'test/audio/clip_292983fee.wav',\n",
       " 'test/audio/clip_e086bfc8e.wav',\n",
       " 'test/audio/clip_d0d7fa566.wav']"
      ]
     },
     "execution_count": 86,
     "metadata": {},
     "output_type": "execute_result"
    }
   ],
   "source": [
    "test_files[:10]"
   ]
  },
  {
   "cell_type": "code",
   "execution_count": 87,
   "metadata": {},
   "outputs": [],
   "source": [
    "x_test = process_wavs(test_files)"
   ]
  },
  {
   "cell_type": "code",
   "execution_count": 102,
   "metadata": {},
   "outputs": [],
   "source": [
    "np.save('x_test_processed_dec2_melpower.npy', x_test)"
   ]
  },
  {
   "cell_type": "code",
   "execution_count": 49,
   "metadata": {},
   "outputs": [],
   "source": [
    "# x_test = np.load('x_test_processed_dec2.npy')"
   ]
  },
  {
   "cell_type": "code",
   "execution_count": 88,
   "metadata": {},
   "outputs": [
    {
     "data": {
      "text/plain": [
       "(158538, 128, 32, 1)"
      ]
     },
     "execution_count": 88,
     "metadata": {},
     "output_type": "execute_result"
    }
   ],
   "source": [
    "x_test.shape"
   ]
  },
  {
   "cell_type": "code",
   "execution_count": 145,
   "metadata": {},
   "outputs": [],
   "source": [
    "# np.save('x_test_processed', x_test)"
   ]
  },
  {
   "cell_type": "code",
   "execution_count": 89,
   "metadata": {},
   "outputs": [],
   "source": [
    "y_test_pred = model.predict(x_test)"
   ]
  },
  {
   "cell_type": "code",
   "execution_count": 90,
   "metadata": {},
   "outputs": [
    {
     "data": {
      "text/plain": [
       "array([  8.86572980e-31,   7.58602090e-28,   5.84584743e-23,\n",
       "         3.93925460e-21,   3.17911530e-26,   9.09257614e-23,\n",
       "         1.00000000e+00,   5.47893865e-17,   1.19858986e-28,\n",
       "         3.63230937e-20,   3.93065858e-11,   1.33844350e-38], dtype=float32)"
      ]
     },
     "execution_count": 90,
     "metadata": {},
     "output_type": "execute_result"
    }
   ],
   "source": [
    "y_test_pred[1]"
   ]
  },
  {
   "cell_type": "code",
   "execution_count": 91,
   "metadata": {},
   "outputs": [],
   "source": [
    "y_test_pred2 = np.array([np.argmax(pred) for pred in y_test_pred])"
   ]
  },
  {
   "cell_type": "code",
   "execution_count": 92,
   "metadata": {},
   "outputs": [
    {
     "data": {
      "text/plain": [
       "(158538,)"
      ]
     },
     "execution_count": 92,
     "metadata": {},
     "output_type": "execute_result"
    }
   ],
   "source": [
    "y_test_pred2.shape"
   ]
  },
  {
   "cell_type": "code",
   "execution_count": 93,
   "metadata": {},
   "outputs": [],
   "source": [
    "y_test_pred_label = np.vectorize(id2name.get)(y_test_pred2)"
   ]
  },
  {
   "cell_type": "code",
   "execution_count": 94,
   "metadata": {},
   "outputs": [],
   "source": [
    "labels_df = pd.Series(y_test_pred_label)"
   ]
  },
  {
   "cell_type": "code",
   "execution_count": 95,
   "metadata": {},
   "outputs": [
    {
     "data": {
      "text/plain": [
       "unknown    84393\n",
       "off         8673\n",
       "silence     8299\n",
       "no          7917\n",
       "right       7489\n",
       "on          6906\n",
       "left        6497\n",
       "up          6349\n",
       "stop        5855\n",
       "yes         5553\n",
       "down        5503\n",
       "go          5104\n",
       "dtype: int64"
      ]
     },
     "execution_count": 95,
     "metadata": {},
     "output_type": "execute_result"
    }
   ],
   "source": [
    "labels_df.value_counts()"
   ]
  },
  {
   "cell_type": "code",
   "execution_count": 96,
   "metadata": {},
   "outputs": [
    {
     "data": {
      "text/plain": [
       "(158538,)"
      ]
     },
     "execution_count": 96,
     "metadata": {},
     "output_type": "execute_result"
    }
   ],
   "source": [
    "y_test_pred_label.shape"
   ]
  },
  {
   "cell_type": "code",
   "execution_count": 97,
   "metadata": {},
   "outputs": [
    {
     "data": {
      "text/plain": [
       "array(['no', 'on', 'no', 'right', 'off', 'yes', 'right', 'silence', 'off',\n",
       "       'unknown'],\n",
       "      dtype='<U7')"
      ]
     },
     "execution_count": 97,
     "metadata": {},
     "output_type": "execute_result"
    }
   ],
   "source": [
    "y_test_pred_label[:10]"
   ]
  },
  {
   "cell_type": "code",
   "execution_count": 98,
   "metadata": {},
   "outputs": [],
   "source": [
    "test_files2 = [file.replace('test/audio/', \"\") for file in test_files]"
   ]
  },
  {
   "cell_type": "code",
   "execution_count": 99,
   "metadata": {},
   "outputs": [
    {
     "data": {
      "text/plain": [
       "['clip_bd6d0fb25.wav',\n",
       " 'clip_3e7a56353.wav',\n",
       " 'clip_c5884a6cb.wav',\n",
       " 'clip_ebf0d1f7b.wav',\n",
       " 'clip_2f714f052.wav',\n",
       " 'clip_05bfe5e6a.wav',\n",
       " 'clip_317b4a205.wav',\n",
       " 'clip_292983fee.wav',\n",
       " 'clip_e086bfc8e.wav',\n",
       " 'clip_d0d7fa566.wav']"
      ]
     },
     "execution_count": 99,
     "metadata": {},
     "output_type": "execute_result"
    }
   ],
   "source": [
    "test_files2[:10]"
   ]
  },
  {
   "cell_type": "code",
   "execution_count": 100,
   "metadata": {},
   "outputs": [],
   "source": [
    "with open('ccmm_submission_dec2_4.csv', 'w') as fout:\n",
    "    fout.write('fname,label\\n')\n",
    "    for i in range(len(y_test_pred_label)):\n",
    "        fout.write('{},{}\\n'.format(test_files2[i], y_test_pred_label[i]))"
   ]
  },
  {
   "cell_type": "code",
   "execution_count": 101,
   "metadata": {},
   "outputs": [],
   "source": [
    "model.save('model_dec2_3CNNs_melpower.h5')"
   ]
  },
  {
   "cell_type": "code",
   "execution_count": null,
   "metadata": {},
   "outputs": [],
   "source": []
  },
  {
   "cell_type": "code",
   "execution_count": null,
   "metadata": {},
   "outputs": [],
   "source": []
  }
 ],
 "metadata": {
  "kernelspec": {
   "display_name": "Python 3",
   "language": "python",
   "name": "python3"
  },
  "language_info": {
   "codemirror_mode": {
    "name": "ipython",
    "version": 3
   },
   "file_extension": ".py",
   "mimetype": "text/x-python",
   "name": "python",
   "nbconvert_exporter": "python",
   "pygments_lexer": "ipython3",
   "version": "3.6.3"
  }
 },
 "nbformat": 4,
 "nbformat_minor": 2
}
