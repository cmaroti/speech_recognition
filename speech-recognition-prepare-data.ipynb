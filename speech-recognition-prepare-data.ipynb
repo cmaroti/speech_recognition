{
 "cells": [
  {
   "cell_type": "markdown",
   "metadata": {},
   "source": [
    "# Prepare Files from TensorFlow Speech Recognition Challenge\n",
    "### Table of Contents:\n",
    "1. [Imports](#imports)\n",
    "2. [Load data](#loaddata)\n",
    "3. [Extract silence clips](#silence)\n",
    "4. [Read word clips](#words)\n",
    "5. [Silence df](#silencedf)\n",
    "6. [Re-add silence data](#addsilence)\n",
    "7. [Pickle training data](#pickle)"
   ]
  },
  {
   "cell_type": "markdown",
   "metadata": {},
   "source": [
    "<a id=\"imports\"></a>\n",
    "## 1. Imports"
   ]
  },
  {
   "cell_type": "code",
   "execution_count": 1,
   "metadata": {},
   "outputs": [],
   "source": [
    "import pandas as pd\n",
    "import numpy as np\n",
    "import glob\n",
    "import scipy\n",
    "import matplotlib.pyplot as plt\n",
    "import re\n",
    "import os\n",
    "%matplotlib inline"
   ]
  },
  {
   "cell_type": "markdown",
   "metadata": {},
   "source": [
    "<a id=\"loaddata\"></a>\n",
    "## 2. Load raw wav files"
   ]
  },
  {
   "cell_type": "code",
   "execution_count": 2,
   "metadata": {},
   "outputs": [],
   "source": [
    "POSSIBLE_LABELS = 'yes no up down left right on off stop go unknown silence'.split()\n",
    "id2name = {i: name for i, name in enumerate(POSSIBLE_LABELS)}\n",
    "name2id = {name: i for i, name in id2name.items()}"
   ]
  },
  {
   "cell_type": "markdown",
   "metadata": {},
   "source": [
    "Load data (borrowed from [this kernel](https://www.kaggle.com/sainathadapa/keras-starter-code))"
   ]
  },
  {
   "cell_type": "code",
   "execution_count": 3,
   "metadata": {},
   "outputs": [],
   "source": [
    "def load_data(data_dir):\n",
    "    \"\"\" Return 2 lists of tuples:\n",
    "    [(class_id, user_id, path), ...] for train\n",
    "    [(class_id, user_id, path), ...] for validation\n",
    "    \"\"\"\n",
    "    # Just a simple regexp for paths with three groups:\n",
    "    # prefix, label, user_id\n",
    "    pattern = re.compile(\"(.+\\/)?(\\w+)\\/([^_]+)_.+wav\")\n",
    "    all_files = glob.glob('train/audio/*/*wav')\n",
    "\n",
    "    with open(os.path.join(data_dir, 'train/validation_list.txt'), 'r') as fin:\n",
    "        validation_files = fin.readlines()\n",
    "    valset = set()\n",
    "    for entry in validation_files:\n",
    "        r = re.match(pattern, entry)\n",
    "        if r:\n",
    "            valset.add(r.group(3))\n",
    "\n",
    "    possible = set(POSSIBLE_LABELS)\n",
    "    train, val = [], []\n",
    "    for entry in all_files:\n",
    "        r = re.match(pattern, entry)\n",
    "        if r:\n",
    "            label, uid = r.group(2), r.group(3)\n",
    "            if label == '_background_noise_':\n",
    "                label = 'silence'\n",
    "            if label not in possible:\n",
    "                label = 'unknown'\n",
    "\n",
    "            label_id = name2id[label]\n",
    "\n",
    "            sample = (label, label_id, uid, entry)\n",
    "            if uid in valset:\n",
    "                val.append(sample)\n",
    "            else:\n",
    "                train.append(sample)\n",
    "\n",
    "    print('There are {} train and {} val samples'.format(len(train), len(val)))\n",
    "    \n",
    "    columns_list = ['label', 'label_id', 'user_id', 'wav_file']\n",
    "    \n",
    "    train_df = pd.DataFrame(train, columns = columns_list)\n",
    "    valid_df = pd.DataFrame(val, columns = columns_list)\n",
    "    \n",
    "    return train_df, valid_df"
   ]
  },
  {
   "cell_type": "code",
   "execution_count": 4,
   "metadata": {},
   "outputs": [
    {
     "name": "stdout",
     "output_type": "stream",
     "text": [
      "There are 57929 train and 6798 val samples\n"
     ]
    }
   ],
   "source": [
    "train_df, valid_df = load_data('./')"
   ]
  },
  {
   "cell_type": "markdown",
   "metadata": {},
   "source": [
    "### Pickle validation df for later"
   ]
  },
  {
   "cell_type": "code",
   "execution_count": 5,
   "metadata": {},
   "outputs": [],
   "source": [
    "pd.to_pickle(valid_df, 'valid_df_dec10.pkl')"
   ]
  },
  {
   "cell_type": "markdown",
   "metadata": {},
   "source": [
    "<a id=\"silence\"></a>\n",
    "## 3. Extract 1-sec clips of background noise"
   ]
  },
  {
   "cell_type": "code",
   "execution_count": 6,
   "metadata": {},
   "outputs": [],
   "source": [
    "silence_df = train_df[train_df.label == 'silence']"
   ]
  },
  {
   "cell_type": "code",
   "execution_count": 7,
   "metadata": {},
   "outputs": [
    {
     "data": {
      "text/html": [
       "<div>\n",
       "<style scoped>\n",
       "    .dataframe tbody tr th:only-of-type {\n",
       "        vertical-align: middle;\n",
       "    }\n",
       "\n",
       "    .dataframe tbody tr th {\n",
       "        vertical-align: top;\n",
       "    }\n",
       "\n",
       "    .dataframe thead th {\n",
       "        text-align: right;\n",
       "    }\n",
       "</style>\n",
       "<table border=\"1\" class=\"dataframe\">\n",
       "  <thead>\n",
       "    <tr style=\"text-align: right;\">\n",
       "      <th></th>\n",
       "      <th>label</th>\n",
       "      <th>label_id</th>\n",
       "      <th>user_id</th>\n",
       "      <th>wav_file</th>\n",
       "    </tr>\n",
       "  </thead>\n",
       "  <tbody>\n",
       "    <tr>\n",
       "      <th>13113</th>\n",
       "      <td>silence</td>\n",
       "      <td>11</td>\n",
       "      <td>white</td>\n",
       "      <td>train/audio/_background_noise_/white_noise.wav</td>\n",
       "    </tr>\n",
       "    <tr>\n",
       "      <th>13114</th>\n",
       "      <td>silence</td>\n",
       "      <td>11</td>\n",
       "      <td>dude</td>\n",
       "      <td>train/audio/_background_noise_/dude_miaowing.wav</td>\n",
       "    </tr>\n",
       "    <tr>\n",
       "      <th>13115</th>\n",
       "      <td>silence</td>\n",
       "      <td>11</td>\n",
       "      <td>exercise</td>\n",
       "      <td>train/audio/_background_noise_/exercise_bike.wav</td>\n",
       "    </tr>\n",
       "    <tr>\n",
       "      <th>13116</th>\n",
       "      <td>silence</td>\n",
       "      <td>11</td>\n",
       "      <td>pink</td>\n",
       "      <td>train/audio/_background_noise_/pink_noise.wav</td>\n",
       "    </tr>\n",
       "    <tr>\n",
       "      <th>13117</th>\n",
       "      <td>silence</td>\n",
       "      <td>11</td>\n",
       "      <td>doing</td>\n",
       "      <td>train/audio/_background_noise_/doing_the_dishe...</td>\n",
       "    </tr>\n",
       "    <tr>\n",
       "      <th>13118</th>\n",
       "      <td>silence</td>\n",
       "      <td>11</td>\n",
       "      <td>running</td>\n",
       "      <td>train/audio/_background_noise_/running_tap.wav</td>\n",
       "    </tr>\n",
       "  </tbody>\n",
       "</table>\n",
       "</div>"
      ],
      "text/plain": [
       "         label  label_id   user_id  \\\n",
       "13113  silence        11     white   \n",
       "13114  silence        11      dude   \n",
       "13115  silence        11  exercise   \n",
       "13116  silence        11      pink   \n",
       "13117  silence        11     doing   \n",
       "13118  silence        11   running   \n",
       "\n",
       "                                                wav_file  \n",
       "13113     train/audio/_background_noise_/white_noise.wav  \n",
       "13114   train/audio/_background_noise_/dude_miaowing.wav  \n",
       "13115   train/audio/_background_noise_/exercise_bike.wav  \n",
       "13116      train/audio/_background_noise_/pink_noise.wav  \n",
       "13117  train/audio/_background_noise_/doing_the_dishe...  \n",
       "13118     train/audio/_background_noise_/running_tap.wav  "
      ]
     },
     "execution_count": 7,
     "metadata": {},
     "output_type": "execute_result"
    }
   ],
   "source": [
    "silence_df"
   ]
  },
  {
   "cell_type": "code",
   "execution_count": 8,
   "metadata": {},
   "outputs": [],
   "source": [
    "from scipy.io import wavfile"
   ]
  },
  {
   "cell_type": "code",
   "execution_count": 9,
   "metadata": {},
   "outputs": [
    {
     "name": "stderr",
     "output_type": "stream",
     "text": [
      "/home/ubuntu/anaconda3/envs/tensorflow_p36/lib/python3.6/site-packages/scipy/io/wavfile.py:273: WavFileWarning: Chunk (non-data) not understood, skipping it.\n",
      "  WavFileWarning)\n"
     ]
    }
   ],
   "source": [
    "silence_data = np.array(silence_df.wav_file.apply(wavfile.read))"
   ]
  },
  {
   "cell_type": "code",
   "execution_count": 10,
   "metadata": {},
   "outputs": [
    {
     "name": "stdout",
     "output_type": "stream",
     "text": [
      "16000 (960000,)\n",
      "16000 (988891,)\n",
      "16000 (980062,)\n",
      "16000 (960000,)\n",
      "16000 (1522930,)\n",
      "16000 (978488,)\n"
     ]
    }
   ],
   "source": [
    "for sound in silence_data:\n",
    "    print(sound[0], sound[1].shape)"
   ]
  },
  {
   "cell_type": "markdown",
   "metadata": {},
   "source": [
    "### Grab random 1-sec chunks"
   ]
  },
  {
   "cell_type": "code",
   "execution_count": 11,
   "metadata": {},
   "outputs": [],
   "source": [
    "silence_chunks = []\n",
    "clip_len = 16000\n",
    "for sound in silence_data:\n",
    "    for i in range(1200):\n",
    "        ind = np.random.randint(0, (len(sound[1])-clip_len))\n",
    "        silence_chunks.append(sound[1][ind:ind+16000])"
   ]
  },
  {
   "cell_type": "code",
   "execution_count": 12,
   "metadata": {},
   "outputs": [],
   "source": [
    "silence_chunks = np.array(silence_chunks)"
   ]
  },
  {
   "cell_type": "code",
   "execution_count": 13,
   "metadata": {},
   "outputs": [
    {
     "data": {
      "text/plain": [
       "(7200, 16000)"
      ]
     },
     "execution_count": 13,
     "metadata": {},
     "output_type": "execute_result"
    }
   ],
   "source": [
    "silence_chunks.shape"
   ]
  },
  {
   "cell_type": "code",
   "execution_count": 14,
   "metadata": {},
   "outputs": [
    {
     "data": {
      "text/plain": [
       "array([[ -4163,   3851,  10032, ...,   7667,   1763,  -6531],\n",
       "       [ 10960,  -8411,  -3434, ...,   5189,   6680, -10271],\n",
       "       [-12228,   1646,   8555, ..., -12629,   5617,  -3621],\n",
       "       ..., \n",
       "       [   510,  -1164,    136, ...,   -530,   1297,  -1638],\n",
       "       [  -348,   3059,   -295, ...,  -1193,    726,   1191],\n",
       "       [  2987,  -1575,  -3197, ...,  -1839,   -974,   1681]], dtype=int16)"
      ]
     },
     "execution_count": 14,
     "metadata": {},
     "output_type": "execute_result"
    }
   ],
   "source": [
    "silence_chunks"
   ]
  },
  {
   "cell_type": "markdown",
   "metadata": {},
   "source": [
    "<a id=\"words\"></a>\n",
    "## 4. Read data for word files"
   ]
  },
  {
   "cell_type": "code",
   "execution_count": 15,
   "metadata": {},
   "outputs": [],
   "source": [
    "word_data = np.array(train_df[train_df.label_id != 11].wav_file.apply(wavfile.read))"
   ]
  },
  {
   "cell_type": "code",
   "execution_count": 16,
   "metadata": {},
   "outputs": [
    {
     "data": {
      "text/plain": [
       "(57923,)"
      ]
     },
     "execution_count": 16,
     "metadata": {},
     "output_type": "execute_result"
    }
   ],
   "source": [
    "word_data2 = [sr_wav[1] for sr_wav in word_data]\n",
    "word_data2 = np.array(word_data2)\n",
    "word_data2.shape"
   ]
  },
  {
   "cell_type": "code",
   "execution_count": 17,
   "metadata": {},
   "outputs": [
    {
     "data": {
      "text/plain": [
       "(57923, 4)"
      ]
     },
     "execution_count": 17,
     "metadata": {},
     "output_type": "execute_result"
    }
   ],
   "source": [
    "train_df = train_df[train_df.label_id != 11]\n",
    "train_df.shape"
   ]
  },
  {
   "cell_type": "code",
   "execution_count": 18,
   "metadata": {},
   "outputs": [
    {
     "data": {
      "text/html": [
       "<div>\n",
       "<style scoped>\n",
       "    .dataframe tbody tr th:only-of-type {\n",
       "        vertical-align: middle;\n",
       "    }\n",
       "\n",
       "    .dataframe tbody tr th {\n",
       "        vertical-align: top;\n",
       "    }\n",
       "\n",
       "    .dataframe thead th {\n",
       "        text-align: right;\n",
       "    }\n",
       "</style>\n",
       "<table border=\"1\" class=\"dataframe\">\n",
       "  <thead>\n",
       "    <tr style=\"text-align: right;\">\n",
       "      <th></th>\n",
       "      <th>label</th>\n",
       "      <th>label_id</th>\n",
       "      <th>user_id</th>\n",
       "      <th>wav_file</th>\n",
       "    </tr>\n",
       "  </thead>\n",
       "  <tbody>\n",
       "    <tr>\n",
       "      <th>0</th>\n",
       "      <td>left</td>\n",
       "      <td>4</td>\n",
       "      <td>cb8f8307</td>\n",
       "      <td>train/audio/left/cb8f8307_nohash_1.wav</td>\n",
       "    </tr>\n",
       "  </tbody>\n",
       "</table>\n",
       "</div>"
      ],
      "text/plain": [
       "  label  label_id   user_id                                wav_file\n",
       "0  left         4  cb8f8307  train/audio/left/cb8f8307_nohash_1.wav"
      ]
     },
     "execution_count": 18,
     "metadata": {},
     "output_type": "execute_result"
    }
   ],
   "source": [
    "train_df.head(1)"
   ]
  },
  {
   "cell_type": "markdown",
   "metadata": {},
   "source": [
    "<a id=\"silencedf\"></a>\n",
    "## 5. Create silence DataFrame"
   ]
  },
  {
   "cell_type": "code",
   "execution_count": 19,
   "metadata": {},
   "outputs": [
    {
     "data": {
      "text/plain": [
       "(7200, 4)"
      ]
     },
     "execution_count": 19,
     "metadata": {},
     "output_type": "execute_result"
    }
   ],
   "source": [
    "silence_df2 = pd.DataFrame(columns=['label', 'label_id', 'user_id', 'wav_file'])\n",
    "for i in range(6):\n",
    "    silence_df2 = silence_df2.append([silence_df.iloc()[i]]*1200)\n",
    "silence_df2.shape"
   ]
  },
  {
   "cell_type": "code",
   "execution_count": 20,
   "metadata": {},
   "outputs": [
    {
     "data": {
      "text/html": [
       "<div>\n",
       "<style scoped>\n",
       "    .dataframe tbody tr th:only-of-type {\n",
       "        vertical-align: middle;\n",
       "    }\n",
       "\n",
       "    .dataframe tbody tr th {\n",
       "        vertical-align: top;\n",
       "    }\n",
       "\n",
       "    .dataframe thead th {\n",
       "        text-align: right;\n",
       "    }\n",
       "</style>\n",
       "<table border=\"1\" class=\"dataframe\">\n",
       "  <thead>\n",
       "    <tr style=\"text-align: right;\">\n",
       "      <th></th>\n",
       "      <th>label</th>\n",
       "      <th>label_id</th>\n",
       "      <th>user_id</th>\n",
       "      <th>wav_file</th>\n",
       "    </tr>\n",
       "  </thead>\n",
       "  <tbody>\n",
       "    <tr>\n",
       "      <th>13113</th>\n",
       "      <td>silence</td>\n",
       "      <td>11</td>\n",
       "      <td>white</td>\n",
       "      <td>train/audio/_background_noise_/white_noise.wav</td>\n",
       "    </tr>\n",
       "    <tr>\n",
       "      <th>13114</th>\n",
       "      <td>silence</td>\n",
       "      <td>11</td>\n",
       "      <td>dude</td>\n",
       "      <td>train/audio/_background_noise_/dude_miaowing.wav</td>\n",
       "    </tr>\n",
       "    <tr>\n",
       "      <th>13115</th>\n",
       "      <td>silence</td>\n",
       "      <td>11</td>\n",
       "      <td>exercise</td>\n",
       "      <td>train/audio/_background_noise_/exercise_bike.wav</td>\n",
       "    </tr>\n",
       "    <tr>\n",
       "      <th>13116</th>\n",
       "      <td>silence</td>\n",
       "      <td>11</td>\n",
       "      <td>pink</td>\n",
       "      <td>train/audio/_background_noise_/pink_noise.wav</td>\n",
       "    </tr>\n",
       "    <tr>\n",
       "      <th>13117</th>\n",
       "      <td>silence</td>\n",
       "      <td>11</td>\n",
       "      <td>doing</td>\n",
       "      <td>train/audio/_background_noise_/doing_the_dishe...</td>\n",
       "    </tr>\n",
       "    <tr>\n",
       "      <th>13118</th>\n",
       "      <td>silence</td>\n",
       "      <td>11</td>\n",
       "      <td>running</td>\n",
       "      <td>train/audio/_background_noise_/running_tap.wav</td>\n",
       "    </tr>\n",
       "  </tbody>\n",
       "</table>\n",
       "</div>"
      ],
      "text/plain": [
       "         label  label_id   user_id  \\\n",
       "13113  silence        11     white   \n",
       "13114  silence        11      dude   \n",
       "13115  silence        11  exercise   \n",
       "13116  silence        11      pink   \n",
       "13117  silence        11     doing   \n",
       "13118  silence        11   running   \n",
       "\n",
       "                                                wav_file  \n",
       "13113     train/audio/_background_noise_/white_noise.wav  \n",
       "13114   train/audio/_background_noise_/dude_miaowing.wav  \n",
       "13115   train/audio/_background_noise_/exercise_bike.wav  \n",
       "13116      train/audio/_background_noise_/pink_noise.wav  \n",
       "13117  train/audio/_background_noise_/doing_the_dishe...  \n",
       "13118     train/audio/_background_noise_/running_tap.wav  "
      ]
     },
     "execution_count": 20,
     "metadata": {},
     "output_type": "execute_result"
    }
   ],
   "source": [
    "silence_df"
   ]
  },
  {
   "cell_type": "code",
   "execution_count": 21,
   "metadata": {},
   "outputs": [
    {
     "data": {
      "text/html": [
       "<div>\n",
       "<style scoped>\n",
       "    .dataframe tbody tr th:only-of-type {\n",
       "        vertical-align: middle;\n",
       "    }\n",
       "\n",
       "    .dataframe tbody tr th {\n",
       "        vertical-align: top;\n",
       "    }\n",
       "\n",
       "    .dataframe thead th {\n",
       "        text-align: right;\n",
       "    }\n",
       "</style>\n",
       "<table border=\"1\" class=\"dataframe\">\n",
       "  <thead>\n",
       "    <tr style=\"text-align: right;\">\n",
       "      <th></th>\n",
       "      <th>label</th>\n",
       "      <th>label_id</th>\n",
       "      <th>user_id</th>\n",
       "      <th>wav_file</th>\n",
       "    </tr>\n",
       "  </thead>\n",
       "  <tbody>\n",
       "    <tr>\n",
       "      <th>13113</th>\n",
       "      <td>silence</td>\n",
       "      <td>11</td>\n",
       "      <td>white</td>\n",
       "      <td>train/audio/_background_noise_/white_noise.wav</td>\n",
       "    </tr>\n",
       "    <tr>\n",
       "      <th>13113</th>\n",
       "      <td>silence</td>\n",
       "      <td>11</td>\n",
       "      <td>white</td>\n",
       "      <td>train/audio/_background_noise_/white_noise.wav</td>\n",
       "    </tr>\n",
       "  </tbody>\n",
       "</table>\n",
       "</div>"
      ],
      "text/plain": [
       "         label label_id user_id  \\\n",
       "13113  silence       11   white   \n",
       "13113  silence       11   white   \n",
       "\n",
       "                                             wav_file  \n",
       "13113  train/audio/_background_noise_/white_noise.wav  \n",
       "13113  train/audio/_background_noise_/white_noise.wav  "
      ]
     },
     "execution_count": 21,
     "metadata": {},
     "output_type": "execute_result"
    }
   ],
   "source": [
    "silence_df2.head(2)"
   ]
  },
  {
   "cell_type": "markdown",
   "metadata": {},
   "source": [
    "<a id=\"addsilence\"></a>\n",
    "## 6. Add silence data back to training data"
   ]
  },
  {
   "cell_type": "code",
   "execution_count": 22,
   "metadata": {},
   "outputs": [
    {
     "data": {
      "text/html": [
       "<div>\n",
       "<style scoped>\n",
       "    .dataframe tbody tr th:only-of-type {\n",
       "        vertical-align: middle;\n",
       "    }\n",
       "\n",
       "    .dataframe tbody tr th {\n",
       "        vertical-align: top;\n",
       "    }\n",
       "\n",
       "    .dataframe thead th {\n",
       "        text-align: right;\n",
       "    }\n",
       "</style>\n",
       "<table border=\"1\" class=\"dataframe\">\n",
       "  <thead>\n",
       "    <tr style=\"text-align: right;\">\n",
       "      <th></th>\n",
       "      <th>index</th>\n",
       "      <th>label</th>\n",
       "      <th>label_id</th>\n",
       "      <th>user_id</th>\n",
       "      <th>wav_file</th>\n",
       "    </tr>\n",
       "  </thead>\n",
       "  <tbody>\n",
       "    <tr>\n",
       "      <th>65121</th>\n",
       "      <td>13118</td>\n",
       "      <td>silence</td>\n",
       "      <td>11</td>\n",
       "      <td>running</td>\n",
       "      <td>train/audio/_background_noise_/running_tap.wav</td>\n",
       "    </tr>\n",
       "    <tr>\n",
       "      <th>65122</th>\n",
       "      <td>13118</td>\n",
       "      <td>silence</td>\n",
       "      <td>11</td>\n",
       "      <td>running</td>\n",
       "      <td>train/audio/_background_noise_/running_tap.wav</td>\n",
       "    </tr>\n",
       "  </tbody>\n",
       "</table>\n",
       "</div>"
      ],
      "text/plain": [
       "       index    label label_id  user_id  \\\n",
       "65121  13118  silence       11  running   \n",
       "65122  13118  silence       11  running   \n",
       "\n",
       "                                             wav_file  \n",
       "65121  train/audio/_background_noise_/running_tap.wav  \n",
       "65122  train/audio/_background_noise_/running_tap.wav  "
      ]
     },
     "execution_count": 22,
     "metadata": {},
     "output_type": "execute_result"
    }
   ],
   "source": [
    "train_df = train_df.append(silence_df2)\n",
    "train_df.reset_index(inplace=True)\n",
    "train_df.tail(2)"
   ]
  },
  {
   "cell_type": "code",
   "execution_count": 23,
   "metadata": {},
   "outputs": [
    {
     "data": {
      "text/html": [
       "<div>\n",
       "<style scoped>\n",
       "    .dataframe tbody tr th:only-of-type {\n",
       "        vertical-align: middle;\n",
       "    }\n",
       "\n",
       "    .dataframe tbody tr th {\n",
       "        vertical-align: top;\n",
       "    }\n",
       "\n",
       "    .dataframe thead th {\n",
       "        text-align: right;\n",
       "    }\n",
       "</style>\n",
       "<table border=\"1\" class=\"dataframe\">\n",
       "  <thead>\n",
       "    <tr style=\"text-align: right;\">\n",
       "      <th></th>\n",
       "      <th>label</th>\n",
       "      <th>label_id</th>\n",
       "      <th>user_id</th>\n",
       "      <th>wav_file</th>\n",
       "    </tr>\n",
       "  </thead>\n",
       "  <tbody>\n",
       "    <tr>\n",
       "      <th>65121</th>\n",
       "      <td>silence</td>\n",
       "      <td>11</td>\n",
       "      <td>running</td>\n",
       "      <td>train/audio/_background_noise_/running_tap.wav</td>\n",
       "    </tr>\n",
       "    <tr>\n",
       "      <th>65122</th>\n",
       "      <td>silence</td>\n",
       "      <td>11</td>\n",
       "      <td>running</td>\n",
       "      <td>train/audio/_background_noise_/running_tap.wav</td>\n",
       "    </tr>\n",
       "  </tbody>\n",
       "</table>\n",
       "</div>"
      ],
      "text/plain": [
       "         label label_id  user_id  \\\n",
       "65121  silence       11  running   \n",
       "65122  silence       11  running   \n",
       "\n",
       "                                             wav_file  \n",
       "65121  train/audio/_background_noise_/running_tap.wav  \n",
       "65122  train/audio/_background_noise_/running_tap.wav  "
      ]
     },
     "execution_count": 23,
     "metadata": {},
     "output_type": "execute_result"
    }
   ],
   "source": [
    "train_df.drop(labels=[\"index\"], axis=1, inplace=True)\n",
    "train_df.tail(2)"
   ]
  },
  {
   "cell_type": "code",
   "execution_count": 24,
   "metadata": {},
   "outputs": [
    {
     "data": {
      "text/plain": [
       "65123"
      ]
     },
     "execution_count": 24,
     "metadata": {},
     "output_type": "execute_result"
    }
   ],
   "source": [
    "all_sounds = list(word_data2)\n",
    "all_sounds.extend(silence_chunks)\n",
    "len(all_sounds)"
   ]
  },
  {
   "cell_type": "markdown",
   "metadata": {},
   "source": [
    "<a id=\"pickle\"></a>\n",
    "## 7. Pickle training df"
   ]
  },
  {
   "cell_type": "code",
   "execution_count": 25,
   "metadata": {},
   "outputs": [],
   "source": [
    "train_df['sound'] = all_sounds"
   ]
  },
  {
   "cell_type": "code",
   "execution_count": 26,
   "metadata": {},
   "outputs": [
    {
     "data": {
      "text/html": [
       "<div>\n",
       "<style scoped>\n",
       "    .dataframe tbody tr th:only-of-type {\n",
       "        vertical-align: middle;\n",
       "    }\n",
       "\n",
       "    .dataframe tbody tr th {\n",
       "        vertical-align: top;\n",
       "    }\n",
       "\n",
       "    .dataframe thead th {\n",
       "        text-align: right;\n",
       "    }\n",
       "</style>\n",
       "<table border=\"1\" class=\"dataframe\">\n",
       "  <thead>\n",
       "    <tr style=\"text-align: right;\">\n",
       "      <th></th>\n",
       "      <th>label</th>\n",
       "      <th>label_id</th>\n",
       "      <th>user_id</th>\n",
       "      <th>wav_file</th>\n",
       "      <th>sound</th>\n",
       "    </tr>\n",
       "  </thead>\n",
       "  <tbody>\n",
       "    <tr>\n",
       "      <th>0</th>\n",
       "      <td>left</td>\n",
       "      <td>4</td>\n",
       "      <td>cb8f8307</td>\n",
       "      <td>train/audio/left/cb8f8307_nohash_1.wav</td>\n",
       "      <td>[-7, 21, -10, 6, -13, 7, 15, -23, 14, -12, 29,...</td>\n",
       "    </tr>\n",
       "    <tr>\n",
       "      <th>1</th>\n",
       "      <td>left</td>\n",
       "      <td>4</td>\n",
       "      <td>b7a0754f</td>\n",
       "      <td>train/audio/left/b7a0754f_nohash_2.wav</td>\n",
       "      <td>[-2, 6, 7, 3, -2, 2, 6, 6, 4, 5, 5, 11, 9, -1,...</td>\n",
       "    </tr>\n",
       "    <tr>\n",
       "      <th>2</th>\n",
       "      <td>left</td>\n",
       "      <td>4</td>\n",
       "      <td>0132a06d</td>\n",
       "      <td>train/audio/left/0132a06d_nohash_3.wav</td>\n",
       "      <td>[1, 2, 1, 2, 0, 1, 0, -2, 0, 1, 1, -1, -2, 0, ...</td>\n",
       "    </tr>\n",
       "    <tr>\n",
       "      <th>3</th>\n",
       "      <td>left</td>\n",
       "      <td>4</td>\n",
       "      <td>f92e49f3</td>\n",
       "      <td>train/audio/left/f92e49f3_nohash_4.wav</td>\n",
       "      <td>[2, 1, -1, -1, 0, 3, 1, -3, -5, -4, -2, 2, 2, ...</td>\n",
       "    </tr>\n",
       "    <tr>\n",
       "      <th>4</th>\n",
       "      <td>left</td>\n",
       "      <td>4</td>\n",
       "      <td>88053e92</td>\n",
       "      <td>train/audio/left/88053e92_nohash_1.wav</td>\n",
       "      <td>[1, 7, 10, 6, 9, 11, 7, 1, -5, -9, -11, -14, -...</td>\n",
       "    </tr>\n",
       "  </tbody>\n",
       "</table>\n",
       "</div>"
      ],
      "text/plain": [
       "  label label_id   user_id                                wav_file  \\\n",
       "0  left        4  cb8f8307  train/audio/left/cb8f8307_nohash_1.wav   \n",
       "1  left        4  b7a0754f  train/audio/left/b7a0754f_nohash_2.wav   \n",
       "2  left        4  0132a06d  train/audio/left/0132a06d_nohash_3.wav   \n",
       "3  left        4  f92e49f3  train/audio/left/f92e49f3_nohash_4.wav   \n",
       "4  left        4  88053e92  train/audio/left/88053e92_nohash_1.wav   \n",
       "\n",
       "                                               sound  \n",
       "0  [-7, 21, -10, 6, -13, 7, 15, -23, 14, -12, 29,...  \n",
       "1  [-2, 6, 7, 3, -2, 2, 6, 6, 4, 5, 5, 11, 9, -1,...  \n",
       "2  [1, 2, 1, 2, 0, 1, 0, -2, 0, 1, 1, -1, -2, 0, ...  \n",
       "3  [2, 1, -1, -1, 0, 3, 1, -3, -5, -4, -2, 2, 2, ...  \n",
       "4  [1, 7, 10, 6, 9, 11, 7, 1, -5, -9, -11, -14, -...  "
      ]
     },
     "execution_count": 26,
     "metadata": {},
     "output_type": "execute_result"
    }
   ],
   "source": [
    "train_df.head()"
   ]
  },
  {
   "cell_type": "code",
   "execution_count": 27,
   "metadata": {},
   "outputs": [
    {
     "data": {
      "text/html": [
       "<div>\n",
       "<style scoped>\n",
       "    .dataframe tbody tr th:only-of-type {\n",
       "        vertical-align: middle;\n",
       "    }\n",
       "\n",
       "    .dataframe tbody tr th {\n",
       "        vertical-align: top;\n",
       "    }\n",
       "\n",
       "    .dataframe thead th {\n",
       "        text-align: right;\n",
       "    }\n",
       "</style>\n",
       "<table border=\"1\" class=\"dataframe\">\n",
       "  <thead>\n",
       "    <tr style=\"text-align: right;\">\n",
       "      <th></th>\n",
       "      <th>label</th>\n",
       "      <th>label_id</th>\n",
       "      <th>user_id</th>\n",
       "      <th>wav_file</th>\n",
       "      <th>sound</th>\n",
       "    </tr>\n",
       "  </thead>\n",
       "  <tbody>\n",
       "    <tr>\n",
       "      <th>65118</th>\n",
       "      <td>silence</td>\n",
       "      <td>11</td>\n",
       "      <td>running</td>\n",
       "      <td>train/audio/_background_noise_/running_tap.wav</td>\n",
       "      <td>[570, -849, -678, 1372, -2457, -339, 560, -118...</td>\n",
       "    </tr>\n",
       "    <tr>\n",
       "      <th>65119</th>\n",
       "      <td>silence</td>\n",
       "      <td>11</td>\n",
       "      <td>running</td>\n",
       "      <td>train/audio/_background_noise_/running_tap.wav</td>\n",
       "      <td>[-2927, -659, 2299, 198, 1218, -1074, -2849, 4...</td>\n",
       "    </tr>\n",
       "    <tr>\n",
       "      <th>65120</th>\n",
       "      <td>silence</td>\n",
       "      <td>11</td>\n",
       "      <td>running</td>\n",
       "      <td>train/audio/_background_noise_/running_tap.wav</td>\n",
       "      <td>[510, -1164, 136, 425, -1003, -2090, 373, 4706...</td>\n",
       "    </tr>\n",
       "    <tr>\n",
       "      <th>65121</th>\n",
       "      <td>silence</td>\n",
       "      <td>11</td>\n",
       "      <td>running</td>\n",
       "      <td>train/audio/_background_noise_/running_tap.wav</td>\n",
       "      <td>[-348, 3059, -295, -837, 991, 1134, -419, -579...</td>\n",
       "    </tr>\n",
       "    <tr>\n",
       "      <th>65122</th>\n",
       "      <td>silence</td>\n",
       "      <td>11</td>\n",
       "      <td>running</td>\n",
       "      <td>train/audio/_background_noise_/running_tap.wav</td>\n",
       "      <td>[2987, -1575, -3197, 1662, 1680, -171, 39, 972...</td>\n",
       "    </tr>\n",
       "  </tbody>\n",
       "</table>\n",
       "</div>"
      ],
      "text/plain": [
       "         label label_id  user_id  \\\n",
       "65118  silence       11  running   \n",
       "65119  silence       11  running   \n",
       "65120  silence       11  running   \n",
       "65121  silence       11  running   \n",
       "65122  silence       11  running   \n",
       "\n",
       "                                             wav_file  \\\n",
       "65118  train/audio/_background_noise_/running_tap.wav   \n",
       "65119  train/audio/_background_noise_/running_tap.wav   \n",
       "65120  train/audio/_background_noise_/running_tap.wav   \n",
       "65121  train/audio/_background_noise_/running_tap.wav   \n",
       "65122  train/audio/_background_noise_/running_tap.wav   \n",
       "\n",
       "                                                   sound  \n",
       "65118  [570, -849, -678, 1372, -2457, -339, 560, -118...  \n",
       "65119  [-2927, -659, 2299, 198, 1218, -1074, -2849, 4...  \n",
       "65120  [510, -1164, 136, 425, -1003, -2090, 373, 4706...  \n",
       "65121  [-348, 3059, -295, -837, 991, 1134, -419, -579...  \n",
       "65122  [2987, -1575, -3197, 1662, 1680, -171, 39, 972...  "
      ]
     },
     "execution_count": 27,
     "metadata": {},
     "output_type": "execute_result"
    }
   ],
   "source": [
    "train_df.tail()"
   ]
  },
  {
   "cell_type": "code",
   "execution_count": 48,
   "metadata": {},
   "outputs": [],
   "source": [
    "train_df.to_pickle('train_df_dec10.pkl')"
   ]
  },
  {
   "cell_type": "code",
   "execution_count": 28,
   "metadata": {},
   "outputs": [
    {
     "data": {
      "text/plain": [
       "unknown    36818\n",
       "silence     7200\n",
       "stop        2134\n",
       "yes         2116\n",
       "up          2115\n",
       "go          2112\n",
       "right       2111\n",
       "on          2110\n",
       "left        2106\n",
       "no          2105\n",
       "off         2101\n",
       "down        2095\n",
       "Name: label, dtype: int64"
      ]
     },
     "execution_count": 28,
     "metadata": {},
     "output_type": "execute_result"
    }
   ],
   "source": [
    "train_df.label.value_counts()"
   ]
  },
  {
   "cell_type": "code",
   "execution_count": null,
   "metadata": {},
   "outputs": [],
   "source": []
  },
  {
   "cell_type": "code",
   "execution_count": null,
   "metadata": {},
   "outputs": [],
   "source": []
  },
  {
   "cell_type": "code",
   "execution_count": null,
   "metadata": {},
   "outputs": [],
   "source": []
  }
 ],
 "metadata": {
  "kernelspec": {
   "display_name": "Python 3",
   "language": "python",
   "name": "python3"
  },
  "language_info": {
   "codemirror_mode": {
    "name": "ipython",
    "version": 3
   },
   "file_extension": ".py",
   "mimetype": "text/x-python",
   "name": "python",
   "nbconvert_exporter": "python",
   "pygments_lexer": "ipython3",
   "version": "3.6.3"
  }
 },
 "nbformat": 4,
 "nbformat_minor": 2
}
